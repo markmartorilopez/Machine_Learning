{
 "cells": [
  {
   "attachments": {},
   "cell_type": "markdown",
   "metadata": {},
   "source": [
    "# AUTOCORRECT MODEL\n",
    "- IDENTIFY MISSPELLED WORDS. \"but without context...\"\n",
    "- MINIMIZE EDIT DISTANCES.\n",
    "- CALCULATE PROBABILITIES OF THE CORRECT WORD.\n",
    "-\n",
    "![Alt text](../../figures/iamlearning.png)\n",
    "- Get a word count given a corpus\n",
    "- Get a word probability in the corpus \n",
    "- Manipulate strings \n",
    "- Filter strings \n",
    "- Implement Minimum edit distance to compare strings and to help find the optimal path for the edits. \n",
    "- Understand how dynamic programming works"
   ]
  },
  {
   "attachments": {},
   "cell_type": "markdown",
   "metadata": {},
   "source": [
    "## 1. IDENTIFY A MISSPELLED WORD\n",
    "- When string word is NOT in dictionary. -> Spelling Error.\n",
    "- Context error (later in jupyter notebook)"
   ]
  },
  {
   "cell_type": "code",
   "execution_count": 1,
   "metadata": {},
   "outputs": [],
   "source": [
    "import re\n",
    "from collections import Counter\n",
    "import numpy as np\n",
    "import pandas as pd\n",
    "import random # Printing\n",
    "\n",
    "from utils.nlp import read_file_create_vocabulary"
   ]
  },
  {
   "cell_type": "code",
   "execution_count": 2,
   "metadata": {},
   "outputs": [
    {
     "name": "stdout",
     "output_type": "stream",
     "text": [
      "10 words:\n",
      "['those', 'valour', 'likes', 'admirable', 'scorn', 'bertram', 'rational', 'charge', '85', 'dimpled']\n",
      "There are 6116 unique words.\n",
      "\n",
      "Words | Number of times\n",
      "[('o', 157), ('for', 474), ('a', 757)]\n"
     ]
    }
   ],
   "source": [
    "# Set path to text file\n",
    "text_file = \"../../DATA/shakespeare.txt\"\n",
    "\n",
    "# Get vocabulary - Read a file and output each unique word and the num. times they appear.\n",
    "vocabulary = read_file_create_vocabulary(text_file, probabilities = False, information=True)\n",
    "\n",
    "print(\n",
    "    f\"\\nWords | Number of times\\n{list(vocabulary.items())[0:3]}\"\n",
    ")"
   ]
  },
  {
   "attachments": {},
   "cell_type": "markdown",
   "metadata": {},
   "source": [
    "## 2. MINIMUM EDIT DISTANCE - FIND STRINGS \"n\" EDIT DISTANCE AWAY\n",
    "- Edit: Operation performed on a string to change it into another string.\n",
    "- Minimum Edit distance: Minimum number of operations away one string is from another.\n",
    "- Types of Edit:\n",
    "- - Insert. (\"to\", \"top\", \"too\")\n",
    "- - Delete. (\"hat\", \"ha\", \"at\")\n",
    "- - Switch to adjacents. (\"eta\", \"eat\", \"tea\") BUT NO \"ate\" (change only ADJACENT).\n",
    "- - Replace. (\"jaw\", \"jar\", \"paw\")\n",
    "-\n",
    "-\n",
    "- n_edit distance is usually between 1 and 3.\n",
    "-\n",
    "- MINIMUM EDIT DISTANCE:\n",
    "- - Allows to implement:\n",
    "- - + SPELLING CORRECTION\n",
    "- - + DOCUMENT SIMILARITY\n",
    "- - + MACHINE TRANSLATION\n",
    "- - + DNA SEQUENCING\n",
    "##### Each EDIT can have different COST.\n",
    "- These costs will give us the edit distance.\n",
    "![Alt text](../../figures/editminimumdist.png)\n",
    "##### Notice that to know distance from p -> s, we need to know the cell above (insertion, from # -> s), the cell to the left (deletion, from p -> #) and the adjacent upper left (replace).\n",
    "![Alt text](../../figures/dynamicprogramming.png)\n",
    "#### LEVENSHTEIN DISTANCE (Insert:1, Delte:1, Replace:2 Cost)\n",
    "- Use BACKSTRACE \"pointer that tells where does the path come from\" for strings alignment."
   ]
  },
  {
   "cell_type": "code",
   "execution_count": null,
   "metadata": {},
   "outputs": [],
   "source": [
    "def min_edit_distance(source, target, ins_cost = 1, del_cost = 1, rep_cost = 2):\n",
    "    '''\n",
    "    Input: \n",
    "        source: a string corresponding to the string you are starting with\n",
    "        target: a string corresponding to the string you want to end with\n",
    "        ins_cost: an integer setting the insert cost\n",
    "        del_cost: an integer setting the delete cost\n",
    "        rep_cost: an integer setting the replace cost\n",
    "    Output:\n",
    "        D: a matrix of len(source)+1 by len(target)+1 containing minimum edit distances\n",
    "        med: the minimum edit distance (med) required to convert the source string to the target\n",
    "    '''\n",
    "    # use deletion and insert cost as  1\n",
    "    m = len(source) \n",
    "    n = len(target) \n",
    "    #initialize cost matrix with zeros and dimensions (m+1,n+1) \n",
    "    D = np.zeros((m+1, n+1), dtype=int) \n",
    "        \n",
    "    # Fill in column 0, from row 1 to row m, both inclusive\n",
    "    for row in range(0,m+1): # Replace None with the proper range\n",
    "        D[row,0] = row*ins_cost\n",
    "        \n",
    "    # Fill in row 0, for all columns from 1 to n, both inclusive\n",
    "    for col in range(0,n+1): # Replace None with the proper range\n",
    "        D[0,col] = col*ins_cost\n",
    "        \n",
    "    # Loop through row 1 to row m, both inclusive\n",
    "    for row in range(1,m+1):\n",
    "        # Loop through column 1 to column n, both inclusive\n",
    "        for col in range(1,n+1):\n",
    "            \n",
    "            # Intialize r_cost to the 'replace' cost that is passed into this function\n",
    "            r_cost = rep_cost\n",
    "            \n",
    "            # Check to see if source character at the previous row\n",
    "            # matches the target character at the previous column, \n",
    "            if source[row-1]==target[col-1]: # Replace None with a proper comparison\n",
    "                # Update the replacement cost to 0 if source and target are the same\n",
    "                r_cost = 0\n",
    "                \n",
    "            # Update the cost at row, col based on previous entries in the cost matrix\n",
    "            # Refer to the equation calculate for D[i,j] (the minimum of three calculated costs)\n",
    "            D[row,col] = min(D[row-1,col-1]+r_cost,D[row-1,col]+del_cost,D[row,col-1]+ins_cost)\n",
    "            \n",
    "    # Set the minimum edit distance with the cost found at row m, column n \n",
    "    med = D[m,n]\n",
    "    \n",
    "    return D, med"
   ]
  },
  {
   "attachments": {},
   "cell_type": "markdown",
   "metadata": {},
   "source": [
    "## 3. FILTER CANDIDATES\n",
    "- Consider only real words. After applying step2. We may need to compare the results with the dictionary.\n",
    "- Similar to step 1.\n",
    "- This time, if the string does not appear, remove it as candidate."
   ]
  },
  {
   "attachments": {},
   "cell_type": "markdown",
   "metadata": {},
   "source": [
    "## 4. CALCULATE WORD PROBABILITIES\n",
    "- Once we have:\n",
    "- Word | num. times it appears in corpus.\n",
    "-\n",
    "- We can calculate the probabilities of each word such as:\n",
    "- P(word_i) = Number of times word_i appears / Total number of words not unique.\n",
    "-"
   ]
  },
  {
   "cell_type": "code",
   "execution_count": 4,
   "metadata": {},
   "outputs": [
    {
     "name": "stdout",
     "output_type": "stream",
     "text": [
      "10 words:\n",
      "['alters', 'golden', 'puissant', 'fading', 'receivest', 'supposes', 'gave', 'decays', 'action', 'rare']\n",
      "There are 6116 unique words.\n",
      "\n",
      "Words | Probability\n",
      "[('o', 0.0029283396127877045), ('for', 0.008840974372365426), ('a', 0.01411944641325027)]\n"
     ]
    }
   ],
   "source": [
    "# Set path to text file\n",
    "text_file = \"../../DATA/shakespeare.txt\"\n",
    "\n",
    "# Get vocabulary - Read a file and output each unique word and the num. times they appear.\n",
    "vocabulary = read_file_create_vocabulary(text_file, probabilities = True, information=True)\n",
    "\n",
    "print(\n",
    "    f\"\\nWords | Probability\\n{list(vocabulary.items())[0:3]}\"\n",
    ")"
   ]
  },
  {
   "attachments": {},
   "cell_type": "markdown",
   "metadata": {},
   "source": [
    "## AUTOCORRECTOR"
   ]
  },
  {
   "cell_type": "code",
   "execution_count": 5,
   "metadata": {},
   "outputs": [],
   "source": [
    "from utils.nlp import StringOperations\n",
    "autocorrector = StringOperations()"
   ]
  },
  {
   "attachments": {},
   "cell_type": "markdown",
   "metadata": {},
   "source": [
    "### 1. Create possible corrections and get word with higher probability"
   ]
  },
  {
   "cell_type": "code",
   "execution_count": 10,
   "metadata": {},
   "outputs": [
    {
     "data": {
      "text/plain": [
       "[('die', 0.0005595553400231282), ('sir', 0.0021636139814227625)]"
      ]
     },
     "execution_count": 10,
     "metadata": {},
     "output_type": "execute_result"
    }
   ],
   "source": [
    "autocorrector.get_corrections(  word=\"dir\",\n",
    "                                words_probs=vocabulary,\n",
    "                                number_corrections=2)"
   ]
  },
  {
   "attachments": {},
   "cell_type": "markdown",
   "metadata": {},
   "source": [
    "### 2. Dynammic Programming\n",
    "\n",
    "$$\\text{Initialization}$$\n",
    "\n",
    "Note that the formula for $D[i,j]$ shown in the image is equivalent to:\n",
    "\n",
    "\\begin{align}\n",
    " \\\\\n",
    "D[i,j] =min\n",
    "\\begin{cases}\n",
    "D[i-1,j] + del\\_cost\\\\\n",
    "D[i,j-1] + ins\\_cost\\\\\n",
    "D[i-1,j-1] + \\left\\{\\begin{matrix}\n",
    "rep\\_cost; & if src[i]\\neq tar[j]\\\\\n",
    "0 ; & if src[i]=tar[j]\n",
    "\\end{matrix}\\right.\n",
    "\\end{cases}\n",
    "\\tag{5}\n",
    "\\end{align}\n",
    "\n",
    "The variable `sub_cost` (for substitution cost) is the same as `rep_cost`; replacement cost.  We will stick with the term \"replace\" whenever possible.\n",
    "\n",
    "So converting the source word **play** to the target word **stay**, using an input cost of one, a delete cost of 1, and replace cost of 2 would give you the following table:\n",
    "<table style=\"width:20%\">\n",
    "\n",
    "  <tr>\n",
    "    <td> <b> </b>  </td>\n",
    "    <td> <b># </b>  </td>\n",
    "    <td> <b>s </b>  </td>\n",
    "    <td> <b>t </b> </td> \n",
    "    <td> <b>a </b> </td> \n",
    "    <td> <b>y </b> </td> \n",
    "  </tr>\n",
    "   <tr>\n",
    "    <td> <b>  #  </b></td>\n",
    "    <td> 0</td> \n",
    "    <td> 1</td> \n",
    "    <td> 2</td> \n",
    "    <td> 3</td> \n",
    "    <td> 4</td> \n",
    " \n",
    "  </tr>\n",
    "  <tr>\n",
    "    <td> <b>  p  </b></td>\n",
    "    <td> 1</td> \n",
    " <td> 2</td> \n",
    "    <td> 3</td> \n",
    "    <td> 4</td> \n",
    "   <td> 5</td>\n",
    "  </tr>\n",
    "   \n",
    "  <tr>\n",
    "    <td> <b> l </b></td>\n",
    "    <td>2</td> \n",
    "    <td>3</td> \n",
    "    <td>4</td> \n",
    "    <td>5</td> \n",
    "    <td>6</td>\n",
    "  </tr>\n",
    "\n",
    "  <tr>\n",
    "    <td> <b> a </b></td>\n",
    "    <td>3</td> \n",
    "     <td>4</td> \n",
    "     <td>5</td> \n",
    "     <td>4</td>\n",
    "     <td>5</td> \n",
    "  </tr>\n",
    "  \n",
    "   <tr>\n",
    "    <td> <b> y </b></td>\n",
    "    <td>4</td> \n",
    "      <td>5</td> \n",
    "     <td>6</td> \n",
    "     <td>5</td>\n",
    "     <td>4</td> \n",
    "  </tr>\n",
    "  \n",
    "\n",
    "</table>\n",
    "\n"
   ]
  },
  {
   "cell_type": "code",
   "execution_count": 7,
   "metadata": {},
   "outputs": [
    {
     "name": "stdout",
     "output_type": "stream",
     "text": [
      "minimum edits:  4 \n",
      "\n",
      "   #  s  t  a  y\n",
      "#  0  1  2  3  4\n",
      "p  1  2  3  4  5\n",
      "l  2  3  4  5  6\n",
      "a  3  4  5  4  5\n",
      "y  4  5  6  5  4\n"
     ]
    }
   ],
   "source": [
    "source =  'play'\n",
    "target = 'stay'\n",
    "matrix, min_edits = min_edit_distance(source, target)\n",
    "print(\"minimum edits: \",min_edits, \"\\n\")\n",
    "idx = list('#' + source)\n",
    "cols = list('#' + target)\n",
    "df = pd.DataFrame(matrix, index=idx, columns= cols)\n",
    "print(df)"
   ]
  },
  {
   "attachments": {},
   "cell_type": "markdown",
   "metadata": {},
   "source": [
    "#### After computing matrix using minimum edit distance, how would find the shortest path from the top left corner to the bottom right corner? "
   ]
  },
  {
   "cell_type": "code",
   "execution_count": 8,
   "metadata": {},
   "outputs": [],
   "source": [
    "# BACKTRACE\n",
    "def back_trace(D):\n",
    "    '''\n",
    "    Input:\n",
    "        D : a matrix of len(source)+1 by len(target)+1 containing minimum edit distances\n",
    "    Output:\n",
    "        idx : a list of tuples (i,j) indices for shortest path\n",
    "    '''\n",
    "    source_l = D.shape[0]\n",
    "    target_l = D.shape[1]\n",
    "    \n",
    "    idx = []\n",
    "    \n",
    "    # BFS\n",
    "    i,j=source_l-1,target_l-1\n",
    "    idx.append((i,j))\n",
    "    while(i>0 and j>0):\n",
    "        cur = D[i,j]\n",
    "        candid = sorted([((i-1,j-1),D[i-1,j-1]),((i-1,j),D[i-1,j]),((i,j-1),D[i,j-1])],key = lambda x : x[1])\n",
    "        candid = candid[0]\n",
    "        idx.append(candid[0])\n",
    "        i,j = candid[0]\n",
    "        \n",
    "    return idx"
   ]
  },
  {
   "cell_type": "code",
   "execution_count": 9,
   "metadata": {},
   "outputs": [
    {
     "data": {
      "text/plain": [
       "[(4, 4), (3, 3), (2, 2), (1, 1), (0, 0)]"
      ]
     },
     "execution_count": 9,
     "metadata": {},
     "output_type": "execute_result"
    }
   ],
   "source": [
    "## Shows the path from bottom corner to top corner.\n",
    "back_trace(matrix)"
   ]
  },
  {
   "cell_type": "markdown",
   "metadata": {},
   "source": []
  }
 ],
 "metadata": {
  "kernelspec": {
   "display_name": "rin",
   "language": "python",
   "name": "python3"
  },
  "language_info": {
   "codemirror_mode": {
    "name": "ipython",
    "version": 3
   },
   "file_extension": ".py",
   "mimetype": "text/x-python",
   "name": "python",
   "nbconvert_exporter": "python",
   "pygments_lexer": "ipython3",
   "version": "3.8.15"
  },
  "orig_nbformat": 4,
  "vscode": {
   "interpreter": {
    "hash": "0f98b681bdce3f32f2bb16a15c5969ee48ce98cc956bbc786f6e97b4d40fde33"
   }
  }
 },
 "nbformat": 4,
 "nbformat_minor": 2
}
