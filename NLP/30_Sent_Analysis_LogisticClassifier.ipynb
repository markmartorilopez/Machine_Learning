{
 "cells": [
  {
   "attachments": {},
   "cell_type": "markdown",
   "metadata": {},
   "source": [
    "# Sentiment Analysis"
   ]
  },
  {
   "attachments": {},
   "cell_type": "markdown",
   "metadata": {},
   "source": [
    "## Logistic Regression Classifier\n",
    "- 1. Obtain features from text.\n",
    "- 2. Train model while minimizing cost function.\n",
    "- 3. Predict and evaluate."
   ]
  },
  {
   "attachments": {},
   "cell_type": "markdown",
   "metadata": {},
   "source": [
    "### 1. Features extraction - Represent text into vectors:"
   ]
  },
  {
   "attachments": {},
   "cell_type": "markdown",
   "metadata": {},
   "source": [
    "#### **Option 1**: Create a Vocabulary. 1 if the word exists, 0 if not -> Leads to Sparse matrix.\n",
    "- - Un vocabulario contiente todas las palabras (de forma unica) que aparecen en los tweets. \n",
    "- - Para representar nuevos tweet con numeros:\n",
    "- - - Ponemos un 1, por cada palabra que aparece en el vocabulario.\n",
    "- - - Ponemos un 0, por cada palabra inexistente en el vocabulario.\n",
    "-\n",
    "- Ejemplo:\n",
    "I am happy because I am learning NLP.\n",
    "I love comedy movies.\n",
    "VOCABULARIO:\n",
    "V = [ I, am, happy, because, learning, NLP, love, comedy, movies ]\n",
    "-\n",
    "-\n",
    "- Nuevo tweet:\n",
    "I am also learning german.\n",
    "- Representacion del nuevo tweet en base al Vocabulario:\n",
    "- Vocab = [ I, am, happy, because, learning, NLP, love, comedy, movies ]\n",
    "- tweet = [ 1,  1,     0,       0,        1,    0,   0,      0,      0 ].\n",
    "- Length tweet = Length Vocabulary.\n",
    "-\n",
    "- Cada tweet, tendrá un tamaño igual a la longitud del vocabulario.\n",
    "- Entonces, la logistic regression function tendrá que predecir len(V) + 1 (b0) parametros. \n",
    "- Every x = [1, 0, 1, 0, 0, 0, 0, 0, 0, 0, 0, 1, 0, ...]\n",
    "- Label y = 1 if Positive, 0 if negative.\n",
    "- Sparse problem + entrenamiento caro y lento.\n",
    "-\n",
    "#### **Option 2**: Positive and Negative Frequencies sum as features:\n",
    "- Let's count how many times each word appears in a positive and negative tweet. Sum those counts."
   ]
  },
  {
   "attachments": {},
   "cell_type": "markdown",
   "metadata": {},
   "source": [
    "![Alt text1](../figures/sentiment_analysis_logistic.png)\n",
    "-\n",
    "- Define each tweet as:\n",
    "- [ Bias, Sum Pos. Freq, Sum Neg. Freq. ]\n",
    "- Example: I am happy, I am learning NLP.\n",
    "- [ 1, 10, 8 ]"
   ]
  },
  {
   "attachments": {},
   "cell_type": "markdown",
   "metadata": {},
   "source": [
    "## 2. Preprocessing for Sentiment Analysis"
   ]
  },
  {
   "cell_type": "code",
   "execution_count": 183,
   "metadata": {},
   "outputs": [],
   "source": [
    "import nltk                                # Python library for NLP with tweet data set.\n",
    "from nltk.corpus import twitter_samples    # sample Twitter dataset from NLTK\n",
    "import matplotlib.pyplot as plt            # library for visualization\n",
    "import random                              # pseudo-random number generator\n",
    "import pandas as pd"
   ]
  },
  {
   "attachments": {},
   "cell_type": "markdown",
   "metadata": {},
   "source": [
    "#### Data set - NLKT\n",
    "- The NLKT data set contains 5000 positive tweets and 5000 negative tweets.\n",
    "- In a real-world example the data set is most probably not balanced.\n",
    "- I'ĺl cover text and image imbalanced data sets in another notebook."
   ]
  },
  {
   "cell_type": "code",
   "execution_count": 3,
   "metadata": {},
   "outputs": [
    {
     "name": "stderr",
     "output_type": "stream",
     "text": [
      "[nltk_data] Downloading package twitter_samples to\n",
      "[nltk_data]     /home/mark/nltk_data...\n",
      "[nltk_data]   Unzipping corpora/twitter_samples.zip.\n"
     ]
    }
   ],
   "source": [
    "# downloads sample twitter dataset.\n",
    "nltk.download('twitter_samples')"
   ]
  },
  {
   "cell_type": "code",
   "execution_count": 15,
   "metadata": {},
   "outputs": [
    {
     "name": "stdout",
     "output_type": "stream",
     "text": [
      "Number of positive tweets:  5000\n",
      "Number of negative tweets:  5000\n",
      "\n",
      "The type of all_positive_tweets is:  <class 'list'>\n",
      "The type of a tweet entry is:  <class 'str'>\n"
     ]
    }
   ],
   "source": [
    "raw_positive_tweets = twitter_samples.strings('positive_tweets.json')\n",
    "raw_negative_tweets = twitter_samples.strings('negative_tweets.json')\n",
    "\n",
    "print('Number of positive tweets: ', len(raw_positive_tweets))\n",
    "print('Number of negative tweets: ', len(raw_negative_tweets))\n",
    "\n",
    "print('\\nThe type of all_positive_tweets is: ', type(raw_positive_tweets))\n",
    "print('The type of a tweet entry is: ', type(raw_negative_tweets[0]))"
   ]
  },
  {
   "cell_type": "code",
   "execution_count": 23,
   "metadata": {},
   "outputs": [
    {
     "data": {
      "image/png": "[encoded data removed]",
      "text/plain": [
       "<Figure size 500x500 with 1 Axes>"
      ]
     },
     "metadata": {},
     "output_type": "display_data"
    }
   ],
   "source": [
    "## Let's show the balance of the data set with a Pie Chart:\n",
    "fig = plt.figure(figsize=(5, 5))\n",
    "\n",
    "# Lables of the classes:\n",
    "labels = 'Positive', 'Negative'\n",
    "\n",
    "# Size of each label\n",
    "number_of_tweets = [\n",
    "    len(raw_positive_tweets), len(raw_negative_tweets)\n",
    "]\n",
    "\n",
    "# Pie-chart where the slices are ordered and plotted counter-clockwise:\n",
    "plt.pie(x = number_of_tweets,\n",
    "        labels = labels,\n",
    "        autopct='%1.1f%%',\n",
    "        shadow=False,\n",
    "        startangle=90)\n",
    "\n",
    "# Set title\n",
    "plt.title(\"Balanced tweet dataset\")\n",
    "\n",
    "# Equal aspect ratio ensures that pie is drawn as a circle\n",
    "plt.axis('equal')\n",
    "\n",
    "# Display the chart\n",
    "plt.show()"
   ]
  },
  {
   "cell_type": "code",
   "execution_count": 35,
   "metadata": {},
   "outputs": [
    {
     "name": "stdout",
     "output_type": "stream",
     "text": [
      "Raw Positive Tweet:\n",
      "\u001b[92mFriend's lunch... yummmm :)\n",
      "#Nostalgia #TBS #KU.\n",
      "\n",
      "\u001b[0mRaw Negative Tweet:\n",
      "\u001b[91mI slept less that 7 hours last night, preparing myself for possible naps :p\n"
     ]
    }
   ],
   "source": [
    "## By displaying the raw data, we can observe links, emojis and some explicit content...\n",
    "print(\n",
    "    \"Raw Positive Tweet:\\n\\033[92m\"+f\"{raw_positive_tweets[random.randint(0,5000)]}\\n\"\n",
    ")\n",
    "\n",
    "print(\n",
    "    \"\\033[0mRaw Negative Tweet:\\n\\033[91m\"+f\"{raw_positive_tweets[random.randint(0,5000)]}\"\n",
    ")"
   ]
  },
  {
   "attachments": {},
   "cell_type": "markdown",
   "metadata": {},
   "source": [
    "### Step 1. Cleaning. Stop-words, links, formats, styles ..."
   ]
  },
  {
   "cell_type": "code",
   "execution_count": 36,
   "metadata": {},
   "outputs": [
    {
     "name": "stderr",
     "output_type": "stream",
     "text": [
      "[nltk_data] Downloading package stopwords to /home/mark/nltk_data...\n",
      "[nltk_data]   Unzipping corpora/stopwords.zip.\n"
     ]
    },
    {
     "data": {
      "text/plain": [
       "True"
      ]
     },
     "execution_count": 36,
     "metadata": {},
     "output_type": "execute_result"
    }
   ],
   "source": [
    "# download the stopwords from NLTK\n",
    "nltk.download('stopwords')"
   ]
  },
  {
   "cell_type": "code",
   "execution_count": 37,
   "metadata": {},
   "outputs": [],
   "source": [
    "import re                                  # library for regular expression operations\n",
    "import string                              # for string operations"
   ]
  },
  {
   "cell_type": "code",
   "execution_count": 129,
   "metadata": {},
   "outputs": [],
   "source": [
    "def preprocess_tweet(raw_tweet, tokenizer, stopwords, stemmer):\n",
    "    \"\"\"\n",
    "    Clean the tweet from stop-words, hyperlinks, formats, styles and any non-informative character.\n",
    "    \n",
    "    Input:\n",
    "        raw_tweet : string\n",
    "            Current raw tweet as a string.\n",
    "    Output:\n",
    "        stems_cleaned_tweet : string\n",
    "            Stems from current cleaned tweet.\n",
    "\n",
    "    \"\"\"\n",
    "\n",
    "    # Step 1. Remove Old Twitter format and style:\n",
    "    raw_tweet = re.sub( pattern=r'^RT[\\s]',       # Expression to substitute by repl.\n",
    "                        repl='',                  # Replicate with nothing.\n",
    "                        string=raw_tweet)         # String to be checked.\n",
    "\n",
    "    # Step 2. Remove hyperlinks:\n",
    "    raw_tweet = re.sub( pattern=r'https?:\\/\\/.*[\\r\\n]*',\n",
    "                        repl='',\n",
    "                        string=raw_tweet)\n",
    "    \n",
    "    # Step 3. Remove Hastags\n",
    "    raw_tweet = re.sub( pattern=r'#.*?(?=\\s)',\n",
    "                            repl='',\n",
    "                            string=raw_tweet)\n",
    "    \n",
    "    # Step 4. Remove @tags:\n",
    "    cleaned_tweet = re.sub( pattern=r'@.*?(?=\\s)',\n",
    "                            repl='',\n",
    "                            string=raw_tweet)\n",
    "    \n",
    "    # Step 5. All to lowercase + remove duplicates!\n",
    "    \n",
    "    # Tokenize cleaned tweet into words.\n",
    "    tokens_cleaned_tweet = tokenizer.tokenize(cleaned_tweet)\n",
    "\n",
    "    # From all the tokens (words), remove the ones that are stopwords or punctuation\n",
    "    cleaned_tokens_cleaned_tweet = [word for word in tokens_cleaned_tweet if word not in stopwords and word not in string.punctuation]\n",
    "\n",
    "    # Stem the tokens (words)\n",
    "    stems_cleaned_tweet = [stemmer.stem(stem) for stem in cleaned_tokens_cleaned_tweet]\n",
    "\n",
    "    return stems_cleaned_tweet"
   ]
  },
  {
   "cell_type": "code",
   "execution_count": 79,
   "metadata": {},
   "outputs": [
    {
     "name": "stdout",
     "output_type": "stream",
     "text": [
      "Using module nltk.corpus.stopwords. Ex: ['i', 'me', 'my', 'myself', 'we', 'our']\n",
      "\n",
      "Using module strings: Ex: !\"#$%&'()*+,-./:;<=>?@[\\]^_`{|}~\n",
      "\n",
      "Tweet example:\n",
      "\u001b[92mHi #Gorgeous @TillieModel have  a nice swim with your sis!! Can I get a #Birthday shout out please it would make my day?? #Perfection :) xx\n",
      "\n",
      "\u001b[0mOutput stems from cleaned tweet:\n",
      "Hi have  a nice swim with your sis!! Can I get a shout out please it would make my day?? :) xx\n",
      "['hi', 'nice', 'swim', 'si', 'get', 'shout', 'pleas', 'would', 'make', 'day', ':)', 'xx']\n"
     ]
    }
   ],
   "source": [
    "## Preprocessing\n",
    "from nltk.tokenize import TweetTokenizer   # module for tokenizing strings\n",
    "\n",
    "# Instantiate tokenizer class\n",
    "tokenizer = TweetTokenizer(preserve_case=False,    strip_handles=True, reduce_len=True)\n",
    "\n",
    "# Find stopwords list and punctuaction string to clean the tokens:\n",
    "from nltk.corpus import stopwords\n",
    "import string\n",
    "\n",
    "stopwords_ = stopwords.words(\"english\")\n",
    "print(\n",
    "    f\"Using module nltk.corpus.stopwords. Ex: {stopwords_[0:6]}\\n\"\n",
    ")\n",
    "print(\n",
    "    f\"Using module strings: Ex: {string.punctuation}\\n\"\n",
    ")\n",
    "\n",
    "# Initiate class to get stems from words:\n",
    "from nltk.stem import PorterStemmer\n",
    "stemmer = PorterStemmer()\n",
    "\n",
    "# Run Preprocessing Example:\n",
    "raw_tweet_example = raw_positive_tweets[775]\n",
    "print(\n",
    "    f\"Tweet example:\\n\\033[92m{raw_tweet_example}\\n\"\n",
    ")\n",
    "\n",
    "print(\"\\033[0mOutput stems from cleaned tweet:\")\n",
    "print(preprocess_tweet(raw_tweet_example, tokenizer, stopwords_, stemmer))\n",
    "\n"
   ]
  },
  {
   "attachments": {},
   "cell_type": "markdown",
   "metadata": {},
   "source": [
    "- We can see the cleaned stems from the tweet. As well as some problems with repetitive punctuation."
   ]
  },
  {
   "attachments": {},
   "cell_type": "markdown",
   "metadata": {},
   "source": [
    "## Sentiment Frequencies and its visualization."
   ]
  },
  {
   "attachments": {},
   "cell_type": "markdown",
   "metadata": {},
   "source": [
    "#### GOAL\n",
    "- 1. From a list of raw tweets, we want to pre-process each of them to get their stems.\n",
    "- 2. We need to label them with Positive or Negative following the supervised data set.\n",
    "- 3. We need to count the number of appearances of each stem in the whole tweet data set."
   ]
  },
  {
   "cell_type": "code",
   "execution_count": 130,
   "metadata": {},
   "outputs": [],
   "source": [
    "# 1 # \n",
    "import numpy as np\n",
    "\n",
    "def get_stems_frequencies(raw_tweets, sentiment_labels):\n",
    "    \"\"\"\n",
    "    Build the sentiment frequencies. Count the number of appearances of each stem in the whole tweet data set.\n",
    "\n",
    "    Input\n",
    "        raw_tweets : list\n",
    "            List of raw tweets.\n",
    "        sentiment_labels : list\n",
    "            List of binary label {0, 1}. 0 - Negative. 1 - Positive.\n",
    "    Output:\n",
    "        stem_frequencies : dict\n",
    "            Dictionary containing as key the stem and label, and the frequency as value.\n",
    "    \n",
    "    \"\"\"\n",
    "\n",
    "    # Make sure sentiment_labels is a list. (useful for zip function)\n",
    "    if isinstance(sentiment_labels, np.ndarray):\n",
    "        sentiment_labels = np.squeeze(sentiment_labels).tolist()\n",
    "    \n",
    "    # Populate the stem_dictionary:\n",
    "    stem_dictionary = {}\n",
    "    for y, raw_tweet in zip(sentiment_labels, raw_tweets):                          # For each raw tweet.\n",
    "        cleaned_stems_tweet = preprocess_tweet(raw_tweet=raw_tweet,                 # Get its cleaned stems.\n",
    "                                         tokenizer=tokenizer,\n",
    "                                         stopwords=stopwords_,\n",
    "                                         stemmer=stemmer)\n",
    "        for stem in cleaned_stems_tweet:                                            # For each stem.\n",
    "            stem_dictionary[(stem, y)] = stem_dictionary.get((stem, y), 0) + 1      # Check if its in dictionary and + 1.\n",
    "                                                                                    # or create a new key (stem, label) = 1.\n",
    "\n",
    "\n",
    "    return stem_dictionary\n",
    "\n"
   ]
  },
  {
   "cell_type": "code",
   "execution_count": 110,
   "metadata": {},
   "outputs": [
    {
     "name": "stdout",
     "output_type": "stream",
     "text": [
      "Labels:  <class 'list'>\n",
      "1.0 0.0\n"
     ]
    }
   ],
   "source": [
    "# GET ALL RAW TWEETS\n",
    "raw_tweets = raw_positive_tweets + raw_negative_tweets\n",
    "\n",
    "# SET PROPER LABELS\n",
    "\n",
    "sentiment_labels = np.append(\n",
    "    np.ones((\n",
    "        len(raw_positive_tweets)\n",
    "        )\n",
    "    ),\n",
    "    np.zeros((\n",
    "        len(raw_negative_tweets)\n",
    "        )\n",
    "    )\n",
    ").tolist()\n",
    "\n",
    "print(\"Labels: \",type(sentiment_labels))\n",
    "print(sentiment_labels[0], sentiment_labels[-1])"
   ]
  },
  {
   "cell_type": "code",
   "execution_count": 131,
   "metadata": {},
   "outputs": [],
   "source": [
    "# BUILD FREQUENCIES\n",
    "stems_freq = get_stems_frequencies(raw_tweets=raw_tweets,\n",
    "                                   sentiment_labels=sentiment_labels)"
   ]
  },
  {
   "cell_type": "code",
   "execution_count": 132,
   "metadata": {},
   "outputs": [
    {
     "name": "stdout",
     "output_type": "stream",
     "text": [
      "(('top', 1.0), 32)\n",
      "Stem: top\n",
      "Sentiment:1.0\n",
      "Appearances: 32\n",
      "\n",
      "(('engag', 1.0), 7)\n",
      "Stem: engag\n",
      "Sentiment:1.0\n",
      "Appearances: 7\n",
      "\n",
      "(('member', 1.0), 16)\n",
      "Stem: member\n",
      "Sentiment:1.0\n",
      "Appearances: 16\n",
      "\n"
     ]
    }
   ],
   "source": [
    "for stem_freq in list(stems_freq.items())[0:3]:\n",
    "    print(\n",
    "        f\"{stem_freq}\\nStem: {stem_freq[0][0]}\\nSentiment:{stem_freq[0][1]}\\nAppearances: {stem_freq[1]}\\n\"\n",
    "    )\n",
    "    "
   ]
  },
  {
   "attachments": {},
   "cell_type": "markdown",
   "metadata": {},
   "source": [
    "## Visualize the words sentiment frequencies"
   ]
  },
  {
   "cell_type": "code",
   "execution_count": 140,
   "metadata": {},
   "outputs": [
    {
     "data": {
      "text/plain": [
       "[['happi', 204, 25],\n",
       " ['merri', 1, 0],\n",
       " ['nice', 98, 19],\n",
       " ['good', 238, 101],\n",
       " ['bad', 18, 68],\n",
       " ['sad', 5, 121],\n",
       " ['mad', 2, 11],\n",
       " ['best', 65, 22],\n",
       " ['pretti', 19, 15],\n",
       " ['❤', 29, 21],\n",
       " [':)', 3567, 2],\n",
       " [':(', 1, 4571],\n",
       " ['😒', 1, 3],\n",
       " ['😬', 0, 2],\n",
       " ['😄', 5, 1],\n",
       " ['😍', 2, 1],\n",
       " ['♛', 0, 210],\n",
       " ['song', 21, 27],\n",
       " ['idea', 26, 10],\n",
       " ['power', 7, 6],\n",
       " ['play', 46, 48],\n",
       " ['magnific', 1, 0],\n",
       " ['new', 143, 51],\n",
       " ['friday', 104, 12],\n",
       " ['age', 2, 8]]"
      ]
     },
     "execution_count": 140,
     "metadata": {},
     "output_type": "execute_result"
    }
   ],
   "source": [
    "# Assuming each stem is unique, which we have not checked!\n",
    "keys = ['happi', 'merri', 'nice', 'good', 'bad', 'sad', 'mad', 'best', 'pretti',\n",
    "        '❤', ':)', ':(', '😒', '😬', '😄', '😍', '♛',\n",
    "        'song', 'idea', 'power', 'play', 'magnific', 'new', 'friday', 'age']\n",
    "\n",
    "# Create a LIST [<stem>, <positive_count>, <negative_count>]\n",
    "stems_features = []\n",
    "\n",
    "# For each stem:\n",
    "for word in keys:\n",
    "    \n",
    "    # Let's count the number of time that they appear as positive (label = 1) or negative (label = 0)\n",
    "    pos = 0\n",
    "    neg = 0\n",
    "    \n",
    "    # Retrieve number of positive counts\n",
    "    if (word, 1) in stems_freq:\n",
    "        pos = stems_freq[(word, 1)]\n",
    "        \n",
    "    # Retrieve number of negative counts\n",
    "    if (word, 0) in stems_freq:\n",
    "        neg = stems_freq[(word, 0)]\n",
    "        \n",
    "    # Append the stem counts to the table\n",
    "    stems_features.append([word, pos, neg])\n",
    "    \n",
    "stems_features"
   ]
  },
  {
   "cell_type": "code",
   "execution_count": 169,
   "metadata": {},
   "outputs": [
    {
     "data": {
      "image/png": "[encoded data removed]",
      "text/plain": [
       "<Figure size 800x800 with 1 Axes>"
      ]
     },
     "metadata": {},
     "output_type": "display_data"
    }
   ],
   "source": [
    "fig, ax = plt.subplots(figsize = (8, 8))\n",
    "\n",
    "# Convert positive raw counts to logarithmic scale. we add 1 to avoid log(0)\n",
    "x = np.log([x[1] + 1 for x in stems_features])  \n",
    "\n",
    "# Do the same for the negative counts\n",
    "y = np.log([x[2] + 1 for x in stems_features]) \n",
    "\n",
    "# Plot a dot for each pair of stems\n",
    "ax.scatter(x, y)  \n",
    "\n",
    "# Assign axis labels\n",
    "plt.title(\"Stem Sentiment Visualization\")\n",
    "plt.xlabel(\"Log Positive count\")\n",
    "plt.ylabel(\"Log Negative count\")\n",
    "\n",
    "# Add the stem as the label at the same position as you added the points just before\n",
    "for i in range(0, len(stems_features)):\n",
    "    ax.annotate(stems_features[i][0], (x[i], y[i]), fontsize=12)\n",
    "\n",
    "ax.plot([0, 9], [0, 9], color = 'gray') # Plot the gray line that divides the 2 areas.\n",
    "ax.plot([4.5, 9.5], [0,5], color = 'green') # Plot the green line that finds very positive stems.\n",
    "ax.plot([0, 4.5], [3.5, 8], color = 'red') # Plot the red line that finds very negative stems.\n",
    "\n",
    "ax.text(0, 7, \"VERY NEGATIVE\", color = \"darkred\")\n",
    "ax.text(1,3.5, \"NEGATIVE\", color = \"red\")\n",
    "ax.text(6, 0.5, \"VERY POSITIVE\",  color = \"darkgreen\")\n",
    "ax.text(3, 1, \"POSITIVE\",  color = \"green\")\n",
    "\n",
    "plt.show()"
   ]
  },
  {
   "attachments": {},
   "cell_type": "markdown",
   "metadata": {},
   "source": [
    "## LOGISTIC REGRESSION"
   ]
  },
  {
   "attachments": {},
   "cell_type": "markdown",
   "metadata": {},
   "source": [
    "#### The function of a logistic regression is a Sigmoid function.\n",
    "- It depends on the parameters Theta and the features vector X_i.\n",
    "- i -> ith observation or data point.\n",
    "- It approaches 0, as the dot product (Theta.T, X_i) approaches -INF.\n",
    "- It approaches 1, if the same dot product approaches +INF.\n",
    "- For classification we need a Threshold. (Red line). \n",
    "- It default to the dot product (Theta.T, X_i) = 0.\n",
    "- - If dot product (Theta.T, X_i) > 0, the prediction is POSITIVE.\n",
    "- - If dot product (Theta.T, X_i) < 0, the prediction is NEGATIVE.\n",
    "\n",
    "![Alt text](../figures/logisticR.png)\n",
    "\n",
    "#### After pre-processing the text and obtaining the features ( sentiment frequencies ):\n",
    "- 1. ADD A BIAS TERM = 1. \n",
    "- 2. INITIALIZE PARAMETER THETA. \n",
    "- 3. PREDICT.\n",
    "- 4. CHECK COST FUNCTION.\n",
    "- 5. UPGRADE PARAMETERS.\n",
    "- 6. ITERATE UNTIL THETA MINIMIZES COST FUNCTION.\n",
    "\n",
    "![Alt text](../figures/logistic_pred.png)"
   ]
  },
  {
   "cell_type": "code",
   "execution_count": 237,
   "metadata": {},
   "outputs": [],
   "source": [
    "## ADD BIAS TO STEM FREQUENCIES\n",
    "\n",
    "def add_bias_to_stem_frequencies(stems_freq, sentiment_labels, bias):\n",
    "    \"\"\"\n",
    "    Add bias to stem frequencies.\n",
    "    Input:\n",
    "        stem_freq : dict\n",
    "            stem frequencies. Keys = (stem, label); Value = appearances.\n",
    "        bias : int\n",
    "            bias term.\n",
    "    Output:\n",
    "        stems_features : list\n",
    "            List of stems features with the bias term added.   \n",
    "    \n",
    "    \"\"\"\n",
    "    \n",
    "    # Get all stems (stem, label)\n",
    "    stems = [stem[0] for stem in list(stems_freq.keys())]\n",
    "\n",
    "    # Create a LIST [<stem>, <bias>, <positive_count>, <negative_count>]\n",
    "    stems_features_with_bias = []\n",
    "\n",
    "    # For each stem:\n",
    "    for word, sentiment in zip(stems, sentiment_labels):\n",
    "        \n",
    "        # Let's count the number of time that they appear as positive (label = 1) or negative (label = 0)\n",
    "        pos = 0\n",
    "        neg = 0\n",
    "        \n",
    "        # Retrieve number of positive counts\n",
    "        if (word, 1) in stems_freq:\n",
    "            pos = stems_freq[(word, 1)]\n",
    "\n",
    "        # Retrieve number of negative counts\n",
    "        if (word, 0) in stems_freq:\n",
    "            neg = stems_freq[(word, 0)]\n",
    "\n",
    "        # Append the stem counts to the table\n",
    "        stems_features_with_bias.append([word, bias, pos, neg])\n",
    "\n",
    "    # ADD THE SENTIMENT\n",
    "    for stem_bias in stems_features_with_bias:\n",
    "        stem_bias.append(0) if stem_bias[2] < stem_bias[3] else stem_bias.append(1)\n",
    "\n",
    "    return stems_features_with_bias"
   ]
  },
  {
   "cell_type": "code",
   "execution_count": 238,
   "metadata": {},
   "outputs": [],
   "source": [
    "stems_features_with_bias = add_bias_to_stem_frequencies(stems_freq=stems_freq,\n",
    "                                                        sentiment_labels=sentiment_labels,\n",
    "                                                        bias=1)"
   ]
  },
  {
   "cell_type": "code",
   "execution_count": 239,
   "metadata": {},
   "outputs": [
    {
     "data": {
      "text/html": [
       "<div>\n",
       "<style scoped>\n",
       "    .dataframe tbody tr th:only-of-type {\n",
       "        vertical-align: middle;\n",
       "    }\n",
       "\n",
       "    .dataframe tbody tr th {\n",
       "        vertical-align: top;\n",
       "    }\n",
       "\n",
       "    .dataframe thead th {\n",
       "        text-align: right;\n",
       "    }\n",
       "</style>\n",
       "<table border=\"1\" class=\"dataframe\">\n",
       "  <thead>\n",
       "    <tr style=\"text-align: right;\">\n",
       "      <th></th>\n",
       "      <th>Stem</th>\n",
       "      <th>Bias</th>\n",
       "      <th>Positive</th>\n",
       "      <th>Negative</th>\n",
       "      <th>Sentiment</th>\n",
       "    </tr>\n",
       "  </thead>\n",
       "  <tbody>\n",
       "    <tr>\n",
       "      <th>9301</th>\n",
       "      <td>:)</td>\n",
       "      <td>1</td>\n",
       "      <td>3567</td>\n",
       "      <td>2</td>\n",
       "      <td>1</td>\n",
       "    </tr>\n",
       "    <tr>\n",
       "      <th>113</th>\n",
       "      <td>:-)</td>\n",
       "      <td>1</td>\n",
       "      <td>692</td>\n",
       "      <td>0</td>\n",
       "      <td>1</td>\n",
       "    </tr>\n",
       "    <tr>\n",
       "      <th>70</th>\n",
       "      <td>:d</td>\n",
       "      <td>1</td>\n",
       "      <td>629</td>\n",
       "      <td>0</td>\n",
       "      <td>1</td>\n",
       "    </tr>\n",
       "    <tr>\n",
       "      <th>18</th>\n",
       "      <td>thank</td>\n",
       "      <td>1</td>\n",
       "      <td>620</td>\n",
       "      <td>107</td>\n",
       "      <td>1</td>\n",
       "    </tr>\n",
       "    <tr>\n",
       "      <th>45</th>\n",
       "      <td>love</td>\n",
       "      <td>1</td>\n",
       "      <td>397</td>\n",
       "      <td>151</td>\n",
       "      <td>1</td>\n",
       "    </tr>\n",
       "    <tr>\n",
       "      <th>6333</th>\n",
       "      <td>follow</td>\n",
       "      <td>1</td>\n",
       "      <td>377</td>\n",
       "      <td>262</td>\n",
       "      <td>1</td>\n",
       "    </tr>\n",
       "    <tr>\n",
       "      <th>6208</th>\n",
       "      <td>...</td>\n",
       "      <td>1</td>\n",
       "      <td>285</td>\n",
       "      <td>330</td>\n",
       "      <td>0</td>\n",
       "    </tr>\n",
       "    <tr>\n",
       "      <th>6198</th>\n",
       "      <td>day</td>\n",
       "      <td>1</td>\n",
       "      <td>245</td>\n",
       "      <td>149</td>\n",
       "      <td>1</td>\n",
       "    </tr>\n",
       "    <tr>\n",
       "      <th>6179</th>\n",
       "      <td>good</td>\n",
       "      <td>1</td>\n",
       "      <td>238</td>\n",
       "      <td>101</td>\n",
       "      <td>1</td>\n",
       "    </tr>\n",
       "    <tr>\n",
       "      <th>43</th>\n",
       "      <td>like</td>\n",
       "      <td>1</td>\n",
       "      <td>232</td>\n",
       "      <td>223</td>\n",
       "      <td>1</td>\n",
       "    </tr>\n",
       "  </tbody>\n",
       "</table>\n",
       "</div>"
      ],
      "text/plain": [
       "        Stem  Bias  Positive  Negative  Sentiment\n",
       "9301      :)     1      3567         2          1\n",
       "113      :-)     1       692         0          1\n",
       "70        :d     1       629         0          1\n",
       "18     thank     1       620       107          1\n",
       "45      love     1       397       151          1\n",
       "6333  follow     1       377       262          1\n",
       "6208     ...     1       285       330          0\n",
       "6198     day     1       245       149          1\n",
       "6179    good     1       238       101          1\n",
       "43      like     1       232       223          1"
      ]
     },
     "execution_count": 239,
     "metadata": {},
     "output_type": "execute_result"
    }
   ],
   "source": [
    "dataframe = pd.DataFrame(stems_features_with_bias, columns=[\"Stem\", \"Bias\", \"Positive\", \"Negative\", \"Sentiment\"])\n",
    "dataframe = dataframe.sort_values(by=\"Positive\", ascending=False)\n",
    "dataframe = dataframe.drop_duplicates(keep=\"last\")\n",
    "dataframe.head(10)"
   ]
  },
  {
   "cell_type": "code",
   "execution_count": 241,
   "metadata": {},
   "outputs": [
    {
     "name": "stdout",
     "output_type": "stream",
     "text": [
      "(8062, 3)\n",
      "[[   1 3567    2]\n",
      " [   1  692    0]\n",
      " [   1  629    0]\n",
      " ...\n",
      " [   1    0    1]\n",
      " [   1    0    1]\n",
      " [   1    0    3]]\n"
     ]
    }
   ],
   "source": [
    "# Each feature is labeled as bias, positive and negative\n",
    "X = np.asarray(dataframe[['Bias', 'Positive', 'Negative']].values) # Get only the numerical values of the dataframe\n",
    "Y = np.asarray(dataframe['Sentiment'].values) # Store in Y the corresponding labels or sentiments\n",
    "\n",
    "print(X.shape) # Print the shape of the X part\n",
    "print(X) # Print some rows of X"
   ]
  },
  {
   "cell_type": "code",
   "execution_count": 244,
   "metadata": {},
   "outputs": [
    {
     "name": "stdout",
     "output_type": "stream",
     "text": [
      "Train set: (6449, 3) (6449,)\n",
      "Test set: (1613, 3) (1613,)\n"
     ]
    }
   ],
   "source": [
    "from sklearn import preprocessing\n",
    "X = preprocessing.StandardScaler().fit(X).transform(X)\n",
    "\n",
    "from sklearn.model_selection import train_test_split\n",
    "X_train, X_test, y_train, y_test = train_test_split( X, Y, test_size=0.2, random_state=4)\n",
    "print ('Train set:', X_train.shape,  y_train.shape)\n",
    "print ('Test set:', X_test.shape,  y_test.shape)"
   ]
  },
  {
   "attachments": {},
   "cell_type": "markdown",
   "metadata": {},
   "source": [
    "### Find Theta\n",
    "- If Theta consisted only of 2 values we could visualize it with an X-Y graph.\n",
    "- 1. Randomly initialize theta at iteration 0 -> (more external green point.)\n",
    "- - We can check in the right-plot, that at iteration 0, our cost function value is very high.\n",
    "-\n",
    "- 2. Upgrade theta in the direction of the gradient of our Cost Function.\n",
    "- - - Theta = Theta - step alpha * Gradient (Cost Function)\n",
    "- - By using the Gradient Descent, we can step into the global minimum of the cost function.\n",
    "- - At that point, Theta would consist of the values that have minimized the cost function, therefore:\n",
    "- - y_predicted and y_observed are very similar since the cost function value is very low.\n",
    "\n",
    "![Alt text](../figures/theta.png)"
   ]
  },
  {
   "cell_type": "code",
   "execution_count": 247,
   "metadata": {},
   "outputs": [
    {
     "name": "stdout",
     "output_type": "stream",
     "text": [
      "Theta = [[   0.          153.24980808 -181.89950924]]\n"
     ]
    }
   ],
   "source": [
    "from sklearn.linear_model import LogisticRegression\n",
    "\n",
    "\n",
    "# Set regularization rate\n",
    "reg = 0.01\n",
    "\n",
    "# train a logistic regression model on the training set\n",
    "model = LogisticRegression(C=1/reg, solver=\"liblinear\").fit(X_train, y_train)\n",
    "print(\n",
    "    f\"Theta = {model.coef_}\"\n",
    ")\n"
   ]
  },
  {
   "attachments": {},
   "cell_type": "markdown",
   "metadata": {},
   "source": [
    "## Validation"
   ]
  },
  {
   "attachments": {},
   "cell_type": "markdown",
   "metadata": {},
   "source": [
    "- We'll need the Test data set, X and Y, and Theta.\n",
    "- 1. Calculate sigmoid function with X_validation and Theta.\n",
    "- 2. Set a threshold. Ex: 0.5.\n",
    "- 3. If the result is higher than the threshold, classify as positive, label 1. Else, 0.\n"
   ]
  },
  {
   "cell_type": "code",
   "execution_count": 276,
   "metadata": {},
   "outputs": [
    {
     "name": "stdout",
     "output_type": "stream",
     "text": [
      "Predicted labels:  [1 1 1 ... 1 0 0]\n",
      "Actual labels:     [1 1 1 ... 1 0 0]\n",
      "Accuracy:  0.9993800371977681\n",
      "\n",
      "Out of 1613 tweets,\n",
      "we were able to correctly classify 1612.\n"
     ]
    }
   ],
   "source": [
    "from sklearn.metrics import accuracy_score\n",
    "\n",
    "predictions = model.predict(X_test)\n",
    "print('Predicted labels: ', predictions)\n",
    "print('Actual labels:    ' ,y_test)\n",
    "print('Accuracy: ', accuracy_score(y_test, predictions))\n",
    "print(\n",
    "    f\"\\nOut of {len(predictions)} tweets,\\nwe were able to correctly classify {np.sum(y_test == predictions)}.\"\n",
    ")"
   ]
  },
  {
   "attachments": {},
   "cell_type": "markdown",
   "metadata": {},
   "source": [
    "## Ensure that the features that we chose to represent text make sense:"
   ]
  },
  {
   "cell_type": "code",
   "execution_count": 267,
   "metadata": {},
   "outputs": [
    {
     "data": {
      "text/plain": [
       "(0.0, 15.0)"
      ]
     },
     "execution_count": 267,
     "metadata": {},
     "output_type": "execute_result"
    },
    {
     "data": {
      "image/png": "[encoded data removed]",
      "text/plain": [
       "<Figure size 800x800 with 1 Axes>"
      ]
     },
     "metadata": {},
     "output_type": "display_data"
    }
   ],
   "source": [
    "# Plot the samples using columns 1 and 2 of the matrix\n",
    "fig, ax = plt.subplots(figsize = (8, 8))\n",
    "\n",
    "colors = ['red', 'green']\n",
    "\n",
    "# Color based on the sentiment Y\n",
    "ax.scatter(X[:,1], X[:,2], c=[colors[int(k)] for k in Y], s = 4)  # Plot a dot for each pair of words\n",
    "plt.xlabel(\"Positive\")\n",
    "plt.ylabel(\"Negative\")\n",
    "plt.ylim([0,15])\n",
    "plt.xlim([0,15])"
   ]
  },
  {
   "attachments": {},
   "cell_type": "markdown",
   "metadata": {},
   "source": [
    "##### From the plot, it is evident that the features chosen to represent tweets as numerical vectors allows an almost perfect separation between positive and negative tweets. Thus, the accuracy is that high."
   ]
  },
  {
   "attachments": {},
   "cell_type": "markdown",
   "metadata": {},
   "source": [
    "![Alt text](../figures/theta_calculus.png)"
   ]
  },
  {
   "cell_type": "code",
   "execution_count": 260,
   "metadata": {},
   "outputs": [],
   "source": [
    "theta = model.coef_[0].tolist()\n",
    "# Equation for the separation plane\n",
    "# It give a value in the negative axe as a function of a positive value\n",
    "# f(pos, neg, W) = w0 + w1 * pos + w2 * neg = 0\n",
    "# s(pos, W) = (-w0 - w1 * pos) / w2\n",
    "def neg(theta, pos):\n",
    "    return (-theta[0] - pos * theta[1]) / theta[2]\n",
    "\n",
    "# Equation for the direction of the sentiments change\n",
    "# We don't care about the magnitude of the change. We are only interested \n",
    "# in the direction. So this direction is just a perpendicular function to the \n",
    "# separation plane\n",
    "# df(pos, W) = pos * w2 / w1\n",
    "def direction(theta, pos):\n",
    "    return    pos * theta[2] / theta[1]"
   ]
  },
  {
   "cell_type": "code",
   "execution_count": 265,
   "metadata": {},
   "outputs": [
    {
     "data": {
      "text/plain": [
       "<matplotlib.patches.FancyArrow at 0x7f6ad863f2b0>"
      ]
     },
     "execution_count": 265,
     "metadata": {},
     "output_type": "execute_result"
    },
    {
     "data": {
      "image/png": "[encoded data removed]",
      "text/plain": [
       "<Figure size 800x800 with 1 Axes>"
      ]
     },
     "metadata": {},
     "output_type": "display_data"
    }
   ],
   "source": [
    "# Plot the samples using columns 1 and 2 of the matrix\n",
    "fig, ax = plt.subplots(figsize = (8, 8))\n",
    "\n",
    "colors = ['red', 'green']\n",
    "\n",
    "# Color base on the sentiment Y\n",
    "ax.scatter(X[:,1], X[:,2], c=[colors[int(k)] for k in Y], s = 1)  # Plot a dot for each pair of words\n",
    "plt.xlabel(\"Positive\")\n",
    "plt.ylabel(\"Negative\")\n",
    "\n",
    "# Now lets represent the logistic regression model in this chart. \n",
    "maxpos = np.max(X[:,1])\n",
    "\n",
    "offset = 9 # The pos value for the direction vectors origin\n",
    "\n",
    "# Plot a gray line that divides the 2 areas.\n",
    "ax.plot([0,  maxpos], [neg(theta, 0),   neg(theta, maxpos)], color = 'gray') \n",
    "\n",
    "# Plot a green line pointing to the positive direction\n",
    "ax.arrow(offset, neg(theta, offset), offset, direction(theta, offset), head_width=1, head_length=1, fc='g', ec='g')\n",
    "# Plot a red line pointing to the negative direction\n",
    "ax.arrow(offset, neg(theta, offset), -offset, -direction(theta, offset), head_width=1, head_length=1, fc='r', ec='r')\n"
   ]
  },
  {
   "cell_type": "code",
   "execution_count": 259,
   "metadata": {},
   "outputs": [
    {
     "data": {
      "text/plain": [
       "[0.0, 153.24980808089978, -181.8995092378139]"
      ]
     },
     "execution_count": 259,
     "metadata": {},
     "output_type": "execute_result"
    }
   ],
   "source": [
    "theta[0].tolist()"
   ]
  },
  {
   "attachments": {},
   "cell_type": "markdown",
   "metadata": {},
   "source": [
    "## Cost Function"
   ]
  },
  {
   "attachments": {},
   "cell_type": "markdown",
   "metadata": {},
   "source": [
    "- It deepends on Theta and X_i.\n",
    "- The first component:\n",
    "- - Sum over the variable m ( m = number of training samples ).\n",
    "- - We are going to sum over the cost of all training samples.\n",
    "- - The component: - (1 / m)\n",
    "- - - Indicates that when combined with the sum, this will be some kind of average. \n",
    "- - - Minus sign, since we are taking log() of a value between 0 and 1. This returns a negative number. So it balances it.\n",
    "-\n",
    "- Then, Inside the brackets, te equation has 2 terms that are added together, each one is important for one label.\n",
    "- \n",
    "- 1. Product of y_i (label for each training sample) with the log( predicted value ).\n",
    "- - Important term, when y_i, the observed label, is 1. Are we predicting similar to 1 in this case?\n",
    "- - - if y_i = 1, and prediction = 0.99. The product would be 0. Since the log(0.99) is barely zero. \n",
    "- - - if y_i = 0, and prediction = any. Product = 0. Since, 0 * any = 0.\n",
    "- - - if y_i = 1, and prediction = 0. Product = - Inf. Since log(0) = -Inf.\n",
    "- - When label = 1, and prediction is close to 1, the term approaches 0. Cost Function very low value.\n",
    "-\n",
    "2. Product of 1 - y_i with log(1 - predicted value ).\n",
    "- - Important term, when y_i = 0. Since (1-1) would be 0.\n",
    "- - - if y_i = 0, and prediction = 0. Product = 0. Since log(1) = 0. 1*0 = 0.\n",
    "- - - if y_i = 1, and prediction = ANY. The product = 0. Since 1-1 * 0 = 0. \n",
    "- - - if y_i = 0, and prediction = 0.99. Product = -Inf.\n",
    "\n",
    "![Alt text](../figures/loss_logistic.png)\n",
    "\n",
    "- In both cases, when label and prediction are similar, the loss is close to 0."
   ]
  }
 ],
 "metadata": {
  "kernelspec": {
   "display_name": "rin",
   "language": "python",
   "name": "python3"
  },
  "language_info": {
   "codemirror_mode": {
    "name": "ipython",
    "version": 3
   },
   "file_extension": ".py",
   "mimetype": "text/x-python",
   "name": "python",
   "nbconvert_exporter": "python",
   "pygments_lexer": "ipython3",
   "version": "3.8.15"
  },
  "orig_nbformat": 4,
  "vscode": {
   "interpreter": {
    "hash": "0f98b681bdce3f32f2bb16a15c5969ee48ce98cc956bbc786f6e97b4d40fde33"
   }
  }
 },
 "nbformat": 4,
 "nbformat_minor": 2
}
