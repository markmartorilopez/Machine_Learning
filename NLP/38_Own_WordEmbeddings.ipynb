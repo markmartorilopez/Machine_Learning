{
 "cells": [
  {
   "attachments": {},
   "cell_type": "markdown",
   "metadata": {},
   "source": [
    "# Word Meaning Prediction - CBOW model self-implementation"
   ]
  },
  {
   "cell_type": "code",
   "execution_count": 100,
   "metadata": {},
   "outputs": [],
   "source": [
    "import re\n",
    "import nltk\n",
    "import emoji\n",
    "import numpy as np\n",
    "from nltk.tokenize import word_tokenize\n",
    "from matplotlib import pyplot"
   ]
  },
  {
   "attachments": {},
   "cell_type": "markdown",
   "metadata": {},
   "source": [
    "## Word Embeddings"
   ]
  },
  {
   "attachments": {},
   "cell_type": "markdown",
   "metadata": {},
   "source": [
    "- If we represent each word with an integer. There is very few semantic meaning.\n",
    "- - why happy(1)< zebra(316) ?\n",
    "- If we represent each word as hot-encodings.\n",
    "- - Each word will contain as many columns as vocabulary length. Which will create sparse matrices and still do not imply relationships between words. Always same distance bw any 2 words.\n",
    "- So Word Embeddings solve this challenge.\n",
    "- - By adding columns with values between 0 and 1 depending on the meaning of the word.\n",
    "- - They carry the meaning.\n",
    "- - Reduce the dimensions.\n",
    "\n",
    "##### For Word Embeddings we need\n",
    "1. Corpus : Contains words we want to embed, organized in the same way as they would be in the context of interest.\n",
    "- General-purpose: Wikipedia.\n",
    "- Specialized: Contracts, law books, Genes ...\n"
   ]
  },
  {
   "cell_type": "code",
   "execution_count": 102,
   "metadata": {},
   "outputs": [
    {
     "name": "stdout",
     "output_type": "stream",
     "text": [
      "Size of vocabulary:  8735\n",
      "Most frequent tokens:  [('the', 3098), ('a', 1254), ('i', 1136), ('was', 629), ('you', 619), ('his', 601), ('is', 582), ('he', 537), ('it', 516), ('said', 486), ('upon', 466), ('to', 465), ('holmes', 463), ('my', 451), ('have', 414), ('one', 370), ('that', 365), ('would', 327), ('in', 324), ('had', 321)]\n"
     ]
    }
   ],
   "source": [
    "from utils.nlp import MyNLTKLoader, get_dict, sigmoid, get_vectors, get_batches, compute_pca\n",
    "\n",
    "text_path = \"../DATA/common_narration.txt\"\n",
    "\n",
    "TextLoader = MyNLTKLoader(text_path, \"english\")\n",
    "\n",
    "list_of_list_of_words = TextLoader(sentences = True,\n",
    "                                   tokenizing=True, \n",
    "                                   information = True)\n",
    "\n",
    "\n",
    "\n",
    "all_words = [word for sentence in list_of_list_of_words for word in sentence]\n",
    "\n",
    "word2Ind, Ind2word = get_dict(all_words)\n",
    "\n",
    "V = len(word2Ind)\n",
    "\n",
    "# Compute the frequency distribution of the words in the dataset (vocabulary)\\n\",\n",
    "fdist = nltk.FreqDist(word for word in all_words)\n",
    "\n",
    "print(\"Size of vocabulary: \",V)\n",
    "print(\"Most frequent tokens: \",fdist.most_common(20))\n"
   ]
  },
  {
   "cell_type": "code",
   "execution_count": 104,
   "metadata": {},
   "outputs": [],
   "source": [
    "from tensorflow.keras.models import Sequential\n",
    "from tensorflow.keras.layers import Dense, Input"
   ]
  },
  {
   "cell_type": "code",
   "execution_count": 105,
   "metadata": {},
   "outputs": [],
   "source": [
    "N = 100 # Embedding Dimension\n",
    "\n",
    "model = Sequential()\n",
    "model.add(\n",
    "    Input(shape=(V,))\n",
    ")\n",
    "model.add(\n",
    "    Dense(V, activation='relu')\n",
    ")\n",
    "model.add(\n",
    "    Dense(V, activation='softmax')\n",
    ")\n"
   ]
  },
  {
   "cell_type": "code",
   "execution_count": 106,
   "metadata": {},
   "outputs": [],
   "source": [
    "model.compile(\n",
    "    loss = \"categorical_crossentropy\",\n",
    "    metrics = [\"accuracy\"]\n",
    ")"
   ]
  },
  {
   "cell_type": "code",
   "execution_count": 107,
   "metadata": {},
   "outputs": [],
   "source": [
    "def get_windows(words, C):\n",
    "    \"\"\"\n",
    "    Outputs word, C prev words and C next words.\n",
    "    \"\"\"\n",
    "    i = C\n",
    "    windows = []\n",
    "    while i < len(words) - C:\n",
    "        center_word = words[i]\n",
    "        context_words = words[(i - C):i] + words[(i+1):(i+C+1)]\n",
    "        windows.append([center_word, context_words])\n",
    "        i += 1\n",
    "    return windows\n",
    "\n",
    "# Define the 'word_to_one_hot_vector' function as seen in a previous notebook\n",
    "def word_to_one_hot_vector(word, word2Ind, V):\n",
    "    one_hot_vector = np.zeros(V)\n",
    "    one_hot_vector[word2Ind[word]] = 1\n",
    "    return one_hot_vector\n",
    "\n",
    "# Define the 'context_words_to_vector' function as seen in a previous notebook\n",
    "def context_words_to_vector(context_words, word2Ind, V):\n",
    "    context_words_vectors = [word_to_one_hot_vector(w, word2Ind, V) for w in context_words]\n",
    "    context_words_vectors = np.mean(context_words_vectors, axis=0)\n",
    "    return context_words_vectors"
   ]
  },
  {
   "cell_type": "code",
   "execution_count": 108,
   "metadata": {},
   "outputs": [],
   "source": [
    "C = 2\n",
    "windows = get_windows(all_words,C)\n",
    "\n",
    "one_hot_vector_words = []\n",
    "meaning_context_words = []\n",
    "for window in windows:\n",
    "    meaning_context_words.append(context_words_to_vector(window[1], word2Ind, V))\n",
    "    one_hot_vector_words.append(word_to_one_hot_vector(window[0], word2Ind, V))"
   ]
  },
  {
   "cell_type": "code",
   "execution_count": 109,
   "metadata": {},
   "outputs": [],
   "source": [
    "X = np.array(meaning_context_words)\n",
    "Y = np.array(one_hot_vector_words)"
   ]
  },
  {
   "cell_type": "code",
   "execution_count": 111,
   "metadata": {},
   "outputs": [
    {
     "name": "stdout",
     "output_type": "stream",
     "text": [
      "Training...\n",
      "Epoch 1/5\n",
      "423/423 [==============================] - 222s 523ms/step - loss: 7.3888 - accuracy: 0.0503 - val_loss: 7.5300 - val_accuracy: 0.0480\n",
      "Epoch 2/5\n",
      "423/423 [==============================] - 221s 521ms/step - loss: 6.9076 - accuracy: 0.0609 - val_loss: 7.4759 - val_accuracy: 0.0523\n",
      "Epoch 3/5\n",
      "423/423 [==============================] - 218s 515ms/step - loss: 6.4359 - accuracy: 0.0744 - val_loss: 7.3894 - val_accuracy: 0.0567\n",
      "Epoch 4/5\n",
      "423/423 [==============================] - 220s 518ms/step - loss: 5.8561 - accuracy: 0.1051 - val_loss: 7.3998 - val_accuracy: 0.0589\n",
      "Epoch 5/5\n",
      "423/423 [==============================] - 219s 517ms/step - loss: 5.1188 - accuracy: 0.1786 - val_loss: 7.5347 - val_accuracy: 0.0550\n"
     ]
    }
   ],
   "source": [
    "BATCH_SIZE = 128\n",
    "\n",
    "## TRAINING THE MODEL:\n",
    "print(f\"Training...\")\n",
    "r = model.fit(\n",
    "    X,\n",
    "    Y,\n",
    "    batch_size = BATCH_SIZE,\n",
    "    epochs = 5,\n",
    "    validation_split = 0.2\n",
    ")"
   ]
  },
  {
   "cell_type": "code",
   "execution_count": 113,
   "metadata": {},
   "outputs": [],
   "source": [
    "# W1 = Column per word in Vocab. Same order as in the input words.  \n",
    "W1 = model.layers[0].get_weights()\n",
    "Weights1 = W1[0]\n",
    "Biases_w1 = W1[1]\n",
    "\n",
    "# W2 = Has V rows. Each Row = Word in Vocab. Same order!\n",
    "W2 = model.layers[1].get_weights()\n",
    "Weights2 = W2[0]\n",
    "Biases_w2 = W2[1]"
   ]
  },
  {
   "cell_type": "code",
   "execution_count": 114,
   "metadata": {},
   "outputs": [],
   "source": [
    "## WORDS_EMBEDDINGS\n",
    "words_embeddings_trained = Weights1 + Weights2 / 2"
   ]
  },
  {
   "cell_type": "code",
   "execution_count": 116,
   "metadata": {},
   "outputs": [
    {
     "name": "stdout",
     "output_type": "stream",
     "text": [
      "(9, 8735) [4388, 6076, 4686, 4781, 8615, 2376, 6421, 3675, 6544]\n"
     ]
    }
   ],
   "source": [
    "words = ['king', 'queen','lord','man', 'woman','dog',\n",
    "         'rich','happy','sad']\n",
    "\n",
    "# given a list of words and the embeddings, it returns a matrix with all the embeddings\n",
    "idx = [word2Ind[word] for word in words]\n",
    "X = words_embeddings_trained[idx, :]\n",
    "print(X.shape, idx)  # X.shape:  Number of words of dimension N eac"
   ]
  },
  {
   "cell_type": "code",
   "execution_count": 117,
   "metadata": {},
   "outputs": [
    {
     "data": {
      "image/png": "[encoded data removed]",
      "text/plain": [
       "<Figure size 640x480 with 1 Axes>"
      ]
     },
     "metadata": {},
     "output_type": "display_data"
    }
   ],
   "source": [
    "result= compute_pca(X, 2)"
   ]
  },
  {
   "cell_type": "code",
   "execution_count": 119,
   "metadata": {},
   "outputs": [
    {
     "data": {
      "image/png": "[encoded data removed]",
      "text/plain": [
       "<Figure size 640x480 with 1 Axes>"
      ]
     },
     "metadata": {},
     "output_type": "display_data"
    }
   ],
   "source": [
    "pyplot.scatter(result[:, 0], result[:, 1])\n",
    "for i, word in enumerate(words):\n",
    "    pyplot.annotate(word, xy=(result[i, 0], result[i, 1]))\n",
    "pyplot.show()"
   ]
  },
  {
   "attachments": {},
   "cell_type": "markdown",
   "metadata": {},
   "source": [
    "2. Embedding Method - ML Model - Self Supervised Learning\n",
    "- Self Supervised Learning is a mix. Unsupervised, since the corpus is unlabeled. But supervised because the data itself provides the necessary context which would ordinarily make up the labels.\n",
    "- Hyperparameters: Dimension of the word embedding vectors. Higher dimensions capture more meaning, but makes it computationally expensive. Usually D{300-2k}\n",
    "\n",
    "##### Examples:\n",
    "- word2vec: Continuous bag-of-words.\n",
    "- - Logic behind: If two unique words are freq surranded by similar words in various sentences, then they tend to be related in their meaning. Related semantically.\n",
    "\n",
    "- fastText: Continuous skip-gram. Based on representing words as n-grams of characters. It supports Out-Of-Vocabulary words.\n",
    "- BERT / ELMo / GPT-2 : Words may have different embeddings depending on their context. It supports words with similar meanings, or different words with same meaning."
   ]
  },
  {
   "attachments": {},
   "cell_type": "markdown",
   "metadata": {},
   "source": [
    "##### Word Prediction Model - CBOW model\n",
    "Using a Continuous bag-of-words Model\n",
    "- Ex:\n",
    "I am happy because I am learning\n",
    "\n",
    "- Center word: happy. The word to predict.\n",
    "- Context words: I am ___ because I\n",
    "- C = 2. (2 words before or after. Size of context.)\n",
    "- window: I am happy because I\n",
    "- W: window size = 5.\n",
    "- Next window will be: am happy ___ I am. where center word = because.\n",
    "\n",
    "##### Architecture - Feed Forward Network - 1D\n",
    "- x (Context words vector)\n",
    "- Input Layer (Vocab dim) + ReLU (ReLU only let positive num pass through)\n",
    "- - z1 = W1(NxV) * x(Vx1) + b(Nx1) = z1(Nx1) \n",
    "- Hiden Layer with N word_embedding dim - A neuron per dim. + Softmax\n",
    "- Output Layer (Vocab dim)\n",
    "- _y (Highest probable center word vector)\n",
    "<img src = \"../figures/cbow_arch.png\">\n"
   ]
  },
  {
   "attachments": {},
   "cell_type": "markdown",
   "metadata": {},
   "source": [
    "##### Architecture CBOW 2D\n",
    "- We can get the output of several cases, not only 1.\n",
    "- Different word-centers. Substitute 1 by m."
   ]
  },
  {
   "attachments": {},
   "cell_type": "markdown",
   "metadata": {},
   "source": [
    "#### Cost Function - Cross-Entropy (2 classes, pred-exp)\n",
    "- We need to predict 1 of the V possible words.\n",
    "- Minimize the cost function by adjusting the parameters (W1, b1 and W2 b2)\n",
    "- The LOSS is larger, when the prediction is incorrect.\n",
    "- Exp [0, 0, 1, 0]\n",
    "- Pred [0.1, 0.1, 0.7,0.1]\n",
    "- Since the 3rd word is expected to be correct (1), if Pred[3] is the higher number: \n",
    "- - 0 * log(0.1)\n",
    "- - 0 * log(0.1)\n",
    "- - 1 * log(0.7)\n",
    "- - 0 * log(0.1)\n",
    "- - = LOW LOSS."
   ]
  },
  {
   "attachments": {},
   "cell_type": "markdown",
   "metadata": {},
   "source": [
    "## TRAINING\n",
    "1. Forward Propagation"
   ]
  },
  {
   "attachments": {},
   "cell_type": "markdown",
   "metadata": {},
   "source": [
    "2. Cost"
   ]
  },
  {
   "attachments": {},
   "cell_type": "markdown",
   "metadata": {},
   "source": [
    "3. Backpropagation with Gradient Descent"
   ]
  }
 ],
 "metadata": {
  "kernelspec": {
   "display_name": "rin",
   "language": "python",
   "name": "python3"
  },
  "language_info": {
   "codemirror_mode": {
    "name": "ipython",
    "version": 3
   },
   "file_extension": ".py",
   "mimetype": "text/x-python",
   "name": "python",
   "nbconvert_exporter": "python",
   "pygments_lexer": "ipython3",
   "version": "3.8.15"
  },
  "orig_nbformat": 4
 },
 "nbformat": 4,
 "nbformat_minor": 2
}
