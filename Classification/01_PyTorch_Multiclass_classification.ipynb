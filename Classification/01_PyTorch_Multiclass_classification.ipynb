{
 "cells": [
  {
   "attachments": {},
   "cell_type": "markdown",
   "metadata": {},
   "source": [
    "# Multiclass-Classification with PyTorch\n",
    "\n",
    "PyTorch is a framework for creating machine learning models, including deep neural networks (DNNs). In this example, we'll use PyTorch to create a simple neural network that classifies penguins into species based on the length and depth of their culmen (bill), their flipper length, and their body mass.\n",
    "\n",
    "## Explore the Dataset\n",
    "Before we start using PyTorch to create a model, let's load the data we need from the Palmer Islands penguins dataset, which contains observations of three different species of penguin.\n",
    "\n",
    "- In reality, you can solve the penguin classification problem easily using classical machine learning techniques without the need for a deep learning model; but it's a useful, easy to understand dataset with which to demonstrate the principles of neural networks in this notebook."
   ]
  },
  {
   "cell_type": "code",
   "execution_count": 3,
   "metadata": {},
   "outputs": [
    {
     "name": "stderr",
     "output_type": "stream",
     "text": [
      "/var/folders/h0/pqnrytyd0xdblgynfs1ppnp00000gn/T/ipykernel_1900/3891850043.py:15: FutureWarning: The frame.append method is deprecated and will be removed from pandas in a future version. Use pandas.concat instead.\n",
      "  penguins = penguins.append(penguins)\n",
      "/var/folders/h0/pqnrytyd0xdblgynfs1ppnp00000gn/T/ipykernel_1900/3891850043.py:15: FutureWarning: The frame.append method is deprecated and will be removed from pandas in a future version. Use pandas.concat instead.\n",
      "  penguins = penguins.append(penguins)\n"
     ]
    },
    {
     "data": {
      "text/html": [
       "<div>\n",
       "<style scoped>\n",
       "    .dataframe tbody tr th:only-of-type {\n",
       "        vertical-align: middle;\n",
       "    }\n",
       "\n",
       "    .dataframe tbody tr th {\n",
       "        vertical-align: top;\n",
       "    }\n",
       "\n",
       "    .dataframe thead th {\n",
       "        text-align: right;\n",
       "    }\n",
       "</style>\n",
       "<table border=\"1\" class=\"dataframe\">\n",
       "  <thead>\n",
       "    <tr style=\"text-align: right;\">\n",
       "      <th></th>\n",
       "      <th>CulmenLength</th>\n",
       "      <th>CulmenDepth</th>\n",
       "      <th>FlipperLength</th>\n",
       "      <th>BodyMass</th>\n",
       "      <th>Species</th>\n",
       "    </tr>\n",
       "  </thead>\n",
       "  <tbody>\n",
       "    <tr>\n",
       "      <th>281</th>\n",
       "      <td>45.2</td>\n",
       "      <td>17.8</td>\n",
       "      <td>19.8</td>\n",
       "      <td>39.5</td>\n",
       "      <td>2</td>\n",
       "    </tr>\n",
       "    <tr>\n",
       "      <th>327</th>\n",
       "      <td>51.4</td>\n",
       "      <td>19.0</td>\n",
       "      <td>20.1</td>\n",
       "      <td>39.5</td>\n",
       "      <td>2</td>\n",
       "    </tr>\n",
       "    <tr>\n",
       "      <th>198</th>\n",
       "      <td>45.5</td>\n",
       "      <td>13.9</td>\n",
       "      <td>21.0</td>\n",
       "      <td>42.0</td>\n",
       "      <td>1</td>\n",
       "    </tr>\n",
       "    <tr>\n",
       "      <th>120</th>\n",
       "      <td>36.2</td>\n",
       "      <td>17.2</td>\n",
       "      <td>18.7</td>\n",
       "      <td>31.5</td>\n",
       "      <td>0</td>\n",
       "    </tr>\n",
       "  </tbody>\n",
       "</table>\n",
       "</div>"
      ],
      "text/plain": [
       "     CulmenLength  CulmenDepth  FlipperLength  BodyMass  Species\n",
       "281          45.2         17.8           19.8      39.5        2\n",
       "327          51.4         19.0           20.1      39.5        2\n",
       "198          45.5         13.9           21.0      42.0        1\n",
       "120          36.2         17.2           18.7      31.5        0"
      ]
     },
     "execution_count": 3,
     "metadata": {},
     "output_type": "execute_result"
    }
   ],
   "source": [
    "import pandas as pd\n",
    "\n",
    "# load the training dataset (excluding rows with null values)\n",
    "penguins = pd.read_csv('../DATA/penguins.csv').dropna()\n",
    "\n",
    "# Deep Learning models work best when features are on similar scales\n",
    "# In a real solution, we'd implement some custom normalization for each feature, but to keep things simple\n",
    "# we'll just rescale the FlipperLength and BodyMass so they're on a similar scale to the bill measurements\n",
    "penguins['FlipperLength'] = penguins['FlipperLength']/10\n",
    "penguins['BodyMass'] = penguins['BodyMass']/100\n",
    "\n",
    "# The dataset is too small to be useful for deep learning\n",
    "# So we'll oversample it to increase its size\n",
    "for i in range(1,3):\n",
    "    penguins = penguins.append(penguins)\n",
    "\n",
    "# Display a random sample of 10 observations\n",
    "sample = penguins.sample(4)\n",
    "sample"
   ]
  },
  {
   "cell_type": "markdown",
   "metadata": {},
   "source": [
    "The **Species** column is the label our model will predict. Each label value represents a class of penguin species, encoded as 0, 1, or 2. The following code shows the actual species to which these class labels corrrespond."
   ]
  },
  {
   "cell_type": "code",
   "execution_count": 4,
   "metadata": {
    "tags": []
   },
   "outputs": [
    {
     "name": "stdout",
     "output_type": "stream",
     "text": [
      "['CulmenLength' 'CulmenDepth' 'FlipperLength' 'BodyMass' 'Species'] SpeciesName\n",
      "[ 52.0 20.7 21.0 48.0 2 ] Chinstrap\n",
      "[ 44.1 19.7 19.6 44.0 0 ] Adelie\n",
      "[ 42.0 20.2 19.0 42.5 0 ] Adelie\n",
      "[ 45.7 17.0 19.5 36.5 2 ] Chinstrap\n",
      "[ 34.6 21.1 19.8 44.0 0 ] Adelie\n",
      "[ 45.1 14.5 20.7 50.5 1 ] Gentoo\n",
      "[ 45.2 16.6 19.1 32.5 2 ] Chinstrap\n",
      "[ 34.1 18.1 19.3 34.75 0 ] Adelie\n",
      "[ 51.5 18.7 18.7 32.5 2 ] Chinstrap\n",
      "[ 45.5 15.0 22.0 50.0 1 ] Gentoo\n"
     ]
    }
   ],
   "source": [
    "penguin_classes = ['Adelie', 'Gentoo', 'Chinstrap']\n",
    "print(sample.columns[0:5].values, 'SpeciesName')\n",
    "for index, row in penguins.sample(10).iterrows():\n",
    "    print('[',row[0], row[1], row[2],row[3], int(row[4]), ']',penguin_classes[int(row[-1])])"
   ]
  },
  {
   "cell_type": "markdown",
   "metadata": {},
   "source": [
    "As is common in a supervised learning problem, we'll split the dataset into a set of records with which to train the model, and a smaller set with which to validate the trained model."
   ]
  },
  {
   "cell_type": "code",
   "execution_count": 6,
   "metadata": {
    "tags": []
   },
   "outputs": [
    {
     "name": "stdout",
     "output_type": "stream",
     "text": [
      "Training Set: 957, Test Set: 411 \n",
      "\n",
      "Sample of features and labels:\n",
      "[51.1 16.5 22.5 52.5] 1 (Gentoo)\n",
      "[50.7 19.7 20.3 40.5] 2 (Chinstrap)\n",
      "[49.5 16.2 22.9 58. ] 1 (Gentoo)\n",
      "[39.3 20.6 19.  36.5] 0 (Adelie)\n",
      "[42.5 20.7 19.7 45. ] 0 (Adelie)\n",
      "[50.  15.3 22.  55.5] 1 (Gentoo)\n",
      "[50.2  18.7  19.8  37.75] 2 (Chinstrap)\n",
      "[50.7 19.7 20.3 40.5] 2 (Chinstrap)\n",
      "[49.1  14.5  21.2  46.25] 1 (Gentoo)\n",
      "[43.2 16.6 18.7 29. ] 2 (Chinstrap)\n",
      "[38.8  17.6  19.1  32.75] 0 (Adelie)\n",
      "[37.8 17.1 18.6 33. ] 0 (Adelie)\n",
      "[45.8 14.2 21.9 47. ] 1 (Gentoo)\n",
      "[43.8 13.9 20.8 43. ] 1 (Gentoo)\n",
      "[36.  17.1 18.7 37. ] 0 (Adelie)\n",
      "[43.3 13.4 20.9 44. ] 1 (Gentoo)\n",
      "[36.  18.5 18.6 31. ] 0 (Adelie)\n",
      "[41.1  19.   18.2  34.25] 0 (Adelie)\n",
      "[33.1 16.1 17.8 29. ] 0 (Adelie)\n",
      "[40.9 13.7 21.4 46.5] 1 (Gentoo)\n",
      "[45.2 17.8 19.8 39.5] 2 (Chinstrap)\n",
      "[48.4 14.6 21.3 58.5] 1 (Gentoo)\n",
      "[43.6 13.9 21.7 49. ] 1 (Gentoo)\n",
      "[38.5  17.9  19.   33.25] 0 (Adelie)\n"
     ]
    }
   ],
   "source": [
    "from sklearn.model_selection import train_test_split\n",
    "\n",
    "features = ['CulmenLength','CulmenDepth','FlipperLength','BodyMass']\n",
    "label = 'Species'\n",
    "   \n",
    "# Split data 70%-30% into training set and test set\n",
    "x_train, x_test, y_train, y_test = train_test_split(penguins[features].values,\n",
    "                                                    penguins[label].values,\n",
    "                                                    test_size=0.30,\n",
    "                                                    random_state=0)\n",
    "\n",
    "print ('Training Set: %d, Test Set: %d \\n' % (len(x_train), len(x_test)))\n",
    "print(\"Sample of features and labels:\")\n",
    "\n",
    "# Take a look at the first 25 training features and corresponding labels\n",
    "for n in range(0,24):\n",
    "    print(x_train[n], y_train[n], '(' + penguin_classes[y_train[n]] + ')')"
   ]
  },
  {
   "attachments": {},
   "cell_type": "markdown",
   "metadata": {},
   "source": [
    "The *features* are the measurements for each penguin observation, and the *label* is a numeric value that indicates the species of penguin that the observation represents (Adelie, Gentoo, or Chinstrap).\n",
    "\n",
    "## Install and import the PyTorch libraries"
   ]
  },
  {
   "cell_type": "code",
   "execution_count": 7,
   "metadata": {
    "tags": []
   },
   "outputs": [
    {
     "name": "stdout",
     "output_type": "stream",
     "text": [
      "Libraries imported - ready to use PyTorch 2.0.0\n"
     ]
    }
   ],
   "source": [
    "import torch\n",
    "import torch.nn as nn\n",
    "import torch.utils.data as td\n",
    "\n",
    "# Set random seed for reproducability\n",
    "torch.manual_seed(0)\n",
    "\n",
    "print(\"Libraries imported - ready to use PyTorch\", torch.__version__)"
   ]
  },
  {
   "cell_type": "markdown",
   "metadata": {},
   "source": [
    "## Prepare the data for PyTorch\n",
    "\n",
    "PyTorch makes use of *data loaders* to load training and validation data in batches. We've already loaded the data into numpy arrays, but we need to wrap those in PyTorch datasets (in which the data is converted to PyTorch *tensor* objects) and create loaders to read batches from those datasets."
   ]
  },
  {
   "cell_type": "code",
   "execution_count": 8,
   "metadata": {
    "tags": []
   },
   "outputs": [
    {
     "name": "stdout",
     "output_type": "stream",
     "text": [
      "Ready to load data\n"
     ]
    }
   ],
   "source": [
    "# Create a dataset and loader for the training data and labels\n",
    "train_x = torch.Tensor(x_train).float()\n",
    "train_y = torch.Tensor(y_train).long()\n",
    "train_ds = td.TensorDataset(train_x,train_y)\n",
    "train_loader = td.DataLoader(train_ds, batch_size=20,\n",
    "    shuffle=False, num_workers=1)\n",
    "\n",
    "# Create a dataset and loader for the test data and labels\n",
    "test_x = torch.Tensor(x_test).float()\n",
    "test_y = torch.Tensor(y_test).long()\n",
    "test_ds = td.TensorDataset(test_x,test_y)\n",
    "test_loader = td.DataLoader(test_ds, batch_size=20,\n",
    "    shuffle=False, num_workers=1)\n",
    "print('Ready to load data')"
   ]
  },
  {
   "cell_type": "markdown",
   "metadata": {},
   "source": [
    "## Define a neural network\n",
    "\n",
    "Now we're ready to define our neural network. In this case, we'll create a network that consists of 3 fully-connected layers:\n",
    "* An input layer that receives an input value for each feature (in this case, the four penguin measurements) and applies a *ReLU* activation function.\n",
    "* A hidden layer that receives ten inputs and applies a *ReLU* activation function.\n",
    "* An output layer that generates a non-negative numeric output for each penguin species (which a loss function will translate into classification probabilities for each of the three possible penguin species)."
   ]
  },
  {
   "cell_type": "code",
   "execution_count": 9,
   "metadata": {
    "tags": []
   },
   "outputs": [
    {
     "name": "stdout",
     "output_type": "stream",
     "text": [
      "PenguinNet(\n",
      "  (fc1): Linear(in_features=4, out_features=10, bias=True)\n",
      "  (fc2): Linear(in_features=10, out_features=10, bias=True)\n",
      "  (fc3): Linear(in_features=10, out_features=3, bias=True)\n",
      ")\n"
     ]
    }
   ],
   "source": [
    "# Number of hidden layer nodes\n",
    "hl = 10\n",
    "\n",
    "# Define the neural network\n",
    "class PenguinNet(nn.Module):\n",
    "    def __init__(self):\n",
    "        super(PenguinNet, self).__init__()\n",
    "        self.fc1 = nn.Linear(len(features), hl)\n",
    "        self.fc2 = nn.Linear(hl, hl)\n",
    "        self.fc3 = nn.Linear(hl, len(penguin_classes))\n",
    "\n",
    "    def forward(self, x):\n",
    "        x = torch.relu(self.fc1(x))\n",
    "        x = torch.relu(self.fc2(x))\n",
    "        x = torch.relu(self.fc3(x))\n",
    "        return x\n",
    "\n",
    "# Create a model instance from the network\n",
    "model = PenguinNet()\n",
    "print(model)"
   ]
  },
  {
   "cell_type": "markdown",
   "metadata": {},
   "source": [
    "## Train the model\n",
    "\n",
    "To train the model, we need to repeatedly feed the training values forward through the network, use a loss function to calculate the loss, use an optimizer to backpropagate the weight and bias value adjustments, and validate the model using the test data we withheld.\n",
    "\n",
    "To do this, we'll create a function to train and optimize the model, and function to test the model. Then we'll call these functions iteratively over 50 epochs, logging the loss and accuracy statistics for each epoch."
   ]
  },
  {
   "cell_type": "code",
   "execution_count": 10,
   "metadata": {
    "tags": []
   },
   "outputs": [
    {
     "name": "stdout",
     "output_type": "stream",
     "text": [
      "Epoch: 1\n",
      "Training set: Average loss: 1.118814\n",
      "Validation set: Average loss: 1.023595, Accuracy: 148/411 (36%)\n",
      "\n",
      "Epoch: 2\n",
      "Training set: Average loss: 1.010274\n",
      "Validation set: Average loss: 0.983460, Accuracy: 163/411 (40%)\n",
      "\n",
      "Epoch: 3\n",
      "Training set: Average loss: 0.965314\n",
      "Validation set: Average loss: 0.934165, Accuracy: 191/411 (46%)\n",
      "\n",
      "Epoch: 4\n",
      "Training set: Average loss: 0.911512\n",
      "Validation set: Average loss: 0.867266, Accuracy: 250/411 (61%)\n",
      "\n",
      "Epoch: 5\n",
      "Training set: Average loss: 0.817599\n",
      "Validation set: Average loss: 0.741630, Accuracy: 271/411 (66%)\n",
      "\n",
      "Epoch: 6\n",
      "Training set: Average loss: 0.733155\n",
      "Validation set: Average loss: 0.691801, Accuracy: 302/411 (73%)\n",
      "\n",
      "Epoch: 7\n",
      "Training set: Average loss: 0.696297\n",
      "Validation set: Average loss: 0.662006, Accuracy: 313/411 (76%)\n",
      "\n",
      "Epoch: 8\n",
      "Training set: Average loss: 0.671848\n",
      "Validation set: Average loss: 0.639794, Accuracy: 326/411 (79%)\n",
      "\n",
      "Epoch: 9\n",
      "Training set: Average loss: 0.653217\n",
      "Validation set: Average loss: 0.624659, Accuracy: 338/411 (82%)\n",
      "\n",
      "Epoch: 10\n",
      "Training set: Average loss: 0.638391\n",
      "Validation set: Average loss: 0.610026, Accuracy: 340/411 (83%)\n",
      "\n",
      "Epoch: 11\n",
      "Training set: Average loss: 0.625675\n",
      "Validation set: Average loss: 0.598411, Accuracy: 345/411 (84%)\n",
      "\n",
      "Epoch: 12\n",
      "Training set: Average loss: 0.614702\n",
      "Validation set: Average loss: 0.587058, Accuracy: 347/411 (84%)\n",
      "\n",
      "Epoch: 13\n",
      "Training set: Average loss: 0.605520\n",
      "Validation set: Average loss: 0.580256, Accuracy: 361/411 (88%)\n",
      "\n",
      "Epoch: 14\n",
      "Training set: Average loss: 0.597421\n",
      "Validation set: Average loss: 0.570639, Accuracy: 361/411 (88%)\n",
      "\n",
      "Epoch: 15\n",
      "Training set: Average loss: 0.590132\n",
      "Validation set: Average loss: 0.562355, Accuracy: 361/411 (88%)\n",
      "\n",
      "Epoch: 16\n",
      "Training set: Average loss: 0.583180\n",
      "Validation set: Average loss: 0.556125, Accuracy: 372/411 (91%)\n",
      "\n",
      "Epoch: 17\n",
      "Training set: Average loss: 0.576763\n",
      "Validation set: Average loss: 0.549594, Accuracy: 375/411 (91%)\n",
      "\n",
      "Epoch: 18\n",
      "Training set: Average loss: 0.571021\n",
      "Validation set: Average loss: 0.544289, Accuracy: 382/411 (93%)\n",
      "\n",
      "Epoch: 19\n",
      "Training set: Average loss: 0.565859\n",
      "Validation set: Average loss: 0.540313, Accuracy: 384/411 (93%)\n",
      "\n",
      "Epoch: 20\n",
      "Training set: Average loss: 0.561391\n",
      "Validation set: Average loss: 0.535890, Accuracy: 387/411 (94%)\n",
      "\n",
      "Epoch: 21\n",
      "Training set: Average loss: 0.557255\n",
      "Validation set: Average loss: 0.533102, Accuracy: 395/411 (96%)\n",
      "\n",
      "Epoch: 22\n",
      "Training set: Average loss: 0.553856\n",
      "Validation set: Average loss: 0.529689, Accuracy: 396/411 (96%)\n",
      "\n",
      "Epoch: 23\n",
      "Training set: Average loss: 0.550700\n",
      "Validation set: Average loss: 0.528217, Accuracy: 397/411 (97%)\n",
      "\n",
      "Epoch: 24\n",
      "Training set: Average loss: 0.548152\n",
      "Validation set: Average loss: 0.526174, Accuracy: 398/411 (97%)\n",
      "\n",
      "Epoch: 25\n",
      "Training set: Average loss: 0.546023\n",
      "Validation set: Average loss: 0.521946, Accuracy: 397/411 (97%)\n",
      "\n",
      "Epoch: 26\n",
      "Training set: Average loss: 0.543952\n",
      "Validation set: Average loss: 0.519527, Accuracy: 398/411 (97%)\n",
      "\n",
      "Epoch: 27\n",
      "Training set: Average loss: 0.542010\n",
      "Validation set: Average loss: 0.517247, Accuracy: 398/411 (97%)\n",
      "\n",
      "Epoch: 28\n",
      "Training set: Average loss: 0.540198\n",
      "Validation set: Average loss: 0.515334, Accuracy: 400/411 (97%)\n",
      "\n",
      "Epoch: 29\n",
      "Training set: Average loss: 0.538910\n",
      "Validation set: Average loss: 0.512851, Accuracy: 400/411 (97%)\n",
      "\n",
      "Epoch: 30\n",
      "Training set: Average loss: 0.537316\n",
      "Validation set: Average loss: 0.511922, Accuracy: 404/411 (98%)\n",
      "\n",
      "Epoch: 31\n",
      "Training set: Average loss: 0.536051\n",
      "Validation set: Average loss: 0.511183, Accuracy: 404/411 (98%)\n",
      "\n",
      "Epoch: 32\n",
      "Training set: Average loss: 0.534596\n",
      "Validation set: Average loss: 0.508398, Accuracy: 404/411 (98%)\n",
      "\n",
      "Epoch: 33\n",
      "Training set: Average loss: 0.533217\n",
      "Validation set: Average loss: 0.507756, Accuracy: 404/411 (98%)\n",
      "\n",
      "Epoch: 34\n",
      "Training set: Average loss: 0.532350\n",
      "Validation set: Average loss: 0.504615, Accuracy: 404/411 (98%)\n",
      "\n",
      "Epoch: 35\n",
      "Training set: Average loss: 0.531097\n",
      "Validation set: Average loss: 0.503021, Accuracy: 404/411 (98%)\n",
      "\n",
      "Epoch: 36\n",
      "Training set: Average loss: 0.529758\n",
      "Validation set: Average loss: 0.502382, Accuracy: 404/411 (98%)\n",
      "\n",
      "Epoch: 37\n",
      "Training set: Average loss: 0.528587\n",
      "Validation set: Average loss: 0.501699, Accuracy: 404/411 (98%)\n",
      "\n",
      "Epoch: 38\n",
      "Training set: Average loss: 0.527707\n",
      "Validation set: Average loss: 0.499237, Accuracy: 404/411 (98%)\n",
      "\n",
      "Epoch: 39\n",
      "Training set: Average loss: 0.526532\n",
      "Validation set: Average loss: 0.498585, Accuracy: 404/411 (98%)\n",
      "\n",
      "Epoch: 40\n",
      "Training set: Average loss: 0.525770\n",
      "Validation set: Average loss: 0.496944, Accuracy: 404/411 (98%)\n",
      "\n",
      "Epoch: 41\n",
      "Training set: Average loss: 0.524896\n",
      "Validation set: Average loss: 0.495064, Accuracy: 404/411 (98%)\n",
      "\n",
      "Epoch: 42\n",
      "Training set: Average loss: 0.523894\n",
      "Validation set: Average loss: 0.494486, Accuracy: 404/411 (98%)\n",
      "\n",
      "Epoch: 43\n",
      "Training set: Average loss: 0.523178\n",
      "Validation set: Average loss: 0.492981, Accuracy: 404/411 (98%)\n",
      "\n",
      "Epoch: 44\n",
      "Training set: Average loss: 0.522221\n",
      "Validation set: Average loss: 0.492327, Accuracy: 404/411 (98%)\n",
      "\n",
      "Epoch: 45\n",
      "Training set: Average loss: 0.521573\n",
      "Validation set: Average loss: 0.490850, Accuracy: 401/411 (98%)\n",
      "\n",
      "Epoch: 46\n",
      "Training set: Average loss: 0.521101\n",
      "Validation set: Average loss: 0.490092, Accuracy: 401/411 (98%)\n",
      "\n",
      "Epoch: 47\n",
      "Training set: Average loss: 0.520546\n",
      "Validation set: Average loss: 0.489231, Accuracy: 401/411 (98%)\n",
      "\n",
      "Epoch: 48\n",
      "Training set: Average loss: 0.519708\n",
      "Validation set: Average loss: 0.489281, Accuracy: 405/411 (99%)\n",
      "\n",
      "Epoch: 49\n",
      "Training set: Average loss: 0.519324\n",
      "Validation set: Average loss: 0.488662, Accuracy: 405/411 (99%)\n",
      "\n",
      "Epoch: 50\n",
      "Training set: Average loss: 0.518677\n",
      "Validation set: Average loss: 0.488124, Accuracy: 405/411 (99%)\n",
      "\n"
     ]
    }
   ],
   "source": [
    "def train(model, data_loader, optimizer):\n",
    "    # Set the model to training mode\n",
    "    model.train()\n",
    "    train_loss = 0\n",
    "    \n",
    "    for batch, tensor in enumerate(data_loader):\n",
    "        data, target = tensor\n",
    "        #feedforward\n",
    "        optimizer.zero_grad()\n",
    "        out = model(data)\n",
    "        loss = loss_criteria(out, target)\n",
    "        train_loss += loss.item()\n",
    "\n",
    "        # backpropagate\n",
    "        loss.backward()\n",
    "        optimizer.step()\n",
    "\n",
    "    #Return average loss\n",
    "    avg_loss = train_loss / (batch+1)\n",
    "    print('Training set: Average loss: {:.6f}'.format(avg_loss))\n",
    "    return avg_loss\n",
    "           \n",
    "            \n",
    "def test(model, data_loader):\n",
    "    # Switch the model to evaluation mode (so we don't backpropagate)\n",
    "    model.eval()\n",
    "    test_loss = 0\n",
    "    correct = 0\n",
    "\n",
    "    with torch.no_grad():\n",
    "        batch_count = 0\n",
    "        for batch, tensor in enumerate(data_loader):\n",
    "            batch_count += 1\n",
    "            data, target = tensor\n",
    "            # Get the predictions\n",
    "            out = model(data)\n",
    "\n",
    "            # calculate the loss\n",
    "            test_loss += loss_criteria(out, target).item()\n",
    "\n",
    "            # Calculate the accuracy\n",
    "            _, predicted = torch.max(out.data, 1)\n",
    "            correct += torch.sum(target==predicted).item()\n",
    "            \n",
    "    # Calculate the average loss and total accuracy for this epoch\n",
    "    avg_loss = test_loss/batch_count\n",
    "    print('Validation set: Average loss: {:.6f}, Accuracy: {}/{} ({:.0f}%)\\n'.format(\n",
    "        avg_loss, correct, len(data_loader.dataset),\n",
    "        100. * correct / len(data_loader.dataset)))\n",
    "    \n",
    "    # return average loss for the epoch\n",
    "    return avg_loss\n",
    "\n",
    "# Specify the loss criteria (we'll use CrossEntropyLoss for multi-class classification)\n",
    "loss_criteria = nn.CrossEntropyLoss()\n",
    "\n",
    "# Use an \"Adam\" optimizer to adjust weights\n",
    "# (see https://pytorch.org/docs/stable/optim.html#algorithms for details of supported algorithms)\n",
    "learning_rate = 0.001\n",
    "optimizer = torch.optim.Adam(model.parameters(), lr=learning_rate)\n",
    "optimizer.zero_grad()\n",
    "\n",
    "# We'll track metrics for each epoch in these arrays\n",
    "epoch_nums = []\n",
    "training_loss = []\n",
    "validation_loss = []\n",
    "\n",
    "# Train over 50 epochs\n",
    "epochs = 50\n",
    "for epoch in range(1, epochs + 1):\n",
    "\n",
    "    # print the epoch number\n",
    "    print('Epoch: {}'.format(epoch))\n",
    "    \n",
    "    # Feed training data into the model to optimize the weights\n",
    "    train_loss = train(model, train_loader, optimizer)\n",
    "    \n",
    "    # Feed the test data into the model to check its performance\n",
    "    test_loss = test(model, test_loader)\n",
    "    \n",
    "    # Log the metrics for this epoch\n",
    "    epoch_nums.append(epoch)\n",
    "    training_loss.append(train_loss)\n",
    "    validation_loss.append(test_loss)\n"
   ]
  },
  {
   "cell_type": "markdown",
   "metadata": {},
   "source": [
    "While the training process is running, let's try to understand what's happening:\n",
    "\n",
    "1. In each *epoch*, the full set of training data is passed forward through the network. There are four features for each observation, and four corresponding nodes in the input layer - so the features for each observation are passed as a vector of four values to that layer. However, for efficiency, the feature vectors are grouped into batches; so actually a matrix of multiple feature vectors is fed in each time.\n",
    "2. The matrix of feature values is processed by a function that performs a weighted sum using initialized weights and bias values. The result of this function is then processed by the activation function for the input layer to constrain the values passed to the nodes in the next layer.\n",
    "3. The weighted sum and activation functions are repeated in each layer. Note that the functions operate on vectors and matrices rather than individual scalar values. In other words, the forward pass is essentially a series of nested linear algebra functions. This is the reason data scientists prefer to use computers with graphical processing units (GPUs), since these are optimized for matrix and vector calculations.\n",
    "4. In the final layer of the network, the output vectors contain a calculated value for each possible class (in this case, classes 0, 1, and 2). This vector is processed by a *loss function* that converts these values to probabilities and determines how far they are from the expected values based on the actual classes - so for example, suppose the output for a Gentoo penguin (class 1) observation is \\[0.3, 0.4, 0.3\\]. The correct prediction would be \\[0.0, 1.0, 0.0\\], so the variance between the predicted and actual values (how far away each predicted value is from what it should be) is \\[0.3, 0.6, 0.3\\]. This variance is aggregated for each batch and maintained as a running aggregate to calculate the overall level of error (*loss*) incurred by the training data for the epoch. \n",
    "5. At the end of each epoch, the validation data is passed through the network, and its loss and accuracy (proportion of correct predictions based on the highest probability value in the output vector) are also calculated. It's important to do this because it enables us to compare the performance of the model using data on which it was not trained, helping us determine if it will generalize well for new data or if it's *overfitted* to the training data.\n",
    "6. After all the data has been passed forward through the network, the output of the loss function for the *training* data (but <u>not</u> the *validation* data) is passed to the opimizer. The precise details of how the optimizer processes the loss vary depending on the specific optimization algorithm being used; but fundamentally you can think of the entire network, from the input layer to the loss function as being one big nested (*composite*) function. The optimizer applies some differential calculus to calculate *partial derivatives* for the function with respect to each weight and bias value that was used in the network. It's possible to do this efficiently for a nested function due to something called the *chain rule*, which enables you to determine the derivative of a composite function from the derivatives of its inner function and outer functions. You don't really need to worry about the details of the math here (the optimizer does it for you), but the end result is that the partial derivatives tell us about the slope (or *gradient*) of the loss function with respect to each weight and bias value - in other words, we can determine whether to increase or decrease the weight and bias values in order to decrease the loss.\n",
    "7. Having determined in which direction to adjust the weights and biases, the optimizer uses the *learning rate* to determine by how much to adjust them; and then works backwards through the network in a process called *backpropagation* to assign new values to the weights and biases in each layer.\n",
    "8. Now the next epoch repeats the whole training, validation, and backpropagation process starting with the revised weights and biases from the previous epoch - which hopefully will result in a lower level of loss.\n",
    "9. The process continues like this for 50 epochs.\n",
    "\n",
    "## Review training and validation loss\n",
    "\n",
    "After training is complete, we can examine the loss metrics we recorded while training and validating the model. We're really looking for two things:\n",
    "* The loss should reduce with each epoch, showing that the model is learning the right weights and biases to predict the correct labels.\n",
    "* The training loss and validation loss should follow a similar trend, showing that the model is not overfitting to the training data.\n",
    "\n",
    "Let's plot the loss metrics and see:"
   ]
  },
  {
   "cell_type": "code",
   "execution_count": 11,
   "metadata": {},
   "outputs": [
    {
     "data": {
      "image/png": "[encoded data removed]",
      "text/plain": [
       "<Figure size 640x480 with 1 Axes>"
      ]
     },
     "metadata": {},
     "output_type": "display_data"
    }
   ],
   "source": [
    "%matplotlib inline\n",
    "from matplotlib import pyplot as plt\n",
    "\n",
    "plt.plot(epoch_nums, training_loss)\n",
    "plt.plot(epoch_nums, validation_loss)\n",
    "plt.xlabel('epoch')\n",
    "plt.ylabel('loss')\n",
    "plt.legend(['training', 'validation'], loc='upper right')\n",
    "plt.show()"
   ]
  },
  {
   "cell_type": "markdown",
   "metadata": {},
   "source": [
    "## View the learned weights and biases\n",
    "\n",
    "The trained model consists of the final weights and biases that were determined by the optimizer during training. Based on our network model we should expect the following values for each layer:\n",
    "* Layer 1: There are four input values going to ten output nodes, so there should be 10 x 4 weights and 10 bias values.\n",
    "* Layer 2: There are ten input values going to ten output nodes, so there should be 10 x 10 weights and 10 bias values.\n",
    "* Layer 3: There are ten input values going to three output nodes, so there should be 3 x 10 weights and 3 bias values."
   ]
  },
  {
   "cell_type": "code",
   "execution_count": 13,
   "metadata": {
    "tags": []
   },
   "outputs": [
    {
     "name": "stdout",
     "output_type": "stream",
     "text": [
      "fc1.weight \n",
      " [[-0.00374341  0.2682218  -0.41152257 -0.3679695 ]\n",
      " [-0.1788348  -0.0896625   0.11841749  0.51821065]\n",
      " [-0.04437202  0.13230628 -0.15110654 -0.09828269]\n",
      " [-0.47767425 -0.33114105 -0.20611155  0.01852179]\n",
      " [ 0.22086634  0.5709843  -0.40073684 -0.18715113]\n",
      " [ 0.3154812   0.24764003 -0.20250057  0.39874086]\n",
      " [-0.08059168  0.05290705  0.4527381  -0.46383518]\n",
      " [-0.3545517  -0.15797207 -0.23337851  0.39141223]\n",
      " [-0.32408983 -0.23016644 -0.34932023 -0.4682805 ]\n",
      " [-0.47315425  0.8006402   0.30235702  0.15458637]]\n",
      "fc1.bias \n",
      " [ 0.02629578 -0.2075955   0.08459234 -0.46684736 -0.35586008 -0.45435134\n",
      "  0.31546897  0.25728968 -0.22174752  0.24470912]\n",
      "fc2.weight \n",
      " [[ 0.20224687  0.3143725   0.12550515  0.04272011  0.21202639 -0.18619564\n",
      "   0.05892715 -0.24517313 -0.21917307 -0.16335806]\n",
      " [ 0.14308453  0.08096969 -0.18731831  0.09553465  0.74755335 -0.0114914\n",
      "   0.01207405  0.03671877  0.19618031  0.71802217]\n",
      " [-0.24369258 -0.09584839  0.12428063  0.2620103   0.44052947  0.32746097\n",
      "   0.06293392 -0.24256472  0.02909058 -0.6440622 ]\n",
      " [-0.29470977  0.43702856  0.2404469  -0.31544605 -0.6499845  -0.03369583\n",
      "  -0.05203882 -0.09720274  0.12160733 -0.44800937]\n",
      " [ 0.11592636  0.15991893  0.22637847  0.11824107 -0.31298175 -0.20513597\n",
      "   0.15789726  0.0661869  -0.24668422 -0.1820901 ]\n",
      " [ 0.29749104  0.34017217 -0.13788326 -0.07958971 -1.0044421   0.04035601\n",
      "  -0.23813814 -0.21048178 -0.01742402 -0.21463783]\n",
      " [-0.12950484  0.18764248 -0.19243696  0.2869356   0.21671084 -0.26666948\n",
      "  -0.07870413  0.01426902  0.04613796  0.07500109]\n",
      " [ 0.12409672  0.01894209 -0.15429662  0.1496355  -0.30334112 -0.1874303\n",
      "  -0.07916126 -0.15403877 -0.11062703 -0.25918713]\n",
      " [-0.06726643  0.1659774  -0.20601156 -0.01622862 -0.10636306 -0.0778951\n",
      "   0.00878868  0.00450952  0.06399861  0.46508253]\n",
      " [ 0.29954556  0.20082232  0.3002309  -0.02287012 -0.2840742  -0.14991638\n",
      "   0.21532115 -0.00204995 -0.15717986 -0.24232906]]\n",
      "fc2.bias \n",
      " [-0.2959424  -0.09114707 -0.24115287  0.11549293  0.17096573 -0.32242754\n",
      "  0.19725719 -0.24745122  0.0352336  -0.1282217 ]\n",
      "fc3.weight \n",
      " [[-0.06091028 -0.06208903 -0.28376698 -0.27304304 -0.04948315  0.0040895\n",
      "  -0.14365433  0.11912274 -0.28462344 -0.02134135]\n",
      " [ 0.27809682 -0.41312605  0.27299723  0.7308532  -0.2853832   0.65340465\n",
      "  -0.03649095 -0.14116624 -0.00480561 -0.25554216]\n",
      " [ 0.03393281 -0.1929888   0.7189748  -0.30991545  0.15194914 -0.33092356\n",
      "  -0.07604478 -0.06650442 -1.1151421   0.17134616]]\n",
      "fc3.bias \n",
      " [ 0.25107792  0.10436626 -0.2420127 ]\n"
     ]
    }
   ],
   "source": [
    "for param_tensor in model.state_dict():\n",
    "    print(param_tensor, \"\\n\", model.state_dict()[param_tensor].numpy())"
   ]
  },
  {
   "cell_type": "markdown",
   "metadata": {},
   "source": [
    "## Evaluate model performance\n",
    "\n",
    "So, is the model any good? The raw accuracy reported from the validation data would seem to indicate that it predicts pretty well; but it's typically useful to dig a little deeper and compare the predictions for each possible class. A common way to visualize the performance of a classification model is to create a *confusion matrix* that shows a crosstab of correct and incorrect predictions for each class."
   ]
  },
  {
   "cell_type": "code",
   "execution_count": 14,
   "metadata": {},
   "outputs": [
    {
     "data": {
      "image/png": "[encoded data removed]",
      "text/plain": [
       "<Figure size 640x480 with 2 Axes>"
      ]
     },
     "metadata": {},
     "output_type": "display_data"
    }
   ],
   "source": [
    "#Pytorch doesn't have a built-in confusion matrix metric, so we'll use SciKit-Learn\n",
    "from sklearn.metrics import confusion_matrix\n",
    "import numpy as np\n",
    "\n",
    "# Set the model to evaluate mode\n",
    "model.eval()\n",
    "\n",
    "# Get predictions for the test data\n",
    "x = torch.Tensor(x_test).float()\n",
    "_, predicted = torch.max(model(x).data, 1)\n",
    "\n",
    "# Plot the confusion matrix\n",
    "cm = confusion_matrix(y_test, predicted.numpy())\n",
    "plt.imshow(cm, interpolation=\"nearest\", cmap=plt.cm.Blues)\n",
    "plt.colorbar()\n",
    "tick_marks = np.arange(len(penguin_classes))\n",
    "plt.xticks(tick_marks, penguin_classes, rotation=45)\n",
    "plt.yticks(tick_marks, penguin_classes)\n",
    "plt.xlabel(\"Predicted Species\")\n",
    "plt.ylabel(\"Actual Species\")\n",
    "plt.show()"
   ]
  },
  {
   "cell_type": "markdown",
   "metadata": {},
   "source": [
    "The confusion matrix should show a strong diagonal line indicating that there are more correct than incorrect predictions for each class.\n",
    "\n",
    "## Save the trained model\n",
    "Now that we have a model we believe is reasonably accurate, we can save its trained weights for use later."
   ]
  },
  {
   "cell_type": "code",
   "execution_count": 16,
   "metadata": {},
   "outputs": [
    {
     "name": "stdout",
     "output_type": "stream",
     "text": [
      "model saved as ../models/penguin_classifier.pt\n"
     ]
    }
   ],
   "source": [
    "# Save the model weights\n",
    "model_file = '../models/penguin_classifier.pt'\n",
    "torch.save(model.state_dict(), model_file)\n",
    "del model\n",
    "print('model saved as', model_file)"
   ]
  },
  {
   "cell_type": "markdown",
   "metadata": {},
   "source": [
    "## Use the trained model\n",
    "\n",
    "When we have a new penguin observation, we can use the model to predict the species."
   ]
  },
  {
   "cell_type": "code",
   "execution_count": 17,
   "metadata": {
    "tags": []
   },
   "outputs": [
    {
     "name": "stdout",
     "output_type": "stream",
     "text": [
      "New sample: [[50.4, 15.3, 20, 50]]\n",
      "Prediction: Gentoo\n"
     ]
    }
   ],
   "source": [
    "# New penguin features\n",
    "x_new = [[50.4,15.3,20,50]]\n",
    "print ('New sample: {}'.format(x_new))\n",
    "\n",
    "# Create a new model class and load weights\n",
    "model = PenguinNet()\n",
    "model.load_state_dict(torch.load(model_file))\n",
    "\n",
    "# Set model to evaluation mode\n",
    "model.eval()\n",
    "\n",
    "# Get a prediction for the new data sample\n",
    "x = torch.Tensor(x_new).float()\n",
    "_, predicted = torch.max(model(x).data, 1)\n",
    "\n",
    "print('Prediction:',penguin_classes[predicted.item()])"
   ]
  }
 ],
 "metadata": {
  "kernelspec": {
   "display_name": "rin",
   "language": "python",
   "name": "python3"
  },
  "language_info": {
   "codemirror_mode": {
    "name": "ipython",
    "version": 3
   },
   "file_extension": ".py",
   "mimetype": "text/x-python",
   "name": "python",
   "nbconvert_exporter": "python",
   "pygments_lexer": "ipython3",
   "version": "3.8.15"
  },
  "vscode": {
   "interpreter": {
    "hash": "0f98b681bdce3f32f2bb16a15c5969ee48ce98cc956bbc786f6e97b4d40fde33"
   }
  }
 },
 "nbformat": 4,
 "nbformat_minor": 2
}
