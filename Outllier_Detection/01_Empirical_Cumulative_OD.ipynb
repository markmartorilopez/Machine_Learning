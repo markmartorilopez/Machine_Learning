{
 "cells": [
  {
   "attachments": {},
   "cell_type": "markdown",
   "id": "f12ec631-0d57-4a6d-a0ec-7940abac6968",
   "metadata": {},
   "source": [
    "## Empirical Cumulative Outlier Detection (ECOD)\n",
    "* Outliers are identify by measuring their location in a distribution.\n",
    "* First estimates the distribution of a variable ( feature ) in a non-parametric fashion.\n",
    "* Assumes independences of variables so it can estimate the empirical cumulative distributon of multiple variables.\n",
    "* Create Univariate Outlier-ness Score per variable, that can be added up if multivariate observations.\n",
    "*\n",
    "* PROS:\n",
    "- - No hyperparameters to tune.\n",
    "- - Fast for handling large amount of data.\n",
    "- - Easy interpretation. It lets you inspect how each of the multiple tail probs contributes to the final outlier score."
   ]
  },
  {
   "cell_type": "code",
   "execution_count": 1,
   "id": "56f58ec7-a666-4b08-9f19-a4d6b67e81c8",
   "metadata": {},
   "outputs": [
    {
     "data": {
      "image/png": "[encoded data removed]",
      "text/plain": [
       "<Figure size 640x480 with 1 Axes>"
      ]
     },
     "metadata": {},
     "output_type": "display_data"
    }
   ],
   "source": [
    "# Create a distribution that is the combination of three other distributions\n",
    "from matplotlib import pyplot\n",
    "from numpy.random import normal, gamma\n",
    "from numpy import hstack\n",
    "\n",
    "# Example of a Non-Parametric Sample, by adding 2 gamma and 1 normal distributions.\n",
    "shape, scale = 10, 2.  \n",
    "s1 = gamma(shape, scale, 1000)\n",
    "s2 = gamma(shape * 2, scale * 2, 1000)\n",
    "s3 = normal(loc=0, scale=5, size=1000)\n",
    "sample = hstack((s1, s2, s3))\n",
    "\n",
    "# plot the histogram\n",
    "pyplot.hist(sample, bins=50)\n",
    "pyplot.show()"
   ]
  },
  {
   "cell_type": "code",
   "execution_count": 2,
   "id": "bd33d91a-5260-498f-a14d-dc20e2ad2577",
   "metadata": {},
   "outputs": [],
   "source": [
    "from utils_od import count_stat, descriptive_stat_threshold, confusion_matrix_threshold, confusion_matrix, plot_data"
   ]
  },
  {
   "attachments": {},
   "cell_type": "markdown",
   "id": "d94ae9f5",
   "metadata": {},
   "source": [
    "#### Show the Cumulative Distribution Function of a non-parametric sample:\n",
    "* The function will tell us the y-percentage of appearances of the x-value in the sample."
   ]
  },
  {
   "cell_type": "code",
   "execution_count": 4,
   "id": "8fa69a13-7cc9-435c-b4ad-67fa6fa201aa",
   "metadata": {},
   "outputs": [
    {
     "data": {
      "image/png": "[encoded data removed]",
      "text/plain": [
       "<Figure size 640x480 with 1 Axes>"
      ]
     },
     "metadata": {},
     "output_type": "display_data"
    }
   ],
   "source": [
    "from statsmodels.distributions.empirical_distribution import ECDF\n",
    "sample_ecdf = ECDF(sample)\n",
    "\n",
    "# plot the cdf\n",
    "pyplot.plot(sample_ecdf.x, sample_ecdf.y)\n",
    "pyplot.show()"
   ]
  },
  {
   "attachments": {},
   "cell_type": "markdown",
   "id": "6c2da62c",
   "metadata": {},
   "source": [
    "The cumulative probability of an x-value is the y-value:\n",
    "- The cumulative prob of x-value = -20 is y-values = 0.\n",
    "- The cumulative prob of x-value = 0 is y-values = 0.2.\n",
    "- The cumulative prob of x-value = 150 is y-value = 0.9967.\n",
    "\n",
    "\n",
    "This means that 0 is at the 20 percentile and 125 is at te 99,67 percentile."
   ]
  },
  {
   "cell_type": "code",
   "execution_count": 6,
   "id": "a49a9b3d-f4c6-4d58-b19a-abc478435aec",
   "metadata": {},
   "outputs": [
    {
     "name": "stdout",
     "output_type": "stream",
     "text": [
      "P(x<-20): 0.0000\n",
      "P(x<-2): 0.1127\n",
      "P(x<0): 0.1593\n",
      "P(x<25): 0.5997\n",
      "P(x<50): 0.6830\n",
      "P(x<75): 0.8053\n",
      "P(x<100): 0.9547\n",
      "P(x<125): 0.9940\n",
      "P(x<140): 0.9997\n",
      "P(x<150): 1.0000\n"
     ]
    }
   ],
   "source": [
    "print('P(x<-20): %.4f' % sample_ecdf(-20))\n",
    "print('P(x<-2): %.4f' % sample_ecdf(-2))\n",
    "print('P(x<0): %.4f' % sample_ecdf(0))\n",
    "print('P(x<25): %.4f' % sample_ecdf(25))\n",
    "print('P(x<50): %.4f' % sample_ecdf(50))\n",
    "print('P(x<75): %.4f' % sample_ecdf(75))\n",
    "print('P(x<100): %.4f' % sample_ecdf(100))\n",
    "print('P(x<125): %.4f' % sample_ecdf(125))\n",
    "print('P(x<140): %.4f' % sample_ecdf(140))\n",
    "print('P(x<150): %.4f' % sample_ecdf(150))"
   ]
  },
  {
   "attachments": {},
   "cell_type": "markdown",
   "id": "6a306436",
   "metadata": {},
   "source": [
    "### Generate Data\n",
    "* 500 observations\n",
    "* 6 features per observation\n",
    "* 5% of real outliers"
   ]
  },
  {
   "cell_type": "code",
   "execution_count": 7,
   "id": "9021294f-5f48-4f53-8b36-773852531a1f",
   "metadata": {},
   "outputs": [
    {
     "data": {
      "text/html": [
       "<div>\n",
       "<style scoped>\n",
       "    .dataframe tbody tr th:only-of-type {\n",
       "        vertical-align: middle;\n",
       "    }\n",
       "\n",
       "    .dataframe tbody tr th {\n",
       "        vertical-align: top;\n",
       "    }\n",
       "\n",
       "    .dataframe thead th {\n",
       "        text-align: right;\n",
       "    }\n",
       "</style>\n",
       "<table border=\"1\" class=\"dataframe\">\n",
       "  <thead>\n",
       "    <tr style=\"text-align: right;\">\n",
       "      <th></th>\n",
       "      <th>0</th>\n",
       "      <th>1</th>\n",
       "      <th>2</th>\n",
       "      <th>3</th>\n",
       "      <th>4</th>\n",
       "      <th>5</th>\n",
       "    </tr>\n",
       "  </thead>\n",
       "  <tbody>\n",
       "    <tr>\n",
       "      <th>0</th>\n",
       "      <td>2.396090</td>\n",
       "      <td>2.092611</td>\n",
       "      <td>2.073392</td>\n",
       "      <td>1.988262</td>\n",
       "      <td>1.953473</td>\n",
       "      <td>2.450997</td>\n",
       "    </tr>\n",
       "    <tr>\n",
       "      <th>1</th>\n",
       "      <td>1.631040</td>\n",
       "      <td>1.746182</td>\n",
       "      <td>1.898050</td>\n",
       "      <td>2.380148</td>\n",
       "      <td>1.967332</td>\n",
       "      <td>1.858916</td>\n",
       "    </tr>\n",
       "    <tr>\n",
       "      <th>2</th>\n",
       "      <td>1.824683</td>\n",
       "      <td>2.131412</td>\n",
       "      <td>2.028829</td>\n",
       "      <td>1.703454</td>\n",
       "      <td>2.502966</td>\n",
       "      <td>2.119108</td>\n",
       "    </tr>\n",
       "    <tr>\n",
       "      <th>3</th>\n",
       "      <td>2.106098</td>\n",
       "      <td>2.165173</td>\n",
       "      <td>2.340826</td>\n",
       "      <td>2.170109</td>\n",
       "      <td>1.749139</td>\n",
       "      <td>1.678661</td>\n",
       "    </tr>\n",
       "    <tr>\n",
       "      <th>4</th>\n",
       "      <td>1.829647</td>\n",
       "      <td>1.775596</td>\n",
       "      <td>1.829438</td>\n",
       "      <td>2.054768</td>\n",
       "      <td>1.577190</td>\n",
       "      <td>1.594549</td>\n",
       "    </tr>\n",
       "  </tbody>\n",
       "</table>\n",
       "</div>"
      ],
      "text/plain": [
       "          0         1         2         3         4         5\n",
       "0  2.396090  2.092611  2.073392  1.988262  1.953473  2.450997\n",
       "1  1.631040  1.746182  1.898050  2.380148  1.967332  1.858916\n",
       "2  1.824683  2.131412  2.028829  1.703454  2.502966  2.119108\n",
       "3  2.106098  2.165173  2.340826  2.170109  1.749139  1.678661\n",
       "4  1.829647  1.775596  1.829438  2.054768  1.577190  1.594549"
      ]
     },
     "execution_count": 7,
     "metadata": {},
     "output_type": "execute_result"
    }
   ],
   "source": [
    "import numpy as np\n",
    "import pandas as pd\n",
    "import matplotlib.pyplot as plt\n",
    "from pyod.utils.data import generate_data\n",
    "contamination = 0.05 # percentage of outliers\n",
    "n_train = 500       # number of training points\n",
    "n_test = 500        # number of testing points\n",
    "n_features = 6      # number of features\n",
    "X_train, X_test, y_train, y_test = generate_data(\n",
    "    n_train=n_train, \n",
    "    n_test=n_test, \n",
    "    n_features= n_features, \n",
    "    contamination=contamination, \n",
    "    random_state=123)\n",
    "\n",
    "# Make the 2d numpy array a pandas dataframe for each manipulation \n",
    "X_train_pd = pd.DataFrame(X_train)\n",
    "X_train_pd.head()"
   ]
  },
  {
   "cell_type": "code",
   "execution_count": 9,
   "id": "297037b3-e980-4fae-8362-dcdc00bc0834",
   "metadata": {},
   "outputs": [
    {
     "data": {
      "image/png": "[encoded data removed]",
      "text/plain": [
       "<Figure size 640x480 with 1 Axes>"
      ]
     },
     "metadata": {},
     "output_type": "display_data"
    }
   ],
   "source": [
    "plot_data(X_train_pd= X_train_pd, y_train= y_train)"
   ]
  },
  {
   "attachments": {},
   "cell_type": "markdown",
   "id": "f8ca7d78",
   "metadata": {},
   "source": [
    "* First check if distribution is right/left -skewed, since the outliers will fall respectively.\n",
    "* Left-skewed distribution has a mean lower than the mode.\n",
    "- - ECOD assumes that the Outlier Score is 1 - the CDF.\n",
    "* Right-skewed distribution has a mean higher than the mode.\n",
    "- - ECOD assumes that the Outlier Score is the CDF.\n",
    "* Then, ECOD aggregates all Outlier Scores for a multivariate observation."
   ]
  },
  {
   "attachments": {},
   "cell_type": "markdown",
   "id": "a65c8a08-7fd0-42ef-a0e6-a16c2fc9f5e6",
   "metadata": {},
   "source": [
    "### Build the model and run it with our data set"
   ]
  },
  {
   "cell_type": "code",
   "execution_count": 14,
   "id": "69218229-7ee7-4628-8bf0-336cfad950a0",
   "metadata": {},
   "outputs": [
    {
     "name": "stdout",
     "output_type": "stream",
     "text": [
      "The training data: {0: 450, 1: 50}\n",
      "The training data: {0: 444, 1: 56}\n",
      "The threshold for the defined contamination rate: is: 12.75035460032711\n"
     ]
    }
   ],
   "source": [
    "from pyod.models.ecod import ECOD\n",
    "\n",
    "# Create ECOD instance\n",
    "ecod = ECOD()\n",
    "\n",
    "# Fit the model with the Data\n",
    "ecod.fit(X_train)\n",
    "\n",
    "# Training data\n",
    "y_train_scores = ecod.decision_function(X_train)\n",
    "y_train_pred = ecod.predict(X_train)\n",
    "\n",
    "# Test data\n",
    "y_test_scores = ecod.decision_function(X_test)\n",
    "y_test_pred = ecod.predict(X_test) # outlier labels (0 or 1)\n",
    "\n",
    "print(\"The training data:\", count_stat(y_train_pred))\n",
    "print(\"The training data:\", count_stat(y_test_pred))\n",
    "print(\"The threshold for the defined contamination rate: is:\" , ecod.threshold_)"
   ]
  },
  {
   "attachments": {},
   "cell_type": "markdown",
   "id": "75bbc1bb",
   "metadata": {},
   "source": [
    "## Get the 2 observations with the higher Outlier Score and check its univariate scores:"
   ]
  },
  {
   "cell_type": "code",
   "execution_count": 48,
   "id": "7f838219-c2d1-44ca-b71d-37c6df049175",
   "metadata": {},
   "outputs": [],
   "source": [
    "predicted_outliers = pd.DataFrame(y_train_scores, columns=[\"Outlier Score\"]).sort_values(\"Outlier Score\", ascending=False)"
   ]
  },
  {
   "cell_type": "code",
   "execution_count": 49,
   "id": "dad202e2",
   "metadata": {},
   "outputs": [
    {
     "data": {
      "text/html": [
       "<div>\n",
       "<style scoped>\n",
       "    .dataframe tbody tr th:only-of-type {\n",
       "        vertical-align: middle;\n",
       "    }\n",
       "\n",
       "    .dataframe tbody tr th {\n",
       "        vertical-align: top;\n",
       "    }\n",
       "\n",
       "    .dataframe thead th {\n",
       "        text-align: right;\n",
       "    }\n",
       "</style>\n",
       "<table border=\"1\" class=\"dataframe\">\n",
       "  <thead>\n",
       "    <tr style=\"text-align: right;\">\n",
       "      <th></th>\n",
       "      <th>Outlier Score</th>\n",
       "    </tr>\n",
       "  </thead>\n",
       "  <tbody>\n",
       "    <tr>\n",
       "      <th>488</th>\n",
       "      <td>26.788406</td>\n",
       "    </tr>\n",
       "    <tr>\n",
       "      <th>483</th>\n",
       "      <td>24.372989</td>\n",
       "    </tr>\n",
       "  </tbody>\n",
       "</table>\n",
       "</div>"
      ],
      "text/plain": [
       "     Outlier Score\n",
       "488      26.788406\n",
       "483      24.372989"
      ]
     },
     "execution_count": 49,
     "metadata": {},
     "output_type": "execute_result"
    }
   ],
   "source": [
    "predicted_outliers.head(2)"
   ]
  },
  {
   "cell_type": "code",
   "execution_count": 50,
   "id": "3ea1f354-302e-4b75-b78a-46bede1b6221",
   "metadata": {},
   "outputs": [
    {
     "data": {
      "image/png": "[encoded data removed]",
      "text/plain": [
       "<Figure size 640x480 with 1 Axes>"
      ]
     },
     "metadata": {},
     "output_type": "display_data"
    }
   ],
   "source": [
    "ecod.explain_outlier(488)"
   ]
  },
  {
   "attachments": {},
   "cell_type": "markdown",
   "id": "9fe65092",
   "metadata": {},
   "source": [
    "Observation 488 has a Univariate Outlier Score higher than 90% in all features. Hence it is considered an outlier."
   ]
  },
  {
   "cell_type": "code",
   "execution_count": 51,
   "id": "f6f24314",
   "metadata": {},
   "outputs": [
    {
     "data": {
      "image/png": "[encoded data removed]",
      "text/plain": [
       "<Figure size 640x480 with 1 Axes>"
      ]
     },
     "metadata": {},
     "output_type": "display_data"
    }
   ],
   "source": [
    "ecod.explain_outlier(483)"
   ]
  },
  {
   "attachments": {},
   "cell_type": "markdown",
   "id": "9f01576b-6267-41fa-878f-b3f7318d68a9",
   "metadata": {},
   "source": [
    "### Determine the threshold"
   ]
  },
  {
   "cell_type": "code",
   "execution_count": 52,
   "id": "b8f60a79-b0e7-46f7-84df-e794503cac72",
   "metadata": {},
   "outputs": [
    {
     "data": {
      "image/png": "[encoded data removed]",
      "text/plain": [
       "<Figure size 640x480 with 1 Axes>"
      ]
     },
     "metadata": {},
     "output_type": "display_data"
    }
   ],
   "source": [
    "import matplotlib.pyplot as plt\n",
    "plt.hist(y_train_scores, bins='auto') # arguments are passed to np.histogram\n",
    "plt.title(\"Outlier score\")\n",
    "plt.show()"
   ]
  },
  {
   "attachments": {},
   "cell_type": "markdown",
   "id": "99a4a7cc-6d87-4160-a2a2-055f236e53d5",
   "metadata": {},
   "source": [
    "### Descriptive statistics"
   ]
  },
  {
   "cell_type": "code",
   "execution_count": 53,
   "id": "c85cd8d9-5f34-40c7-ac98-47547b648a79",
   "metadata": {},
   "outputs": [
    {
     "data": {
      "text/html": [
       "<div>\n",
       "<style scoped>\n",
       "    .dataframe tbody tr th:only-of-type {\n",
       "        vertical-align: middle;\n",
       "    }\n",
       "\n",
       "    .dataframe tbody tr th {\n",
       "        vertical-align: top;\n",
       "    }\n",
       "\n",
       "    .dataframe thead th {\n",
       "        text-align: right;\n",
       "    }\n",
       "</style>\n",
       "<table border=\"1\" class=\"dataframe\">\n",
       "  <thead>\n",
       "    <tr style=\"text-align: right;\">\n",
       "      <th></th>\n",
       "      <th>Group</th>\n",
       "      <th>Count</th>\n",
       "      <th>Count %</th>\n",
       "      <th>0</th>\n",
       "      <th>1</th>\n",
       "      <th>2</th>\n",
       "      <th>3</th>\n",
       "      <th>4</th>\n",
       "      <th>5</th>\n",
       "      <th>Anomaly_Score</th>\n",
       "    </tr>\n",
       "  </thead>\n",
       "  <tbody>\n",
       "    <tr>\n",
       "      <th>0</th>\n",
       "      <td>Normal</td>\n",
       "      <td>472</td>\n",
       "      <td>94.4</td>\n",
       "      <td>2.00</td>\n",
       "      <td>2.01</td>\n",
       "      <td>2.00</td>\n",
       "      <td>1.99</td>\n",
       "      <td>2.01</td>\n",
       "      <td>1.98</td>\n",
       "      <td>9.36</td>\n",
       "    </tr>\n",
       "    <tr>\n",
       "      <th>1</th>\n",
       "      <td>Outlier</td>\n",
       "      <td>28</td>\n",
       "      <td>5.6</td>\n",
       "      <td>0.64</td>\n",
       "      <td>0.05</td>\n",
       "      <td>-0.14</td>\n",
       "      <td>0.01</td>\n",
       "      <td>0.18</td>\n",
       "      <td>0.18</td>\n",
       "      <td>22.12</td>\n",
       "    </tr>\n",
       "  </tbody>\n",
       "</table>\n",
       "</div>"
      ],
      "text/plain": [
       "     Group  Count  Count %     0     1     2     3     4     5  Anomaly_Score\n",
       "0   Normal    472     94.4  2.00  2.01  2.00  1.99  2.01  1.98           9.36\n",
       "1  Outlier     28      5.6  0.64  0.05 -0.14  0.01  0.18  0.18          22.12"
      ]
     },
     "execution_count": 53,
     "metadata": {},
     "output_type": "execute_result"
    }
   ],
   "source": [
    "threshold = 15 # Or other value from the above histogram\n",
    "\n",
    "def descriptive_stat_threshold(df,pred_score, threshold):\n",
    "    # Let's see how many '0's and '1's.\n",
    "    df = pd.DataFrame(df)\n",
    "    df['Anomaly_Score'] = pred_score\n",
    "    df['Group'] = np.where(df['Anomaly_Score']< threshold, 'Normal', 'Outlier')\n",
    "\n",
    "    # Now let's show the summary statistics:\n",
    "    cnt = df.groupby('Group')['Anomaly_Score'].count().reset_index().rename(columns={'Anomaly_Score':'Count'})\n",
    "    cnt['Count %'] = (cnt['Count'] / cnt['Count'].sum()) * 100 # The count and count %\n",
    "    stat = df.groupby('Group').mean().round(2).reset_index() # The avg.\n",
    "    stat = cnt.merge(stat, left_on='Group',right_on='Group') # Put the count and the avg. together\n",
    "    return (stat)\n",
    "\n",
    "descriptive_stat_threshold(X_train,y_train_scores, threshold)"
   ]
  },
  {
   "cell_type": "code",
   "execution_count": 20,
   "id": "7e4674ae-e8b3-42d6-b405-4d33fe09d63c",
   "metadata": {},
   "outputs": [
    {
     "data": {
      "text/html": [
       "<div>\n",
       "<style scoped>\n",
       "    .dataframe tbody tr th:only-of-type {\n",
       "        vertical-align: middle;\n",
       "    }\n",
       "\n",
       "    .dataframe tbody tr th {\n",
       "        vertical-align: top;\n",
       "    }\n",
       "\n",
       "    .dataframe thead th {\n",
       "        text-align: right;\n",
       "    }\n",
       "</style>\n",
       "<table border=\"1\" class=\"dataframe\">\n",
       "  <thead>\n",
       "    <tr style=\"text-align: right;\">\n",
       "      <th></th>\n",
       "      <th>Group</th>\n",
       "      <th>Count</th>\n",
       "      <th>Count %</th>\n",
       "      <th>0</th>\n",
       "      <th>1</th>\n",
       "      <th>2</th>\n",
       "      <th>3</th>\n",
       "      <th>4</th>\n",
       "      <th>5</th>\n",
       "      <th>Anomaly_Score</th>\n",
       "    </tr>\n",
       "  </thead>\n",
       "  <tbody>\n",
       "    <tr>\n",
       "      <th>0</th>\n",
       "      <td>Normal</td>\n",
       "      <td>468</td>\n",
       "      <td>93.6</td>\n",
       "      <td>2.02</td>\n",
       "      <td>2.01</td>\n",
       "      <td>2.01</td>\n",
       "      <td>1.99</td>\n",
       "      <td>2.01</td>\n",
       "      <td>2.00</td>\n",
       "      <td>9.40</td>\n",
       "    </tr>\n",
       "    <tr>\n",
       "      <th>1</th>\n",
       "      <td>Outlier</td>\n",
       "      <td>32</td>\n",
       "      <td>6.4</td>\n",
       "      <td>0.43</td>\n",
       "      <td>0.06</td>\n",
       "      <td>0.28</td>\n",
       "      <td>0.43</td>\n",
       "      <td>0.40</td>\n",
       "      <td>0.53</td>\n",
       "      <td>21.24</td>\n",
       "    </tr>\n",
       "  </tbody>\n",
       "</table>\n",
       "</div>"
      ],
      "text/plain": [
       "     Group  Count  Count %     0     1     2     3     4     5  Anomaly_Score\n",
       "0   Normal    468     93.6  2.02  2.01  2.01  1.99  2.01  2.00           9.40\n",
       "1  Outlier     32      6.4  0.43  0.06  0.28  0.43  0.40  0.53          21.24"
      ]
     },
     "execution_count": 20,
     "metadata": {},
     "output_type": "execute_result"
    }
   ],
   "source": [
    "descriptive_stat_threshold(X_test,y_test_scores, threshold)"
   ]
  },
  {
   "cell_type": "code",
   "execution_count": 21,
   "id": "c97c5539-795e-4451-b029-2e95f93a25a9",
   "metadata": {},
   "outputs": [
    {
     "data": {
      "text/html": [
       "<div>\n",
       "<style scoped>\n",
       "    .dataframe tbody tr th:only-of-type {\n",
       "        vertical-align: middle;\n",
       "    }\n",
       "\n",
       "    .dataframe tbody tr th {\n",
       "        vertical-align: top;\n",
       "    }\n",
       "\n",
       "    .dataframe thead th {\n",
       "        text-align: right;\n",
       "    }\n",
       "</style>\n",
       "<table border=\"1\" class=\"dataframe\">\n",
       "  <thead>\n",
       "    <tr style=\"text-align: right;\">\n",
       "      <th>Pred</th>\n",
       "      <th>0</th>\n",
       "      <th>1</th>\n",
       "    </tr>\n",
       "    <tr>\n",
       "      <th>Actual</th>\n",
       "      <th></th>\n",
       "      <th></th>\n",
       "    </tr>\n",
       "  </thead>\n",
       "  <tbody>\n",
       "    <tr>\n",
       "      <th>0.0</th>\n",
       "      <td>450</td>\n",
       "      <td>25</td>\n",
       "    </tr>\n",
       "    <tr>\n",
       "      <th>1.0</th>\n",
       "      <td>0</td>\n",
       "      <td>25</td>\n",
       "    </tr>\n",
       "  </tbody>\n",
       "</table>\n",
       "</div>"
      ],
      "text/plain": [
       "Pred      0   1\n",
       "Actual         \n",
       "0.0     450  25\n",
       "1.0       0  25"
      ]
     },
     "execution_count": 21,
     "metadata": {},
     "output_type": "execute_result"
    }
   ],
   "source": [
    "def confusion_matrix(actual,pred):\n",
    "    Actual_pred = pd.DataFrame({'Actual': actual, 'Pred': pred})\n",
    "    cm = pd.crosstab(Actual_pred['Actual'],Actual_pred['Pred'])\n",
    "    return (cm)\n",
    "confusion_matrix(y_train,y_train_pred)"
   ]
  },
  {
   "cell_type": "markdown",
   "id": "6514f67a-38a8-4520-809d-ebf398a17c68",
   "metadata": {},
   "source": [
    "### Two models: HBOS and ECOD"
   ]
  },
  {
   "cell_type": "code",
   "execution_count": 54,
   "id": "8b7d0781-3bb1-4ee9-8b5a-0f5d2686dcf5",
   "metadata": {},
   "outputs": [
    {
     "data": {
      "text/plain": [
       "[16.320821760780653, 5.563712646460526]"
      ]
     },
     "execution_count": 54,
     "metadata": {},
     "output_type": "execute_result"
    }
   ],
   "source": [
    "########\n",
    "# HBOS #\n",
    "########\n",
    "from pyod.models.hbos import HBOS\n",
    "n_bins = 50\n",
    "hbos = HBOS(n_bins=n_bins, contamination=0.05)\n",
    "hbos.fit(X_train)\n",
    "y_train_hbos_pred = hbos.labels_\n",
    "y_test_hbos_pred = hbos.predict(X_test)\n",
    "y_train_hbos_scores = hbos.decision_function(X_train)\n",
    "y_test_hbos_scores = hbos.decision_function(X_test)\n",
    "\n",
    "########\n",
    "# ECOD #\n",
    "########\n",
    "from pyod.models.ecod import ECOD\n",
    "clf_name = 'ECOD'\n",
    "ecod = ECOD(contamination=0.05)\n",
    "ecod.fit(X_train)\n",
    "y_train_ecod_pred = ecod.labels_\n",
    "y_test_ecod_pred = ecod.predict(X_test)\n",
    "y_train_ecod_scores = ecod.decision_scores_  # raw outlier scores\n",
    "y_test_ecod_scores = ecod.decision_function(X_test)\n",
    "\n",
    "# Thresholds\n",
    "[ecod.threshold_, hbos.threshold_]"
   ]
  },
  {
   "cell_type": "code",
   "execution_count": 55,
   "id": "73c85fdb-1f44-4bfa-a21f-4198c8afdcd6",
   "metadata": {},
   "outputs": [
    {
     "data": {
      "text/html": [
       "<div>\n",
       "<style scoped>\n",
       "    .dataframe tbody tr th:only-of-type {\n",
       "        vertical-align: middle;\n",
       "    }\n",
       "\n",
       "    .dataframe tbody tr th {\n",
       "        vertical-align: top;\n",
       "    }\n",
       "\n",
       "    .dataframe thead th {\n",
       "        text-align: right;\n",
       "    }\n",
       "</style>\n",
       "<table border=\"1\" class=\"dataframe\">\n",
       "  <thead>\n",
       "    <tr style=\"text-align: right;\">\n",
       "      <th>ECOD_pred</th>\n",
       "      <th>0</th>\n",
       "      <th>1</th>\n",
       "    </tr>\n",
       "    <tr>\n",
       "      <th>HBOS_pred</th>\n",
       "      <th></th>\n",
       "      <th></th>\n",
       "    </tr>\n",
       "  </thead>\n",
       "  <tbody>\n",
       "    <tr>\n",
       "      <th>0</th>\n",
       "      <td>473</td>\n",
       "      <td>1</td>\n",
       "    </tr>\n",
       "    <tr>\n",
       "      <th>1</th>\n",
       "      <td>0</td>\n",
       "      <td>26</td>\n",
       "    </tr>\n",
       "  </tbody>\n",
       "</table>\n",
       "</div>"
      ],
      "text/plain": [
       "ECOD_pred    0   1\n",
       "HBOS_pred         \n",
       "0          473   1\n",
       "1            0  26"
      ]
     },
     "execution_count": 55,
     "metadata": {},
     "output_type": "execute_result"
    }
   ],
   "source": [
    "# Put the actual, the HBO score and the ECOD score together\n",
    "Actual_pred = pd.DataFrame({'Actual': y_test, 'HBOS_pred': y_test_hbos_pred, 'ECOD_pred': y_test_ecod_pred})\n",
    "Actual_pred.head()\n",
    "pd.crosstab(Actual_pred['HBOS_pred'],Actual_pred['ECOD_pred'])"
   ]
  },
  {
   "cell_type": "code",
   "execution_count": 56,
   "id": "8ccf5c22-a11f-4ab0-acf0-1abfade5ef9f",
   "metadata": {},
   "outputs": [
    {
     "data": {
      "text/html": [
       "<div>\n",
       "<style scoped>\n",
       "    .dataframe tbody tr th:only-of-type {\n",
       "        vertical-align: middle;\n",
       "    }\n",
       "\n",
       "    .dataframe tbody tr th {\n",
       "        vertical-align: top;\n",
       "    }\n",
       "\n",
       "    .dataframe thead th {\n",
       "        text-align: right;\n",
       "    }\n",
       "</style>\n",
       "<table border=\"1\" class=\"dataframe\">\n",
       "  <thead>\n",
       "    <tr style=\"text-align: right;\">\n",
       "      <th>ECOD_pred</th>\n",
       "      <th>0</th>\n",
       "      <th>1</th>\n",
       "    </tr>\n",
       "    <tr>\n",
       "      <th>HBOS_pred</th>\n",
       "      <th></th>\n",
       "      <th></th>\n",
       "    </tr>\n",
       "  </thead>\n",
       "  <tbody>\n",
       "    <tr>\n",
       "      <th>0</th>\n",
       "      <td>473</td>\n",
       "      <td>1</td>\n",
       "    </tr>\n",
       "    <tr>\n",
       "      <th>1</th>\n",
       "      <td>0</td>\n",
       "      <td>26</td>\n",
       "    </tr>\n",
       "  </tbody>\n",
       "</table>\n",
       "</div>"
      ],
      "text/plain": [
       "ECOD_pred    0   1\n",
       "HBOS_pred         \n",
       "0          473   1\n",
       "1            0  26"
      ]
     },
     "execution_count": 56,
     "metadata": {},
     "output_type": "execute_result"
    }
   ],
   "source": [
    "pd.crosstab(Actual_pred['HBOS_pred'],Actual_pred['ECOD_pred'])"
   ]
  },
  {
   "cell_type": "code",
   "execution_count": 57,
   "id": "a56324ae-e07e-4340-afbf-fd23c597652b",
   "metadata": {},
   "outputs": [
    {
     "data": {
      "text/html": [
       "<div>\n",
       "<style scoped>\n",
       "    .dataframe tbody tr th:only-of-type {\n",
       "        vertical-align: middle;\n",
       "    }\n",
       "\n",
       "    .dataframe tbody tr th {\n",
       "        vertical-align: top;\n",
       "    }\n",
       "\n",
       "    .dataframe thead th {\n",
       "        text-align: right;\n",
       "    }\n",
       "</style>\n",
       "<table border=\"1\" class=\"dataframe\">\n",
       "  <thead>\n",
       "    <tr style=\"text-align: right;\">\n",
       "      <th>Pred</th>\n",
       "      <th>0</th>\n",
       "      <th>1</th>\n",
       "    </tr>\n",
       "    <tr>\n",
       "      <th>Actual</th>\n",
       "      <th></th>\n",
       "      <th></th>\n",
       "    </tr>\n",
       "  </thead>\n",
       "  <tbody>\n",
       "    <tr>\n",
       "      <th>0</th>\n",
       "      <td>473</td>\n",
       "      <td>1</td>\n",
       "    </tr>\n",
       "    <tr>\n",
       "      <th>1</th>\n",
       "      <td>0</td>\n",
       "      <td>26</td>\n",
       "    </tr>\n",
       "  </tbody>\n",
       "</table>\n",
       "</div>"
      ],
      "text/plain": [
       "Pred      0   1\n",
       "Actual         \n",
       "0       473   1\n",
       "1         0  26"
      ]
     },
     "execution_count": 57,
     "metadata": {},
     "output_type": "execute_result"
    }
   ],
   "source": [
    "confusion_matrix(y_test_hbos_pred,y_test_ecod_pred)"
   ]
  },
  {
   "attachments": {},
   "cell_type": "markdown",
   "id": "f9ac37cd",
   "metadata": {},
   "source": [
    "### Summary ECOD\n",
    "* When an observation has a non-parametric variable distribution, we can still estimate its Outlier Score.\n",
    "* ECOD multiplies the probabilities ofa ll dimensions to get the anomaly score."
   ]
  }
 ],
 "metadata": {
  "kernelspec": {
   "display_name": "Python 3 (ipykernel)",
   "language": "python",
   "name": "python3"
  },
  "language_info": {
   "codemirror_mode": {
    "name": "ipython",
    "version": 3
   },
   "file_extension": ".py",
   "mimetype": "text/x-python",
   "name": "python",
   "nbconvert_exporter": "python",
   "pygments_lexer": "ipython3",
   "version": "3.8.15"
  }
 },
 "nbformat": 4,
 "nbformat_minor": 5
}
