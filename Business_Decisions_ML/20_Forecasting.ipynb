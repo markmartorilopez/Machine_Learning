{
 "cells": [
  {
   "attachments": {},
   "cell_type": "markdown",
   "metadata": {},
   "source": [
    "# Forecasting\n",
    "## Predict what's happening in the future. Anticipating.\n",
    "- Strategically, being able to anticipate the results of your actions allows you to identify the efficient strategies to adapt.\n",
    "- Operationally, detecting events that will happen, before they will happen, allows the operations to be more efficient as well.\n",
    "- be aware of the Post hoc, Ergo Propter hoc fallacy. It's not because event B happens after event A, that A causes B. Post hoc, Ergo Propter hoc fallacies are very dangerous when looking for actionable insights in practice. "
   ]
  },
  {
   "cell_type": "markdown",
   "metadata": {},
   "source": [
    "We could think that we should prevent this behavior. Not necessarily, because it may be a symptom and not a cause. In this example, if this forms is for instance a contract designation document, it's a symptom. It's irrelevant to try to prevent it. But we should, instead, see it as a signal to act.\n",
    "Let's call those customers, proactively, to understand how we could serve them better."
   ]
  },
  {
   "attachments": {},
   "cell_type": "markdown",
   "metadata": {},
   "source": [
    "- From prediction, are we targeting marketing, to sales and product management or predictive maintenance.\n",
    "- - 1. how to predict which observations (custumers, employees, etc.) are more likely to behave in a certain way in the future. -> Classical Classification to predict events.\n",
    "- - 2. when is a certain event likely to happen precisely? -> Survival Analysis.\n",
    "- - 3. How to model seasonal effects. For instance, when we have sales volumes that are varying from one season to the other.  "
   ]
  },
  {
   "attachments": {},
   "cell_type": "markdown",
   "metadata": {},
   "source": [
    "# 1. Which custumers, employees, etc. are more likely to behave in a certain way in the future? Although we don't check when."
   ]
  },
  {
   "attachments": {},
   "cell_type": "markdown",
   "metadata": {},
   "source": [
    "- Thanks to the classification regression techniques, we have built a model relating causes and outcomes based on past data.\n",
    "- We can therefore plug in to this model new data that was not used to estimate the parameters of the model.\n",
    "- That is what is called Out-Of-Sample-Data, and we can consequently predict the expected outcomes for those new observations thanks to the original model."
   ]
  },
  {
   "attachments": {},
   "cell_type": "markdown",
   "metadata": {},
   "source": [
    "Credit Scoring from before, use the estimated model to predict new data \"Out-Of-Sample\", not previously seen."
   ]
  },
  {
   "cell_type": "code",
   "execution_count": 1,
   "metadata": {},
   "outputs": [
    {
     "name": "stdout",
     "output_type": "stream",
     "text": [
      "Dataset:\n",
      "   Income  Rating  Cards  Age  Education  Gender Student Married  \\\n",
      "0  21.786     355      1   50         17    Male      No     Yes   \n",
      "1  31.335     289      3   38          7  Female      No      No   \n",
      "2  59.855     365      1   46         13  Female      No     Yes   \n",
      "3  44.061     352      1   79         11    Male      No     Yes   \n",
      "4  82.706     536      2   64         13  Female      No     Yes   \n",
      "\n",
      "          Ethnicity  Balance  \n",
      "0         Caucasian      580  \n",
      "1         Caucasian      172  \n",
      "2         Caucasian      295  \n",
      "3  African American      414  \n",
      "4             Asian      905  \n",
      "\n"
     ]
    }
   ],
   "source": [
    "import pandas as pd\n",
    "import numpy as np\n",
    "import matplotlib.pyplot as plt\n",
    "\n",
    "# Read the data\n",
    "df_new = pd.read_csv(\n",
    "    \"../../DATA/Credit_4.csv\"\n",
    ")\n",
    "\n",
    "df_new = pd.DataFrame(df_new)\n",
    "\n",
    "print(\n",
    "    f\"Dataset:\\n{df_new.head(5)}\\n\"\n",
    ")"
   ]
  },
  {
   "cell_type": "code",
   "execution_count": 12,
   "metadata": {},
   "outputs": [
    {
     "data": {
      "text/html": [
       "<div>\n",
       "<style scoped>\n",
       "    .dataframe tbody tr th:only-of-type {\n",
       "        vertical-align: middle;\n",
       "    }\n",
       "\n",
       "    .dataframe tbody tr th {\n",
       "        vertical-align: top;\n",
       "    }\n",
       "\n",
       "    .dataframe thead th {\n",
       "        text-align: right;\n",
       "    }\n",
       "</style>\n",
       "<table border=\"1\" class=\"dataframe\">\n",
       "  <thead>\n",
       "    <tr style=\"text-align: right;\">\n",
       "      <th></th>\n",
       "      <th>Income</th>\n",
       "      <th>Rating</th>\n",
       "      <th>Cards</th>\n",
       "      <th>Age</th>\n",
       "      <th>Education</th>\n",
       "      <th>Balance</th>\n",
       "    </tr>\n",
       "  </thead>\n",
       "  <tbody>\n",
       "    <tr>\n",
       "      <th>count</th>\n",
       "      <td>100.000000</td>\n",
       "      <td>100.000000</td>\n",
       "      <td>100.000000</td>\n",
       "      <td>100.000000</td>\n",
       "      <td>100.000000</td>\n",
       "      <td>100.000000</td>\n",
       "    </tr>\n",
       "    <tr>\n",
       "      <th>mean</th>\n",
       "      <td>48.712360</td>\n",
       "      <td>375.410000</td>\n",
       "      <td>2.750000</td>\n",
       "      <td>57.720000</td>\n",
       "      <td>13.620000</td>\n",
       "      <td>572.000000</td>\n",
       "    </tr>\n",
       "    <tr>\n",
       "      <th>std</th>\n",
       "      <td>39.071113</td>\n",
       "      <td>164.841834</td>\n",
       "      <td>1.416889</td>\n",
       "      <td>17.271498</td>\n",
       "      <td>3.280737</td>\n",
       "      <td>435.465199</td>\n",
       "    </tr>\n",
       "    <tr>\n",
       "      <th>min</th>\n",
       "      <td>10.735000</td>\n",
       "      <td>112.000000</td>\n",
       "      <td>1.000000</td>\n",
       "      <td>23.000000</td>\n",
       "      <td>6.000000</td>\n",
       "      <td>0.000000</td>\n",
       "    </tr>\n",
       "    <tr>\n",
       "      <th>25%</th>\n",
       "      <td>21.001750</td>\n",
       "      <td>282.000000</td>\n",
       "      <td>2.000000</td>\n",
       "      <td>44.000000</td>\n",
       "      <td>11.000000</td>\n",
       "      <td>191.000000</td>\n",
       "    </tr>\n",
       "    <tr>\n",
       "      <th>50%</th>\n",
       "      <td>33.275000</td>\n",
       "      <td>363.000000</td>\n",
       "      <td>3.000000</td>\n",
       "      <td>57.500000</td>\n",
       "      <td>14.000000</td>\n",
       "      <td>579.000000</td>\n",
       "    </tr>\n",
       "    <tr>\n",
       "      <th>75%</th>\n",
       "      <td>61.797000</td>\n",
       "      <td>448.000000</td>\n",
       "      <td>3.000000</td>\n",
       "      <td>71.000000</td>\n",
       "      <td>16.000000</td>\n",
       "      <td>890.000000</td>\n",
       "    </tr>\n",
       "    <tr>\n",
       "      <th>max</th>\n",
       "      <td>182.728000</td>\n",
       "      <td>982.000000</td>\n",
       "      <td>9.000000</td>\n",
       "      <td>98.000000</td>\n",
       "      <td>19.000000</td>\n",
       "      <td>1999.000000</td>\n",
       "    </tr>\n",
       "  </tbody>\n",
       "</table>\n",
       "</div>"
      ],
      "text/plain": [
       "           Income      Rating       Cards         Age   Education      Balance\n",
       "count  100.000000  100.000000  100.000000  100.000000  100.000000   100.000000\n",
       "mean    48.712360  375.410000    2.750000   57.720000   13.620000   572.000000\n",
       "std     39.071113  164.841834    1.416889   17.271498    3.280737   435.465199\n",
       "min     10.735000  112.000000    1.000000   23.000000    6.000000     0.000000\n",
       "25%     21.001750  282.000000    2.000000   44.000000   11.000000   191.000000\n",
       "50%     33.275000  363.000000    3.000000   57.500000   14.000000   579.000000\n",
       "75%     61.797000  448.000000    3.000000   71.000000   16.000000   890.000000\n",
       "max    182.728000  982.000000    9.000000   98.000000   19.000000  1999.000000"
      ]
     },
     "execution_count": 12,
     "metadata": {},
     "output_type": "execute_result"
    }
   ],
   "source": [
    "df_new.describe()"
   ]
  },
  {
   "attachments": {},
   "cell_type": "markdown",
   "metadata": {},
   "source": [
    "##### Prepare Data"
   ]
  },
  {
   "cell_type": "code",
   "execution_count": 14,
   "metadata": {},
   "outputs": [
    {
     "name": "stdout",
     "output_type": "stream",
     "text": [
      "Features:\n",
      "[[ 21.786   1.     50.     17.    580.      0.      0.      1.      0.\n",
      "    1.   ]\n",
      " [ 31.335   3.     38.      7.    172.      1.      0.      0.      0.\n",
      "    1.   ]\n",
      " [ 59.855   1.     46.     13.    295.      1.      0.      1.      0.\n",
      "    1.   ]]\n",
      "\n",
      "Labels:\n",
      "[355 289 365]\n"
     ]
    }
   ],
   "source": [
    "X_scaled = pd.get_dummies(df_new, drop_first=True)\n",
    "\n",
    "X_new, y_new = X_scaled[[\"Income\",\"Cards\", \"Age\", \"Education\", \"Balance\", \"Gender_Female\",\"Student_Yes\", \"Married_Yes\", \"Ethnicity_Asian\", \"Ethnicity_Caucasian\"]].values, X_scaled['Rating'].values\n",
    "print('Features:',X_new[:3], '\\nLabels:', y_new[:3], sep='\\n')\n"
   ]
  },
  {
   "attachments": {},
   "cell_type": "markdown",
   "metadata": {},
   "source": [
    "##### Load previous model"
   ]
  },
  {
   "cell_type": "code",
   "execution_count": 16,
   "metadata": {},
   "outputs": [
    {
     "name": "stderr",
     "output_type": "stream",
     "text": [
      "/home/mark/anaconda/envs/rin/lib/python3.8/site-packages/sklearn/base.py:329: UserWarning: Trying to unpickle estimator LinearRegression from version 0.23.1 when using version 1.1.3. This might lead to breaking code or invalid results. Use at your own risk. For more info please refer to:\n",
      "https://scikit-learn.org/stable/model_persistence.html#security-maintainability-limitations\n",
      "  warnings.warn(\n"
     ]
    }
   ],
   "source": [
    "import joblib\n",
    "import numpy as np\n",
    "\n",
    "\n",
    "filename = \"../models/Credit_Score_Regression_sklearn.pkl\"\n",
    "\n",
    "#  Load the model from the file\n",
    "model = joblib.load(filename)"
   ]
  },
  {
   "cell_type": "code",
   "execution_count": 27,
   "metadata": {},
   "outputs": [
    {
     "name": "stdout",
     "output_type": "stream",
     "text": [
      "Correlation between Fitted Values and Actual Values:\n",
      "0.9880970401112152\n",
      "\n",
      "MSE: 639.7179994309369\n",
      "RMSE: 25.29264714162867\n",
      "R2: 0.976219635842094\n"
     ]
    },
    {
     "data": {
      "image/png": "[encoded data removed]",
      "text/plain": [
       "<Figure size 640x480 with 1 Axes>"
      ]
     },
     "metadata": {},
     "output_type": "display_data"
    }
   ],
   "source": [
    "from sklearn.metrics import mean_squared_error, r2_score\n",
    "# Get predictions\n",
    "predictions = model.predict(X_new)\n",
    "\n",
    "# Show Correlation Between Fitted Values and Actual values:\n",
    "print(\n",
    "    f\"Correlation between Fitted Values and Actual Values:\\n{np.corrcoef(predictions, y_new)[0,1]}\\n\"\n",
    ")\n",
    "\n",
    "\n",
    "# Display metrics\n",
    "mse = mean_squared_error(y_new, predictions)\n",
    "print(\"MSE:\", mse)\n",
    "rmse = np.sqrt(mse)\n",
    "print(\"RMSE:\", rmse)\n",
    "r2 = r2_score(y_new, predictions)\n",
    "print(\"R2:\", r2)\n",
    "\n",
    "# Plot predicted vs actual\n",
    "plt.scatter(y_new, predictions)\n",
    "plt.xlabel('Actual Labels')\n",
    "plt.ylabel('Fitted Values')\n",
    "plt.title('Predicted vs Actual Rating')\n",
    "z = np.polyfit(y_new, predictions, 1)\n",
    "p = np.poly1d(z)\n",
    "plt.plot(y_new,p(y_new), color='magenta')\n",
    "plt.show()"
   ]
  },
  {
   "attachments": {},
   "cell_type": "markdown",
   "metadata": {},
   "source": [
    "Now what could we do with this in practice?\n",
    "Many things actually. We can identify the applicants who do not have credit score yet but that should be acquired as clients. Or the opposite: avoid including bad credits. You see that once we have estimated the model, we can predict the outcome of interest for any additional observation as long as we have the explanatory variables used in the model."
   ]
  },
  {
   "attachments": {},
   "cell_type": "markdown",
   "metadata": {},
   "source": [
    "# HR Analytics - Employees Attrition Classification"
   ]
  },
  {
   "attachments": {},
   "cell_type": "markdown",
   "metadata": {},
   "source": [
    "- The prediction needs to be seen as a probability that those employees will leave the company in the future."
   ]
  },
  {
   "attachments": {},
   "cell_type": "markdown",
   "metadata": {},
   "source": [
    "- We could, for instance, prioritize our actions and if we do so we need to keep in mind that the probability informs us on the employees that are most likely to leave.\n",
    "- But we also need to add to the analysis information about how much we want to retain those employees."
   ]
  },
  {
   "attachments": {},
   "cell_type": "markdown",
   "metadata": {},
   "source": [
    "Attrain VS Performance"
   ]
  },
  {
   "cell_type": "code",
   "execution_count": 49,
   "metadata": {},
   "outputs": [
    {
     "name": "stdout",
     "output_type": "stream",
     "text": [
      "Dataset:\n",
      "      S   LPE  NP  ANH  TIC  Newborn\n",
      "0  0.86  0.69   4  105    4        1\n",
      "1  0.52  0.98   4  209    2        0\n",
      "2  0.84  0.60   5  207    2        0\n",
      "3  0.60  0.65   3  143    2        1\n",
      "4  0.85  0.57   3  227    2        0\n",
      "\n"
     ]
    }
   ],
   "source": [
    "import pandas as pd\n",
    "import numpy as np\n",
    "import matplotlib.pyplot as plt\n",
    "\n",
    "# Read the data\n",
    "df_new = pd.read_csv(\n",
    "    \"../DATA/HR_4.csv\"\n",
    ")\n",
    "\n",
    "df_new = pd.DataFrame(df_new)\n",
    "\n",
    "print(\n",
    "    f\"Dataset:\\n{df_new.head(5)}\\n\"\n",
    ")"
   ]
  },
  {
   "cell_type": "code",
   "execution_count": 52,
   "metadata": {},
   "outputs": [
    {
     "data": {
      "text/html": [
       "<div>\n",
       "<style scoped>\n",
       "    .dataframe tbody tr th:only-of-type {\n",
       "        vertical-align: middle;\n",
       "    }\n",
       "\n",
       "    .dataframe tbody tr th {\n",
       "        vertical-align: top;\n",
       "    }\n",
       "\n",
       "    .dataframe thead th {\n",
       "        text-align: right;\n",
       "    }\n",
       "</style>\n",
       "<table border=\"1\" class=\"dataframe\">\n",
       "  <thead>\n",
       "    <tr style=\"text-align: right;\">\n",
       "      <th></th>\n",
       "      <th>Satisfaction</th>\n",
       "      <th>Evaluation</th>\n",
       "      <th># Projects</th>\n",
       "      <th># Hours_Year</th>\n",
       "      <th>Time</th>\n",
       "      <th>Newborn</th>\n",
       "    </tr>\n",
       "  </thead>\n",
       "  <tbody>\n",
       "    <tr>\n",
       "      <th>count</th>\n",
       "      <td>1000.000000</td>\n",
       "      <td>1000.000000</td>\n",
       "      <td>1000.000000</td>\n",
       "      <td>1000.000000</td>\n",
       "      <td>1000.00000</td>\n",
       "      <td>1000.000000</td>\n",
       "    </tr>\n",
       "    <tr>\n",
       "      <th>mean</th>\n",
       "      <td>0.662640</td>\n",
       "      <td>0.719340</td>\n",
       "      <td>3.781000</td>\n",
       "      <td>200.166000</td>\n",
       "      <td>3.10300</td>\n",
       "      <td>0.197000</td>\n",
       "    </tr>\n",
       "    <tr>\n",
       "      <th>std</th>\n",
       "      <td>0.224228</td>\n",
       "      <td>0.164401</td>\n",
       "      <td>0.985906</td>\n",
       "      <td>46.054831</td>\n",
       "      <td>1.04474</td>\n",
       "      <td>0.397931</td>\n",
       "    </tr>\n",
       "    <tr>\n",
       "      <th>min</th>\n",
       "      <td>0.120000</td>\n",
       "      <td>0.360000</td>\n",
       "      <td>2.000000</td>\n",
       "      <td>96.000000</td>\n",
       "      <td>2.00000</td>\n",
       "      <td>0.000000</td>\n",
       "    </tr>\n",
       "    <tr>\n",
       "      <th>25%</th>\n",
       "      <td>0.530000</td>\n",
       "      <td>0.590000</td>\n",
       "      <td>3.000000</td>\n",
       "      <td>160.000000</td>\n",
       "      <td>2.00000</td>\n",
       "      <td>0.000000</td>\n",
       "    </tr>\n",
       "    <tr>\n",
       "      <th>50%</th>\n",
       "      <td>0.680000</td>\n",
       "      <td>0.720000</td>\n",
       "      <td>4.000000</td>\n",
       "      <td>201.000000</td>\n",
       "      <td>3.00000</td>\n",
       "      <td>0.000000</td>\n",
       "    </tr>\n",
       "    <tr>\n",
       "      <th>75%</th>\n",
       "      <td>0.850000</td>\n",
       "      <td>0.860000</td>\n",
       "      <td>4.000000</td>\n",
       "      <td>241.000000</td>\n",
       "      <td>4.00000</td>\n",
       "      <td>0.000000</td>\n",
       "    </tr>\n",
       "    <tr>\n",
       "      <th>max</th>\n",
       "      <td>1.000000</td>\n",
       "      <td>1.000000</td>\n",
       "      <td>6.000000</td>\n",
       "      <td>287.000000</td>\n",
       "      <td>6.00000</td>\n",
       "      <td>1.000000</td>\n",
       "    </tr>\n",
       "  </tbody>\n",
       "</table>\n",
       "</div>"
      ],
      "text/plain": [
       "       Satisfaction   Evaluation   # Projects  # Hours_Year        Time  \\\n",
       "count   1000.000000  1000.000000  1000.000000   1000.000000  1000.00000   \n",
       "mean       0.662640     0.719340     3.781000    200.166000     3.10300   \n",
       "std        0.224228     0.164401     0.985906     46.054831     1.04474   \n",
       "min        0.120000     0.360000     2.000000     96.000000     2.00000   \n",
       "25%        0.530000     0.590000     3.000000    160.000000     2.00000   \n",
       "50%        0.680000     0.720000     4.000000    201.000000     3.00000   \n",
       "75%        0.850000     0.860000     4.000000    241.000000     4.00000   \n",
       "max        1.000000     1.000000     6.000000    287.000000     6.00000   \n",
       "\n",
       "           Newborn  \n",
       "count  1000.000000  \n",
       "mean      0.197000  \n",
       "std       0.397931  \n",
       "min       0.000000  \n",
       "25%       0.000000  \n",
       "50%       0.000000  \n",
       "75%       0.000000  \n",
       "max       1.000000  "
      ]
     },
     "execution_count": 52,
     "metadata": {},
     "output_type": "execute_result"
    }
   ],
   "source": [
    "df_new.columns =[\"Satisfaction\",\"Evaluation\",\"# Projects\",\"# Hours_Year\",\"Time\",\"Newborn\"]\n",
    "df_new.describe()"
   ]
  },
  {
   "cell_type": "code",
   "execution_count": 53,
   "metadata": {},
   "outputs": [],
   "source": [
    "# Separate features and labels\n",
    "features = df_new.columns\n",
    "\n",
    "X_new = df_new[features].values"
   ]
  },
  {
   "cell_type": "code",
   "execution_count": 32,
   "metadata": {},
   "outputs": [
    {
     "name": "stderr",
     "output_type": "stream",
     "text": [
      "/home/mark/anaconda/envs/rin/lib/python3.8/site-packages/sklearn/base.py:329: UserWarning: Trying to unpickle estimator LogisticRegression from version 0.23.1 when using version 1.1.3. This might lead to breaking code or invalid results. Use at your own risk. For more info please refer to:\n",
      "https://scikit-learn.org/stable/model_persistence.html#security-maintainability-limitations\n",
      "  warnings.warn(\n"
     ]
    }
   ],
   "source": [
    "import joblib\n",
    "import numpy as np\n",
    "\n",
    "filename = \"../models/Churn_Prediction_Binary.pkl\"\n",
    "\n",
    "#  Load the model from the file\n",
    "model = joblib.load(filename)"
   ]
  },
  {
   "cell_type": "code",
   "execution_count": 33,
   "metadata": {},
   "outputs": [],
   "source": [
    "def draw_confusion_matrix(cm):\n",
    "    \n",
    "    print(\n",
    "        f\"             ACTUAL    \\n         0         1\\n    0    {cm[0][0]}     {cm[0][1]}\\n    1     {cm[1][0]}     {cm[1][1]}\"\n",
    "    )\n",
    "\n",
    "    print(\n",
    "        f\"Precision_0 -> Correctly classified with label 0: {cm[0][0]/(cm[0][0]+cm[1][1])}\"\n",
    "    )\n",
    "\n",
    "    print(\n",
    "        f\"Precision_1 -> Correctly classified with label 1: {cm[1][1]/(cm[0][0]+cm[1][1])}\"\n",
    "    )\n",
    "\n",
    "    print(\n",
    "        f\"Accuracy -> Overall percentage of correctly classified: {(cm[0][0]+cm[1][1])/sum(sum(cm))}\"\n",
    "    )"
   ]
  },
  {
   "cell_type": "code",
   "execution_count": 77,
   "metadata": {},
   "outputs": [
    {
     "data": {
      "text/plain": [
       "Text(0.1, 0.455, 'ACT QUICK')"
      ]
     },
     "execution_count": 77,
     "metadata": {},
     "output_type": "execute_result"
    },
    {
     "data": {
      "image/png": "[encoded data removed]",
      "text/plain": [
       "<Figure size 640x480 with 1 Axes>"
      ]
     },
     "metadata": {},
     "output_type": "display_data"
    }
   ],
   "source": [
    "probas = model.predict_proba(X_new)[:,1]\n",
    "\n",
    "insights_df = pd.DataFrame(probas, columns=[\"Prob_to_leave\"])\n",
    "insights_df[\"Performance\"] = df_new[\"Evaluation\"]\n",
    "insights_df.head(2)\n",
    "\n",
    "plt.scatter(x = \"Prob_to_leave\", y=\"Performance\", data= insights_df)\n",
    "\n",
    "plt.xlabel(\"Probability to leave\", size=12)\n",
    "plt.ylabel(\"Performance\", size=12)\n",
    "plt.title(\"Employees Priority\", size=12)\n",
    "\n",
    "# AS USUAL\n",
    "plt.axhline(y=0.55, color = 'red', linestyle='dashed', linewidth = 2)\n",
    "plt.axvline(x=0.4, color = 'red', linestyle='dashed', linewidth = 2)\n",
    "\n",
    "plt.text(0.1, 0.8, \"AS USUAL\",  c = \"white\", backgroundcolor = \"blue\")\n",
    "plt.text(0.6, 0.8, \"TO BE RETAINED\", c = \"white\", backgroundcolor = \"green\")\n",
    "plt.text(0.6, 0.4, \"IMPROVE PERF\\nOR\\nFIRE\",  c = \"white\", backgroundcolor = \"red\")\n",
    "plt.text(0.1, 0.455, \"ACT QUICK\",  c = \"red\", backgroundcolor = \"black\")\n"
   ]
  },
  {
   "attachments": {},
   "cell_type": "markdown",
   "metadata": {},
   "source": [
    "- **Improve/Fire** We first have the employees that are underperforming. We should improve their performance.\n",
    "- **As usual** Then we have those who are performing okay, and that we should retain.\n",
    "- **To be retained** Among those we want to retain, some employees are not likely to leave soon. So we should manage them as usual.\n",
    "- **Act Quickly, good perf and high prob to leave** And then, on the short run, we should focus on those with a good performance and a high probability to leave, to assess the visual priorities for each employee in a quantitative way."
   ]
  },
  {
   "attachments": {},
   "cell_type": "markdown",
   "metadata": {},
   "source": [
    "Priority Score:\n",
    "- We could for instance, multiply the probability to leave with the performance.\n",
    "- we then have a priority score since the result of this product will be high for the employees that we want to act on quickly, and low for the other ones.\n",
    "- High Values we need to ACT."
   ]
  },
  {
   "cell_type": "code",
   "execution_count": 82,
   "metadata": {},
   "outputs": [
    {
     "data": {
      "text/html": [
       "<div>\n",
       "<style scoped>\n",
       "    .dataframe tbody tr th:only-of-type {\n",
       "        vertical-align: middle;\n",
       "    }\n",
       "\n",
       "    .dataframe tbody tr th {\n",
       "        vertical-align: top;\n",
       "    }\n",
       "\n",
       "    .dataframe thead th {\n",
       "        text-align: right;\n",
       "    }\n",
       "</style>\n",
       "<table border=\"1\" class=\"dataframe\">\n",
       "  <thead>\n",
       "    <tr style=\"text-align: right;\">\n",
       "      <th></th>\n",
       "      <th>Prob_to_leave</th>\n",
       "      <th>Performance</th>\n",
       "      <th>Priority_score</th>\n",
       "    </tr>\n",
       "  </thead>\n",
       "  <tbody>\n",
       "    <tr>\n",
       "      <th>927</th>\n",
       "      <td>0.874727</td>\n",
       "      <td>0.94</td>\n",
       "      <td>0.822</td>\n",
       "    </tr>\n",
       "    <tr>\n",
       "      <th>587</th>\n",
       "      <td>0.887601</td>\n",
       "      <td>0.90</td>\n",
       "      <td>0.799</td>\n",
       "    </tr>\n",
       "    <tr>\n",
       "      <th>476</th>\n",
       "      <td>0.886005</td>\n",
       "      <td>0.85</td>\n",
       "      <td>0.753</td>\n",
       "    </tr>\n",
       "    <tr>\n",
       "      <th>683</th>\n",
       "      <td>0.772466</td>\n",
       "      <td>0.91</td>\n",
       "      <td>0.703</td>\n",
       "    </tr>\n",
       "    <tr>\n",
       "      <th>234</th>\n",
       "      <td>0.840148</td>\n",
       "      <td>0.82</td>\n",
       "      <td>0.689</td>\n",
       "    </tr>\n",
       "  </tbody>\n",
       "</table>\n",
       "</div>"
      ],
      "text/plain": [
       "     Prob_to_leave  Performance  Priority_score\n",
       "927       0.874727         0.94           0.822\n",
       "587       0.887601         0.90           0.799\n",
       "476       0.886005         0.85           0.753\n",
       "683       0.772466         0.91           0.703\n",
       "234       0.840148         0.82           0.689"
      ]
     },
     "execution_count": 82,
     "metadata": {},
     "output_type": "execute_result"
    }
   ],
   "source": [
    "insights_df[\"Priority_score\"] = round(insights_df[\"Prob_to_leave\"] * insights_df[\"Performance\"],3)\n",
    "insights_df.sort_values(\"Priority_score\", ascending=False).head(5)"
   ]
  },
  {
   "attachments": {},
   "cell_type": "markdown",
   "metadata": {},
   "source": [
    "### We could call for a meeting the first 2 employees."
   ]
  },
  {
   "attachments": {},
   "cell_type": "markdown",
   "metadata": {},
   "source": [
    "## Thanks to this approach we can identify Quick Wins.\n",
    "- Clients about to leave who decide to stay.\n",
    "- This type of analysis is also used a lot to prioritize marketing actions such as retention or in the case of propensity- to-buy or cross-sell and up-sell modeling."
   ]
  },
  {
   "attachments": {},
   "cell_type": "markdown",
   "metadata": {},
   "source": [
    "In such a context the probability interest would be the probability that customer buys the product - which can be estimated thanks to a similar model as what we've seen in the HR case. And the equivalent of the performance variable could be the expected margin, for instance, of this product"
   ]
  },
  {
   "attachments": {},
   "cell_type": "markdown",
   "metadata": {},
   "source": [
    "### But using a classification technique as a prediction tool has a major flaw. We may know whether an event is likely to happen in the future, but we don't know when, exactly."
   ]
  },
  {
   "attachments": {},
   "cell_type": "markdown",
   "metadata": {},
   "source": [
    "-------------------------------------------------------------------------------------------------------------------------------"
   ]
  },
  {
   "attachments": {},
   "cell_type": "markdown",
   "metadata": {},
   "source": [
    "# 2. Survival Analysis - When will customers leave, price increase, device break, etc... happen?"
   ]
  },
  {
   "cell_type": "markdown",
   "metadata": {},
   "source": [
    "- We now have identified what were the drivers of attrition and who was likely to leave, but we don't know when exactly.\n",
    "- How long before a customer churns?\n",
    "- How long before a certain mechanical element breaks down?\n",
    "- - This question is actionable in practice. Because if you can anticipate failures you can allocate your maintenance resources more efficiently and reduce the downtime of your processes by replacing the broken pieces proactively."
   ]
  },
  {
   "cell_type": "markdown",
   "metadata": {},
   "source": [
    "### How long before a certain mechanical element breaks down?\n",
    "#### This question is actionable in practice. Because if you can anticipate failures you can allocate your maintenance resources more efficiently and reduce the downtime of your processes by replacing the broken pieces proactively.\n",
    "- In this case, Linear Regression may not be the best solution."
   ]
  },
  {
   "cell_type": "markdown",
   "metadata": {},
   "source": [
    " we have only one or two variables that have a significant effect. But actually, this is neither reliable nor accurate! Because there are many elements that didn't break yet and we don't know how long they will still last. So for the 60% of the observations that didn't break until now, we cannot really say when it will happen. And since, with the standard linear regression, we cannot estimate what's driving an event that didn't happen yet we cannot say anything about those, and we cannot only include these elements that broke either, because we would then have a biased model."
   ]
  },
  {
   "cell_type": "code",
   "execution_count": 84,
   "metadata": {},
   "outputs": [
    {
     "name": "stdout",
     "output_type": "stream",
     "text": [
      "Dataset:\n",
      "   lifetime  broken  pressureInd  moistureInd  temperatureInd   team  \\\n",
      "0        56       0    92.178854   104.230204       96.517159  TeamA   \n",
      "1        81       1    72.075938   103.065701       87.271062  TeamC   \n",
      "2        60       0    96.272254    77.801376      112.196170  TeamA   \n",
      "3        86       1    94.406461   108.493608       72.025374  TeamC   \n",
      "4        34       0    97.752899    99.413492      103.756271  TeamB   \n",
      "\n",
      "    provider  \n",
      "0  Provider4  \n",
      "1  Provider4  \n",
      "2  Provider1  \n",
      "3  Provider2  \n",
      "4  Provider1  \n",
      "\n"
     ]
    }
   ],
   "source": [
    "#### PREDICTIVE MAINTENANCE ####\n",
    "\n",
    "import pandas as pd\n",
    "import numpy as np\n",
    "import matplotlib.pyplot as plt\n",
    "\n",
    "# Read the data\n",
    "df = pd.read_csv(\n",
    "    \"../DATA/MNT.csv\"\n",
    ")\n",
    "\n",
    "df = pd.DataFrame(df)\n",
    "\n",
    "print(\n",
    "    f\"Dataset:\\n{df.head(5)}\\n\"\n",
    ")"
   ]
  },
  {
   "attachments": {},
   "cell_type": "markdown",
   "metadata": {},
   "source": [
    "- lifetime: How long in weeks has it been used.\n",
    "- broken: Is it broken?\n",
    "- pressureInd: Pressure Index\n",
    "- moistureInd: Moisture Index\n",
    "- temperatureInd: Temperature Index\n",
    "- team: Team in charge of maintenance.\n",
    "- provider: Provider of supplied piece."
   ]
  },
  {
   "cell_type": "code",
   "execution_count": 86,
   "metadata": {},
   "outputs": [
    {
     "data": {
      "text/html": [
       "<div>\n",
       "<style scoped>\n",
       "    .dataframe tbody tr th:only-of-type {\n",
       "        vertical-align: middle;\n",
       "    }\n",
       "\n",
       "    .dataframe tbody tr th {\n",
       "        vertical-align: top;\n",
       "    }\n",
       "\n",
       "    .dataframe thead th {\n",
       "        text-align: right;\n",
       "    }\n",
       "</style>\n",
       "<table border=\"1\" class=\"dataframe\">\n",
       "  <thead>\n",
       "    <tr style=\"text-align: right;\">\n",
       "      <th></th>\n",
       "      <th>lifetime</th>\n",
       "      <th>broken</th>\n",
       "      <th>pressureInd</th>\n",
       "      <th>moistureInd</th>\n",
       "      <th>temperatureInd</th>\n",
       "    </tr>\n",
       "  </thead>\n",
       "  <tbody>\n",
       "    <tr>\n",
       "      <th>count</th>\n",
       "      <td>1000.000000</td>\n",
       "      <td>1000.000000</td>\n",
       "      <td>1000.000000</td>\n",
       "      <td>1000.000000</td>\n",
       "      <td>1000.000000</td>\n",
       "    </tr>\n",
       "    <tr>\n",
       "      <th>mean</th>\n",
       "      <td>55.195000</td>\n",
       "      <td>0.397000</td>\n",
       "      <td>98.599338</td>\n",
       "      <td>99.376723</td>\n",
       "      <td>100.628541</td>\n",
       "    </tr>\n",
       "    <tr>\n",
       "      <th>std</th>\n",
       "      <td>26.472737</td>\n",
       "      <td>0.489521</td>\n",
       "      <td>19.964052</td>\n",
       "      <td>9.988726</td>\n",
       "      <td>19.633060</td>\n",
       "    </tr>\n",
       "    <tr>\n",
       "      <th>min</th>\n",
       "      <td>1.000000</td>\n",
       "      <td>0.000000</td>\n",
       "      <td>33.481917</td>\n",
       "      <td>58.547301</td>\n",
       "      <td>42.279598</td>\n",
       "    </tr>\n",
       "    <tr>\n",
       "      <th>25%</th>\n",
       "      <td>34.000000</td>\n",
       "      <td>0.000000</td>\n",
       "      <td>85.558076</td>\n",
       "      <td>92.771764</td>\n",
       "      <td>87.676913</td>\n",
       "    </tr>\n",
       "    <tr>\n",
       "      <th>50%</th>\n",
       "      <td>60.000000</td>\n",
       "      <td>0.000000</td>\n",
       "      <td>97.216997</td>\n",
       "      <td>99.433959</td>\n",
       "      <td>100.592277</td>\n",
       "    </tr>\n",
       "    <tr>\n",
       "      <th>75%</th>\n",
       "      <td>80.000000</td>\n",
       "      <td>1.000000</td>\n",
       "      <td>112.253190</td>\n",
       "      <td>106.120762</td>\n",
       "      <td>113.662885</td>\n",
       "    </tr>\n",
       "    <tr>\n",
       "      <th>max</th>\n",
       "      <td>93.000000</td>\n",
       "      <td>1.000000</td>\n",
       "      <td>173.282541</td>\n",
       "      <td>128.595038</td>\n",
       "      <td>172.544140</td>\n",
       "    </tr>\n",
       "  </tbody>\n",
       "</table>\n",
       "</div>"
      ],
      "text/plain": [
       "          lifetime       broken  pressureInd  moistureInd  temperatureInd\n",
       "count  1000.000000  1000.000000  1000.000000  1000.000000     1000.000000\n",
       "mean     55.195000     0.397000    98.599338    99.376723      100.628541\n",
       "std      26.472737     0.489521    19.964052     9.988726       19.633060\n",
       "min       1.000000     0.000000    33.481917    58.547301       42.279598\n",
       "25%      34.000000     0.000000    85.558076    92.771764       87.676913\n",
       "50%      60.000000     0.000000    97.216997    99.433959      100.592277\n",
       "75%      80.000000     1.000000   112.253190   106.120762      113.662885\n",
       "max      93.000000     1.000000   173.282541   128.595038      172.544140"
      ]
     },
     "execution_count": 86,
     "metadata": {},
     "output_type": "execute_result"
    }
   ],
   "source": [
    "df.describe()"
   ]
  },
  {
   "attachments": {},
   "cell_type": "markdown",
   "metadata": {},
   "source": [
    "- 40% of pieces are broken."
   ]
  },
  {
   "attachments": {},
   "cell_type": "markdown",
   "metadata": {},
   "source": [
    "We have to provide the lifetime and whether the element broke or not for each observation as the dependent variable."
   ]
  },
  {
   "cell_type": "code",
   "execution_count": 195,
   "metadata": {},
   "outputs": [],
   "source": [
    "from sklearn.model_selection import train_test_split\n",
    "# Separate features and labels\n",
    "features = [\"pressureInd\", \"moistureInd\", \"temperatureInd\",\"team_TeamB\" ,\"team_TeamC\" ,\"provider_Provider2\" ,\"provider_Provider3\", \"provider_Provider4\"]\n",
    "label = [\"broken\"]\n",
    "X_dummies = pd.get_dummies(df, drop_first=True)\n",
    "X = X_dummies[features].values\n",
    "\n",
    "y_time = pd.DataFrame(df[\"lifetime\"].values,df[\"broken\"].values.astype(bool))\n",
    "\n",
    "y_time_list = []\n",
    "for it,row in enumerate(y_time.iterrows()):\n",
    "    y_time_list.append((bool(row[0]),row[1].values[0]))\n",
    "y_time_list\n",
    "\n",
    "y_time_array = np.empty(len(y_time_list), dtype=[('Broken', '?'), ('Lifetime', '<f8')])\n",
    "y_time_array[:] = y_time_list\n",
    "\n",
    "\n",
    "##  Split data 70%-30% into training set and test set\n",
    "X_train, X_test, y_train, y_test = train_test_split(X, y_time_array, test_size=0.30, random_state=0)\n",
    "\n",
    "# print ('Training cases: %d\\nTest cases: %d' % (X_train.shape[0], X_test.shape[0]))\n"
   ]
  },
  {
   "attachments": {},
   "cell_type": "markdown",
   "metadata": {},
   "source": [
    "## The Right-Censored Problem"
   ]
  },
  {
   "attachments": {},
   "cell_type": "markdown",
   "metadata": {},
   "source": [
    "- So for the 60% of the observations that didn't break until now, we cannot really say when it will happen. And since, with the standard linear regression, we cannot estimate what's driving an event that didn't happen yet we cannot say anything about those, and we cannot only include these elements that broke either, because we would then have a biased model.\n",
    "- We know who is \"alive\" until now, but even if we suppose that on the long run everybody dies, we don't know when it will happen for those who are alive today."
   ]
  },
  {
   "attachments": {},
   "cell_type": "markdown",
   "metadata": {},
   "source": [
    "### We need a model that can estimate what's driving the probability to die or to break or to default, even for the observations that didn't die yet."
   ]
  },
  {
   "cell_type": "code",
   "execution_count": 196,
   "metadata": {},
   "outputs": [
    {
     "data": {
      "text/plain": [
       "CoxPHSurvivalAnalysis()"
      ]
     },
     "execution_count": 196,
     "metadata": {},
     "output_type": "execute_result"
    }
   ],
   "source": [
    "## A LINEAR REGRESSION WOULD NOT BE AN ACCURATE MODEL, SINCE IT CAN NOT TELL US WHEN ARE THINGS GOING TO HAPPEN.\n",
    "\n",
    "## SO WE CHOOSE A SURVIVAL MODEL ANALYSIS:\n",
    "from sklearn import set_config\n",
    "from sksurv.linear_model import CoxPHSurvivalAnalysis\n",
    "from sksurv.preprocessing import OneHotEncoder\n",
    "\n",
    "set_config(display=\"text\")  # displays text representation of estimators\n",
    "\n",
    "survival_model = CoxPHSurvivalAnalysis()\n",
    "survival_model.fit(X_train,y_train)"
   ]
  },
  {
   "attachments": {},
   "cell_type": "markdown",
   "metadata": {},
   "source": [
    "As usual we identify the significant variables by looking at the p values. The smaller the better. Here we emphasize in bold the variables that have a p-value smaller than 0.05."
   ]
  },
  {
   "cell_type": "code",
   "execution_count": 197,
   "metadata": {},
   "outputs": [
    {
     "data": {
      "text/plain": [
       "pressureInd            0.001112\n",
       "moistureInd           -0.007835\n",
       "temperatureInd         0.014918\n",
       "team_TeamB             0.032049\n",
       "team_TeamC            39.811508\n",
       "provider_Provider2   -79.566214\n",
       "provider_Provider3    61.778744\n",
       "provider_Provider4   -59.510692\n",
       "dtype: float64"
      ]
     },
     "execution_count": 197,
     "metadata": {},
     "output_type": "execute_result"
    }
   ],
   "source": [
    "## Coefficients, one for each variable, where each value corresponds to the log hazard ratio.\n",
    "pd.Series(survival_model.coef_, index=features)"
   ]
  },
  {
   "attachments": {},
   "cell_type": "markdown",
   "metadata": {},
   "source": [
    "moisture index, the temperature index, whether the element is taken care of by Team C, and all the provider variables"
   ]
  },
  {
   "attachments": {},
   "cell_type": "markdown",
   "metadata": {},
   "source": [
    "Positive means that the factor increases the chance of survival, and negative means the opposite"
   ]
  },
  {
   "attachments": {},
   "cell_type": "markdown",
   "metadata": {},
   "source": [
    "We see that moisture has, an average, a positive effect on the lifetime, and that, everything else being equal, the units provided by providers two and four have better expected lifetime than the others."
   ]
  },
  {
   "attachments": {},
   "cell_type": "markdown",
   "metadata": {},
   "source": [
    "- Now that doesn't mean that we should only work with providers two and four.\n",
    "- They may be more expensive or they may provide elements that are used in conditions that are less demanding.\n",
    "- We should investigate. Same with negative effects."
   ]
  },
  {
   "attachments": {},
   "cell_type": "markdown",
   "metadata": {},
   "source": [
    "### Predicting"
   ]
  },
  {
   "attachments": {},
   "cell_type": "markdown",
   "metadata": {},
   "source": [
    "The predict function allows to use the result of the survival model estimations for predicting the expected median \"time to death\" of each individual element. Hence, for each observation, we can compare this expected time to death with the current lifetime and compute the expected remaining lifetime, which is just the difference between the actual lifetime and the expected time to death."
   ]
  },
  {
   "attachments": {},
   "cell_type": "markdown",
   "metadata": {},
   "source": [
    "- We NEED to remove the ones that broke already."
   ]
  },
  {
   "cell_type": "code",
   "execution_count": 217,
   "metadata": {},
   "outputs": [
    {
     "name": "stdout",
     "output_type": "stream",
     "text": [
      "Correlation between prediction and actual values:\n",
      "0.9994424310008364\n"
     ]
    }
   ],
   "source": [
    "from sksurv.metrics import concordance_index_censored\n",
    "\n",
    "prediction = survival_model.predict(X_test)\n",
    "result = concordance_index_censored(y_test[\"Broken\"], y_test[\"Lifetime\"], prediction)\n",
    "print(\n",
    "    f\"Correlation between prediction and actual values:\\n{result[0]}\")\n",
    "\n",
    "\n",
    "insights_df = pd.DataFrame(predictions)"
   ]
  },
  {
   "attachments": {},
   "cell_type": "markdown",
   "metadata": {},
   "source": [
    "#### Evaluation\n",
    "- Use Out Of Sample data.\n",
    "- Train only until a time in past, use the rest to test."
   ]
  },
  {
   "attachments": {},
   "cell_type": "markdown",
   "metadata": {},
   "source": [
    "### Conclusions\n",
    "- It can consequently be used to prioritize our maintenance actions. \n",
    "- And replace the pieces that will break soon, before it happens, by anticipating failures, acting proactively, and therefore decreasing the downtime of the process, we benefit from more efficient resource allocation.\n",
    "- We avoid unnecessary tasks. Here maintenance of pieces that still have a long expected lifetime"
   ]
  },
  {
   "attachments": {},
   "cell_type": "markdown",
   "metadata": {},
   "source": [
    "# 3. Predict all Series Analysis"
   ]
  },
  {
   "attachments": {},
   "cell_type": "markdown",
   "metadata": {},
   "source": [
    "- As a chocolate bar manufacturer, it's important to be able to forecast the sales accurately in order to allocate the right quantities of bars in store proactively. On the one hand, should you have too much chocolate in store, your inventory management won't be efficient. You will waste a lot of money by placing products on the shelves, that will not be purchased.\n",
    "- If you underestimate the demand it may even be worse: your turnover will be impacted negatively because you failed to sell products you could have sold otherwise."
   ]
  },
  {
   "attachments": {},
   "cell_type": "markdown",
   "metadata": {},
   "source": [
    "- Sales of chocolate bars typically vary over time."
   ]
  },
  {
   "cell_type": "code",
   "execution_count": 238,
   "metadata": {},
   "outputs": [
    {
     "data": {
      "text/html": [
       "<div>\n",
       "<style scoped>\n",
       "    .dataframe tbody tr th:only-of-type {\n",
       "        vertical-align: middle;\n",
       "    }\n",
       "\n",
       "    .dataframe tbody tr th {\n",
       "        vertical-align: top;\n",
       "    }\n",
       "\n",
       "    .dataframe thead th {\n",
       "        text-align: right;\n",
       "    }\n",
       "</style>\n",
       "<table border=\"1\" class=\"dataframe\">\n",
       "  <thead>\n",
       "    <tr style=\"text-align: right;\">\n",
       "      <th></th>\n",
       "      <th>time</th>\n",
       "      <th>sales</th>\n",
       "      <th>year</th>\n",
       "      <th>month</th>\n",
       "    </tr>\n",
       "  </thead>\n",
       "  <tbody>\n",
       "    <tr>\n",
       "      <th>0</th>\n",
       "      <td>1</td>\n",
       "      <td>135.481871</td>\n",
       "      <td>2000</td>\n",
       "      <td>01_January</td>\n",
       "    </tr>\n",
       "    <tr>\n",
       "      <th>1</th>\n",
       "      <td>2</td>\n",
       "      <td>281.758729</td>\n",
       "      <td>2000</td>\n",
       "      <td>02_February</td>\n",
       "    </tr>\n",
       "  </tbody>\n",
       "</table>\n",
       "</div>"
      ],
      "text/plain": [
       "   time       sales  year        month\n",
       "0     1  135.481871  2000   01_January\n",
       "1     2  281.758729  2000  02_February"
      ]
     },
     "execution_count": 238,
     "metadata": {},
     "output_type": "execute_result"
    }
   ],
   "source": [
    "#### PREDICTIVE MAINTENANCE ####\n",
    "\n",
    "import pandas as pd\n",
    "import numpy as np\n",
    "import matplotlib.pyplot as plt\n",
    "\n",
    "# Read the data\n",
    "df = pd.read_csv(\n",
    "    \"../DATA/Choc.csv\"\n",
    ")\n",
    "\n",
    "df = pd.DataFrame(df)\n",
    "df.head(2)"
   ]
  },
  {
   "cell_type": "code",
   "execution_count": 230,
   "metadata": {},
   "outputs": [
    {
     "data": {
      "text/html": [
       "<div>\n",
       "<style scoped>\n",
       "    .dataframe tbody tr th:only-of-type {\n",
       "        vertical-align: middle;\n",
       "    }\n",
       "\n",
       "    .dataframe tbody tr th {\n",
       "        vertical-align: top;\n",
       "    }\n",
       "\n",
       "    .dataframe thead th {\n",
       "        text-align: right;\n",
       "    }\n",
       "</style>\n",
       "<table border=\"1\" class=\"dataframe\">\n",
       "  <thead>\n",
       "    <tr style=\"text-align: right;\">\n",
       "      <th></th>\n",
       "      <th>time</th>\n",
       "      <th>sales</th>\n",
       "      <th>year</th>\n",
       "    </tr>\n",
       "  </thead>\n",
       "  <tbody>\n",
       "    <tr>\n",
       "      <th>count</th>\n",
       "      <td>120.000000</td>\n",
       "      <td>120.000000</td>\n",
       "      <td>120.000000</td>\n",
       "    </tr>\n",
       "    <tr>\n",
       "      <th>mean</th>\n",
       "      <td>60.500000</td>\n",
       "      <td>216.699587</td>\n",
       "      <td>2004.500000</td>\n",
       "    </tr>\n",
       "    <tr>\n",
       "      <th>std</th>\n",
       "      <td>34.785054</td>\n",
       "      <td>210.227811</td>\n",
       "      <td>2.884324</td>\n",
       "    </tr>\n",
       "    <tr>\n",
       "      <th>min</th>\n",
       "      <td>1.000000</td>\n",
       "      <td>36.854401</td>\n",
       "      <td>2000.000000</td>\n",
       "    </tr>\n",
       "    <tr>\n",
       "      <th>25%</th>\n",
       "      <td>30.750000</td>\n",
       "      <td>82.883337</td>\n",
       "      <td>2002.000000</td>\n",
       "    </tr>\n",
       "    <tr>\n",
       "      <th>50%</th>\n",
       "      <td>60.500000</td>\n",
       "      <td>163.041470</td>\n",
       "      <td>2004.500000</td>\n",
       "    </tr>\n",
       "    <tr>\n",
       "      <th>75%</th>\n",
       "      <td>90.250000</td>\n",
       "      <td>221.328853</td>\n",
       "      <td>2007.000000</td>\n",
       "    </tr>\n",
       "    <tr>\n",
       "      <th>max</th>\n",
       "      <td>120.000000</td>\n",
       "      <td>1068.622183</td>\n",
       "      <td>2009.000000</td>\n",
       "    </tr>\n",
       "  </tbody>\n",
       "</table>\n",
       "</div>"
      ],
      "text/plain": [
       "             time        sales         year\n",
       "count  120.000000   120.000000   120.000000\n",
       "mean    60.500000   216.699587  2004.500000\n",
       "std     34.785054   210.227811     2.884324\n",
       "min      1.000000    36.854401  2000.000000\n",
       "25%     30.750000    82.883337  2002.000000\n",
       "50%     60.500000   163.041470  2004.500000\n",
       "75%     90.250000   221.328853  2007.000000\n",
       "max    120.000000  1068.622183  2009.000000"
      ]
     },
     "execution_count": 230,
     "metadata": {},
     "output_type": "execute_result"
    }
   ],
   "source": [
    "df.describe()"
   ]
  },
  {
   "cell_type": "code",
   "execution_count": 240,
   "metadata": {},
   "outputs": [
    {
     "data": {
      "text/plain": [
       "(0.0, 1282.346620089864)"
      ]
     },
     "execution_count": 240,
     "metadata": {},
     "output_type": "execute_result"
    },
    {
     "data": {
      "image/png": "[encoded data removed]",
      "text/plain": [
       "<Figure size 640x480 with 1 Axes>"
      ]
     },
     "metadata": {},
     "output_type": "display_data"
    }
   ],
   "source": [
    "plt.plot(df[\"time\"], df[\"sales\"])\n",
    "plt.title(\"Chocolate Bar Sales behaviour yearly.\")\n",
    "plt.xlabel(\"Time in Months\")\n",
    "plt.ylabel(\"Sales\")\n",
    "plt.ylim([0, df[\"sales\"].max()*1.2])"
   ]
  },
  {
   "attachments": {},
   "cell_type": "markdown",
   "metadata": {},
   "source": [
    "- We see that we have peaks and valleys. The sales can go up to one thousand units in one month and go very low during another one. But we also see that there's some kind of regularity in the time service."
   ]
  },
  {
   "attachments": {},
   "cell_type": "markdown",
   "metadata": {},
   "source": [
    "Let's test it by using the month of the year as an exploratory variable in a linear regression, we do a good job at modeling the sales."
   ]
  },
  {
   "cell_type": "code",
   "execution_count": 243,
   "metadata": {},
   "outputs": [
    {
     "data": {
      "text/html": [
       "<table class=\"simpletable\">\n",
       "<caption>OLS Regression Results</caption>\n",
       "<tr>\n",
       "  <th>Dep. Variable:</th>          <td>sales</td>      <th>  R-squared:         </th> <td>   0.931</td>\n",
       "</tr>\n",
       "<tr>\n",
       "  <th>Model:</th>                   <td>OLS</td>       <th>  Adj. R-squared:    </th> <td>   0.924</td>\n",
       "</tr>\n",
       "<tr>\n",
       "  <th>Method:</th>             <td>Least Squares</td>  <th>  F-statistic:       </th> <td>   132.9</td>\n",
       "</tr>\n",
       "<tr>\n",
       "  <th>Date:</th>             <td>Fri, 10 Feb 2023</td> <th>  Prob (F-statistic):</th> <td>1.87e-57</td>\n",
       "</tr>\n",
       "<tr>\n",
       "  <th>Time:</th>                 <td>14:45:43</td>     <th>  Log-Likelihood:    </th> <td> -650.98</td>\n",
       "</tr>\n",
       "<tr>\n",
       "  <th>No. Observations:</th>      <td>   120</td>      <th>  AIC:               </th> <td>   1326.</td>\n",
       "</tr>\n",
       "<tr>\n",
       "  <th>Df Residuals:</th>          <td>   108</td>      <th>  BIC:               </th> <td>   1359.</td>\n",
       "</tr>\n",
       "<tr>\n",
       "  <th>Df Model:</th>              <td>    11</td>      <th>                     </th>     <td> </td>   \n",
       "</tr>\n",
       "<tr>\n",
       "  <th>Covariance Type:</th>      <td>nonrobust</td>    <th>                     </th>     <td> </td>   \n",
       "</tr>\n",
       "</table>\n",
       "<table class=\"simpletable\">\n",
       "<tr>\n",
       "            <td></td>               <th>coef</th>     <th>std err</th>      <th>t</th>      <th>P>|t|</th>  <th>[0.025</th>    <th>0.975]</th>  \n",
       "</tr>\n",
       "<tr>\n",
       "  <th>Intercept</th>             <td>  156.2110</td> <td>   18.306</td> <td>    8.533</td> <td> 0.000</td> <td>  119.925</td> <td>  192.497</td>\n",
       "</tr>\n",
       "<tr>\n",
       "  <th>month[T.02_February]</th>  <td>  116.3766</td> <td>   25.889</td> <td>    4.495</td> <td> 0.000</td> <td>   65.060</td> <td>  167.693</td>\n",
       "</tr>\n",
       "<tr>\n",
       "  <th>month[T.03_March]</th>     <td>   -6.5590</td> <td>   25.889</td> <td>   -0.253</td> <td> 0.800</td> <td>  -57.876</td> <td>   44.758</td>\n",
       "</tr>\n",
       "<tr>\n",
       "  <th>month[T.04_April]</th>     <td>    4.8465</td> <td>   25.889</td> <td>    0.187</td> <td> 0.852</td> <td>  -46.470</td> <td>   56.163</td>\n",
       "</tr>\n",
       "<tr>\n",
       "  <th>month[T.05_May]</th>       <td>   24.2454</td> <td>   25.889</td> <td>    0.937</td> <td> 0.351</td> <td>  -27.071</td> <td>   75.562</td>\n",
       "</tr>\n",
       "<tr>\n",
       "  <th>month[T.06_June]</th>      <td>  -78.0337</td> <td>   25.889</td> <td>   -3.014</td> <td> 0.003</td> <td> -129.350</td> <td>  -26.717</td>\n",
       "</tr>\n",
       "<tr>\n",
       "  <th>month[T.07_July]</th>      <td>  -80.2622</td> <td>   25.889</td> <td>   -3.100</td> <td> 0.002</td> <td> -131.579</td> <td>  -28.945</td>\n",
       "</tr>\n",
       "<tr>\n",
       "  <th>month[T.08_August]</th>    <td>  -94.9413</td> <td>   25.889</td> <td>   -3.667</td> <td> 0.000</td> <td> -146.258</td> <td>  -43.625</td>\n",
       "</tr>\n",
       "<tr>\n",
       "  <th>month[T.09_September]</th> <td>  -81.9211</td> <td>   25.889</td> <td>   -3.164</td> <td> 0.002</td> <td> -133.238</td> <td>  -30.604</td>\n",
       "</tr>\n",
       "<tr>\n",
       "  <th>month[T.10_October]</th>   <td>   30.1851</td> <td>   25.889</td> <td>    1.166</td> <td> 0.246</td> <td>  -21.132</td> <td>   81.502</td>\n",
       "</tr>\n",
       "<tr>\n",
       "  <th>month[T.11_November]</th>  <td>  230.8937</td> <td>   25.889</td> <td>    8.919</td> <td> 0.000</td> <td>  179.577</td> <td>  282.210</td>\n",
       "</tr>\n",
       "<tr>\n",
       "  <th>month[T.12_December]</th>  <td>  661.0336</td> <td>   25.889</td> <td>   25.533</td> <td> 0.000</td> <td>  609.717</td> <td>  712.350</td>\n",
       "</tr>\n",
       "</table>\n",
       "<table class=\"simpletable\">\n",
       "<tr>\n",
       "  <th>Omnibus:</th>       <td>24.394</td> <th>  Durbin-Watson:     </th> <td>   2.111</td>\n",
       "</tr>\n",
       "<tr>\n",
       "  <th>Prob(Omnibus):</th> <td> 0.000</td> <th>  Jarque-Bera (JB):  </th> <td> 168.169</td>\n",
       "</tr>\n",
       "<tr>\n",
       "  <th>Skew:</th>          <td> 0.211</td> <th>  Prob(JB):          </th> <td>3.04e-37</td>\n",
       "</tr>\n",
       "<tr>\n",
       "  <th>Kurtosis:</th>      <td> 8.784</td> <th>  Cond. No.          </th> <td>    12.9</td>\n",
       "</tr>\n",
       "</table><br/><br/>Notes:<br/>[1] Standard Errors assume that the covariance matrix of the errors is correctly specified."
      ],
      "text/plain": [
       "<class 'statsmodels.iolib.summary.Summary'>\n",
       "\"\"\"\n",
       "                            OLS Regression Results                            \n",
       "==============================================================================\n",
       "Dep. Variable:                  sales   R-squared:                       0.931\n",
       "Model:                            OLS   Adj. R-squared:                  0.924\n",
       "Method:                 Least Squares   F-statistic:                     132.9\n",
       "Date:                Fri, 10 Feb 2023   Prob (F-statistic):           1.87e-57\n",
       "Time:                        14:45:43   Log-Likelihood:                -650.98\n",
       "No. Observations:                 120   AIC:                             1326.\n",
       "Df Residuals:                     108   BIC:                             1359.\n",
       "Df Model:                          11                                         \n",
       "Covariance Type:            nonrobust                                         \n",
       "=========================================================================================\n",
       "                            coef    std err          t      P>|t|      [0.025      0.975]\n",
       "-----------------------------------------------------------------------------------------\n",
       "Intercept               156.2110     18.306      8.533      0.000     119.925     192.497\n",
       "month[T.02_February]    116.3766     25.889      4.495      0.000      65.060     167.693\n",
       "month[T.03_March]        -6.5590     25.889     -0.253      0.800     -57.876      44.758\n",
       "month[T.04_April]         4.8465     25.889      0.187      0.852     -46.470      56.163\n",
       "month[T.05_May]          24.2454     25.889      0.937      0.351     -27.071      75.562\n",
       "month[T.06_June]        -78.0337     25.889     -3.014      0.003    -129.350     -26.717\n",
       "month[T.07_July]        -80.2622     25.889     -3.100      0.002    -131.579     -28.945\n",
       "month[T.08_August]      -94.9413     25.889     -3.667      0.000    -146.258     -43.625\n",
       "month[T.09_September]   -81.9211     25.889     -3.164      0.002    -133.238     -30.604\n",
       "month[T.10_October]      30.1851     25.889      1.166      0.246     -21.132      81.502\n",
       "month[T.11_November]    230.8937     25.889      8.919      0.000     179.577     282.210\n",
       "month[T.12_December]    661.0336     25.889     25.533      0.000     609.717     712.350\n",
       "==============================================================================\n",
       "Omnibus:                       24.394   Durbin-Watson:                   2.111\n",
       "Prob(Omnibus):                  0.000   Jarque-Bera (JB):              168.169\n",
       "Skew:                           0.211   Prob(JB):                     3.04e-37\n",
       "Kurtosis:                       8.784   Cond. No.                         12.9\n",
       "==============================================================================\n",
       "\n",
       "Notes:\n",
       "[1] Standard Errors assume that the covariance matrix of the errors is correctly specified.\n",
       "\"\"\""
      ]
     },
     "execution_count": 243,
     "metadata": {},
     "output_type": "execute_result"
    }
   ],
   "source": [
    "import statsmodels.api as sm\n",
    "\n",
    "\n",
    "## Ordinary Least Square Linear Regression:\n",
    "model = sm.OLS.from_formula(\"sales ~ month\", data=df)\n",
    "result = model.fit()\n",
    "result.summary()"
   ]
  },
  {
   "attachments": {},
   "cell_type": "markdown",
   "metadata": {},
   "source": [
    "We see that December, November and February have on average a positive effect on sales. A sign of the estimate is indeed positive in those cases and also the months June to September report a decrease in sales on average."
   ]
  },
  {
   "attachments": {},
   "cell_type": "markdown",
   "metadata": {},
   "source": [
    "we could for instance use box plots as we do here to report the distribution of sales per month. A box plot allows for different cases here for different months to report the distribution of a certain value here to sales."
   ]
  },
  {
   "cell_type": "code",
   "execution_count": 253,
   "metadata": {},
   "outputs": [
    {
     "data": {
      "text/plain": [
       "<AxesSubplot: title={'center': 'sales'}, xlabel='month'>"
      ]
     },
     "execution_count": 253,
     "metadata": {},
     "output_type": "execute_result"
    },
    {
     "data": {
      "image/png": "[encoded data removed]",
      "text/plain": [
       "<Figure size 700x500 with 1 Axes>"
      ]
     },
     "metadata": {},
     "output_type": "display_data"
    }
   ],
   "source": [
    "df.boxplot(column=\"sales\", by=\"month\", figsize=(7,5))"
   ]
  },
  {
   "attachments": {},
   "cell_type": "markdown",
   "metadata": {},
   "source": [
    "The box itself contains 50% of the values of the specific month and the bar within the box reports the median value."
   ]
  },
  {
   "cell_type": "code",
   "execution_count": 261,
   "metadata": {},
   "outputs": [
    {
     "data": {
      "image/png": "[encoded data removed]",
      "text/plain": [
       "<Figure size 640x480 with 1 Axes>"
      ]
     },
     "metadata": {},
     "output_type": "display_data"
    }
   ],
   "source": [
    "plt.plot(df[\"time\"], df[\"sales\"], label = \"Actual\")\n",
    "plt.title(\"Chocolate Bar Sales vs Predicted over Time.\")\n",
    "plt.xlabel(\"Time in Months\")\n",
    "plt.ylabel(\"Sales\")\n",
    "plt.ylim([0, df[\"sales\"].max()*1.2])\n",
    "\n",
    "plt.plot(df[\"time\"], result.fittedvalues, label=\"Fitted Values\")\n",
    "plt.legend()\n",
    "\n",
    "plt.show()"
   ]
  },
  {
   "attachments": {},
   "cell_type": "markdown",
   "metadata": {},
   "source": [
    "We see that the fit is indeed very good. We can therefore use the model we have to forecast what will be the sales for each specific month in the future. And while the sales- seen globally- are highly valuable variance given a certain month, is a lot smaller than what we could have expected before."
   ]
  },
  {
   "attachments": {},
   "cell_type": "markdown",
   "metadata": {},
   "source": [
    "### CONLCUSION\n",
    "- We reduced a lot the uncertainty, and we can now use our ability to forcast future sales to allocate the stocks more efficiently. We will maximise our sales, while decreasing our cost of inventory management. "
   ]
  }
 ],
 "metadata": {
  "kernelspec": {
   "display_name": "rin",
   "language": "python",
   "name": "python3"
  },
  "language_info": {
   "codemirror_mode": {
    "name": "ipython",
    "version": 3
   },
   "file_extension": ".py",
   "mimetype": "text/x-python",
   "name": "python",
   "nbconvert_exporter": "python",
   "pygments_lexer": "ipython3",
   "version": "3.8.15"
  },
  "orig_nbformat": 4,
  "vscode": {
   "interpreter": {
    "hash": "0f98b681bdce3f32f2bb16a15c5969ee48ce98cc956bbc786f6e97b4d40fde33"
   }
  }
 },
 "nbformat": 4,
 "nbformat_minor": 2
}
