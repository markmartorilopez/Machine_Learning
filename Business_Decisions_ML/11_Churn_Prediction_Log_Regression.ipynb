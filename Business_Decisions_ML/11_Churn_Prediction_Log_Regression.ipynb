{
 "cells": [
  {
   "attachments": {},
   "cell_type": "markdown",
   "metadata": {},
   "source": [
    "# In order to predict why an employee is churning, we also should take into account the employees who decided not to."
   ]
  },
  {
   "attachments": {},
   "cell_type": "markdown",
   "metadata": {},
   "source": [
    "- Focus on 3 aspects:\n",
    "- 1. Explanatory power of the chosen model? Is it helpful describing the situation? This can be measured by comparing the predicted values and the observed ones (r2_score for example).\n",
    "- - Or the number of correctly classified observation if we use a logistic regression. \n",
    "- 2. If the model has power enough, we focus on What are the significant factors? Which factors/attributes/features are significant explaining the power of the model.\n",
    "- - This can be done by checking the p-value (how weak the significance is) of the features, the smaller the pvalue the more significant it is. \n",
    "- 3. Sign of the significant effect. Positive or Negative?"
   ]
  },
  {
   "attachments": {},
   "cell_type": "markdown",
   "metadata": {},
   "source": [
    "## Step 1. Estimate wether the model does a good job at predicting the outcome in an unkown situation."
   ]
  },
  {
   "attachments": {},
   "cell_type": "markdown",
   "metadata": {},
   "source": [
    "For each observation, the regression provides a probability that maps to a 0 or a 1.\n"
   ]
  },
  {
   "cell_type": "code",
   "execution_count": 2,
   "metadata": {},
   "outputs": [
    {
     "name": "stdout",
     "output_type": "stream",
     "text": [
      "Dataset:\n",
      "      S   LPE  NP  ANH  TIC  Newborn  left\n",
      "0  0.38  0.53   2  157    3        0     1\n",
      "1  0.80  0.86   5  262    6        0     1\n",
      "2  0.11  0.88   7  272    4        0     1\n",
      "3  0.72  0.87   5  223    5        0     1\n",
      "4  0.37  0.52   2  159    3        0     1\n",
      "\n",
      "Shape:\n",
      "(12000, 7)\n",
      "\n",
      "Missing Values:\n",
      "S          0\n",
      "LPE        0\n",
      "NP         0\n",
      "ANH        0\n",
      "TIC        0\n",
      "Newborn    0\n",
      "left       0\n",
      "dtype: int64\n"
     ]
    }
   ],
   "source": [
    "import pandas as pd\n",
    "import numpy as np\n",
    "import matplotlib.pyplot as plt\n",
    "\n",
    "# Read the data\n",
    "df = pd.read_csv(\n",
    "    \"../DATA/HR_3.csv\"\n",
    ")\n",
    "\n",
    "df = pd.DataFrame(df)\n",
    "\n",
    "print(\n",
    "    f\"Dataset:\\n{df.head(5)}\\n\"\n",
    ")\n",
    "\n",
    "print(\n",
    "    f\"Shape:\\n{df.shape}\"\n",
    ")\n",
    "\n",
    "print(\n",
    "    f\"\\nMissing Values:\\n{df.isnull().sum()}\"\n",
    ")"
   ]
  },
  {
   "attachments": {},
   "cell_type": "markdown",
   "metadata": {},
   "source": [
    "- S: Satisfaction from 0 to 1.\n",
    "- LPE: Last project evaluation by client from 0 to 1.\n",
    "- NP: Number of projects made by employee in the last 12 months.\n",
    "- ANH: Average number of hours worked in the last 12 month by employee.\n",
    "- TIC: Time Spent in Company in the last 12 months.\n",
    "- Newborn: 1 if newborn had in the last 12 months, 0 otherwise.\n",
    "- left: 1 if they left, 0 if they did not."
   ]
  },
  {
   "cell_type": "code",
   "execution_count": 3,
   "metadata": {},
   "outputs": [
    {
     "data": {
      "text/html": [
       "<div>\n",
       "<style scoped>\n",
       "    .dataframe tbody tr th:only-of-type {\n",
       "        vertical-align: middle;\n",
       "    }\n",
       "\n",
       "    .dataframe tbody tr th {\n",
       "        vertical-align: top;\n",
       "    }\n",
       "\n",
       "    .dataframe thead th {\n",
       "        text-align: right;\n",
       "    }\n",
       "</style>\n",
       "<table border=\"1\" class=\"dataframe\">\n",
       "  <thead>\n",
       "    <tr style=\"text-align: right;\">\n",
       "      <th></th>\n",
       "      <th>Satisfaction</th>\n",
       "      <th>Evaluation</th>\n",
       "      <th># Projects</th>\n",
       "      <th># Hours_Year</th>\n",
       "      <th>Time</th>\n",
       "      <th>Newborn</th>\n",
       "      <th>Left</th>\n",
       "    </tr>\n",
       "  </thead>\n",
       "  <tbody>\n",
       "    <tr>\n",
       "      <th>count</th>\n",
       "      <td>12000.000000</td>\n",
       "      <td>12000.000000</td>\n",
       "      <td>12000.000000</td>\n",
       "      <td>12000.000000</td>\n",
       "      <td>12000.000000</td>\n",
       "      <td>12000.000000</td>\n",
       "      <td>12000.000000</td>\n",
       "    </tr>\n",
       "    <tr>\n",
       "      <th>mean</th>\n",
       "      <td>0.629463</td>\n",
       "      <td>0.716558</td>\n",
       "      <td>3.801833</td>\n",
       "      <td>200.437917</td>\n",
       "      <td>3.228750</td>\n",
       "      <td>0.154167</td>\n",
       "      <td>0.166667</td>\n",
       "    </tr>\n",
       "    <tr>\n",
       "      <th>std</th>\n",
       "      <td>0.241100</td>\n",
       "      <td>0.168368</td>\n",
       "      <td>1.163906</td>\n",
       "      <td>48.740178</td>\n",
       "      <td>1.056811</td>\n",
       "      <td>0.361123</td>\n",
       "      <td>0.372694</td>\n",
       "    </tr>\n",
       "    <tr>\n",
       "      <th>min</th>\n",
       "      <td>0.090000</td>\n",
       "      <td>0.360000</td>\n",
       "      <td>2.000000</td>\n",
       "      <td>96.000000</td>\n",
       "      <td>2.000000</td>\n",
       "      <td>0.000000</td>\n",
       "      <td>0.000000</td>\n",
       "    </tr>\n",
       "    <tr>\n",
       "      <th>25%</th>\n",
       "      <td>0.480000</td>\n",
       "      <td>0.570000</td>\n",
       "      <td>3.000000</td>\n",
       "      <td>157.000000</td>\n",
       "      <td>2.000000</td>\n",
       "      <td>0.000000</td>\n",
       "      <td>0.000000</td>\n",
       "    </tr>\n",
       "    <tr>\n",
       "      <th>50%</th>\n",
       "      <td>0.660000</td>\n",
       "      <td>0.720000</td>\n",
       "      <td>4.000000</td>\n",
       "      <td>199.500000</td>\n",
       "      <td>3.000000</td>\n",
       "      <td>0.000000</td>\n",
       "      <td>0.000000</td>\n",
       "    </tr>\n",
       "    <tr>\n",
       "      <th>75%</th>\n",
       "      <td>0.820000</td>\n",
       "      <td>0.860000</td>\n",
       "      <td>5.000000</td>\n",
       "      <td>243.000000</td>\n",
       "      <td>4.000000</td>\n",
       "      <td>0.000000</td>\n",
       "      <td>0.000000</td>\n",
       "    </tr>\n",
       "    <tr>\n",
       "      <th>max</th>\n",
       "      <td>1.000000</td>\n",
       "      <td>1.000000</td>\n",
       "      <td>7.000000</td>\n",
       "      <td>310.000000</td>\n",
       "      <td>6.000000</td>\n",
       "      <td>1.000000</td>\n",
       "      <td>1.000000</td>\n",
       "    </tr>\n",
       "  </tbody>\n",
       "</table>\n",
       "</div>"
      ],
      "text/plain": [
       "       Satisfaction    Evaluation    # Projects  # Hours_Year          Time  \\\n",
       "count  12000.000000  12000.000000  12000.000000  12000.000000  12000.000000   \n",
       "mean       0.629463      0.716558      3.801833    200.437917      3.228750   \n",
       "std        0.241100      0.168368      1.163906     48.740178      1.056811   \n",
       "min        0.090000      0.360000      2.000000     96.000000      2.000000   \n",
       "25%        0.480000      0.570000      3.000000    157.000000      2.000000   \n",
       "50%        0.660000      0.720000      4.000000    199.500000      3.000000   \n",
       "75%        0.820000      0.860000      5.000000    243.000000      4.000000   \n",
       "max        1.000000      1.000000      7.000000    310.000000      6.000000   \n",
       "\n",
       "            Newborn          Left  \n",
       "count  12000.000000  12000.000000  \n",
       "mean       0.154167      0.166667  \n",
       "std        0.361123      0.372694  \n",
       "min        0.000000      0.000000  \n",
       "25%        0.000000      0.000000  \n",
       "50%        0.000000      0.000000  \n",
       "75%        0.000000      0.000000  \n",
       "max        1.000000      1.000000  "
      ]
     },
     "execution_count": 3,
     "metadata": {},
     "output_type": "execute_result"
    }
   ],
   "source": [
    "df.columns =[\"Satisfaction\",\"Evaluation\",\"# Projects\",\"# Hours_Year\",\"Time\",\"Newborn\", \"Left\"]\n",
    "df.describe()"
   ]
  },
  {
   "attachments": {},
   "cell_type": "markdown",
   "metadata": {},
   "source": [
    "- We can easily spot that almost 17% of our employees left the company. Mean(left)\n",
    "- Also, that 15% of the employees had a baby in the last year.\n",
    "- And that on average, employees stay in the business for 3.2 years."
   ]
  },
  {
   "cell_type": "code",
   "execution_count": 4,
   "metadata": {},
   "outputs": [
    {
     "name": "stdout",
     "output_type": "stream",
     "text": [
      "Correlations against Left:\n",
      "\n",
      "Satisfaction: -0.3515320246474245\n",
      "Evaluation: 0.01183813202713495\n",
      "# Projects: 0.02888288931996173\n",
      "# Hours_Year: 0.06859936844819246\n",
      "Time: 0.27475629979739813\n",
      "Newborn: -0.12590875893738793\n",
      "Left: 0.9999999999999999\n"
     ]
    }
   ],
   "source": [
    "print(\"Correlations against Left:\\n\")\n",
    "for col in df.columns:\n",
    "    print(\n",
    "        f\"{col}: {df['Left'].corr(df[col])}\"\n",
    "    )"
   ]
  },
  {
   "attachments": {},
   "cell_type": "markdown",
   "metadata": {},
   "source": [
    "- Satisfaction is negatively correlated with it.\n",
    "- Newborn seems also negatively correlated with it.\n",
    "- However, this does not say much, since we are interested on the correlation between left and the COMBINATION of the other features."
   ]
  },
  {
   "attachments": {},
   "cell_type": "markdown",
   "metadata": {},
   "source": [
    "#### All against all:"
   ]
  },
  {
   "cell_type": "code",
   "execution_count": 5,
   "metadata": {},
   "outputs": [
    {
     "data": {
      "text/plain": [
       "array([[1.        , 0.99996988, 0.9998831 , ..., 0.99996263, 0.99991013,\n",
       "        0.99991914],\n",
       "       [0.99996988, 1.        , 0.99993171, ..., 0.99997302, 0.99996628,\n",
       "        0.99996615],\n",
       "       [0.9998831 , 0.99993171, 1.        , ..., 0.99993244, 0.99982927,\n",
       "        0.99997907],\n",
       "       ...,\n",
       "       [0.99996263, 0.99997302, 0.99993244, ..., 1.        , 0.99991097,\n",
       "        0.99997903],\n",
       "       [0.99991013, 0.99996628, 0.99982927, ..., 0.99991097, 1.        ,\n",
       "        0.99989881],\n",
       "       [0.99991914, 0.99996615, 0.99997907, ..., 0.99997903, 0.99989881,\n",
       "        1.        ]])"
      ]
     },
     "execution_count": 5,
     "metadata": {},
     "output_type": "execute_result"
    }
   ],
   "source": [
    "np.corrcoef(df)"
   ]
  },
  {
   "attachments": {},
   "cell_type": "markdown",
   "metadata": {},
   "source": [
    "- We correctly classified 95% of the loyal employees, but only 19% of those who left.\n",
    "- There are few employees who left, so its more difficult to detect.\n",
    "- We can decrease the threshold as from which an employee is considered as likely to leave. **THE CUTOFF**"
   ]
  },
  {
   "attachments": {},
   "cell_type": "markdown",
   "metadata": {},
   "source": [
    "## Step 2: Now that we are confident in the quality of our model, let's look at the significance of the effects."
   ]
  },
  {
   "attachments": {},
   "cell_type": "markdown",
   "metadata": {},
   "source": [
    "#### In R, The summary function provides all the relevant information about the model. In particular, it reports the level of statistical significance, with three stars when it's very strongly significant, to a dot, significance level very low, or nothing, no significant."
   ]
  },
  {
   "cell_type": "code",
   "execution_count": 6,
   "metadata": {},
   "outputs": [
    {
     "name": "stdout",
     "output_type": "stream",
     "text": [
      "Client 1 \n",
      "  Features: [0.38, 0.53, 2.0, 157.0, 3.0, 0.0] \n",
      "  Label: 1\n",
      "Client 2 \n",
      "  Features: [0.8, 0.86, 5.0, 262.0, 6.0, 0.0] \n",
      "  Label: 1\n",
      "Client 3 \n",
      "  Features: [0.11, 0.88, 7.0, 272.0, 4.0, 0.0] \n",
      "  Label: 1\n",
      "Client 4 \n",
      "  Features: [0.72, 0.87, 5.0, 223.0, 5.0, 0.0] \n",
      "  Label: 1\n"
     ]
    }
   ],
   "source": [
    "# Separate features and labels\n",
    "features = df.columns[0:-1]\n",
    "label = df.columns[-1]\n",
    "X, y = df[features].values, df[label].values\n",
    "\n",
    "for n in range(0,4):\n",
    "    print(\"Client\", str(n+1), \"\\n  Features:\",list(X[n]), \"\\n  Label:\", y[n])"
   ]
  },
  {
   "cell_type": "code",
   "execution_count": 7,
   "metadata": {},
   "outputs": [
    {
     "name": "stdout",
     "output_type": "stream",
     "text": [
      "Training cases: 8400\n",
      "Test cases: 3600\n",
      "LogisticRegression(C=100.0, solver='liblinear')\n"
     ]
    }
   ],
   "source": [
    "from sklearn.model_selection import train_test_split\n",
    "from sklearn.linear_model import LogisticRegression\n",
    "\n",
    "\n",
    "# Split data 70%-30% into training set and test set\n",
    "X_train, X_test, y_train, y_test = train_test_split(X, y, test_size=0.30, random_state=0)\n",
    "\n",
    "print ('Training cases: %d\\nTest cases: %d' % (X_train.shape[0], X_test.shape[0]))\n",
    "# Train the model\n",
    "\n",
    "# Set regularization rate\n",
    "reg = 0.01\n",
    "\n",
    "# train a logistic regression model on the training set\n",
    "model = LogisticRegression(C=1/reg, solver=\"liblinear\").fit(X_train, y_train)\n",
    "print(model)"
   ]
  },
  {
   "cell_type": "code",
   "execution_count": 8,
   "metadata": {},
   "outputs": [
    {
     "data": {
      "text/plain": [
       "['../models/Churn_Prediction_Binary.pkl']"
      ]
     },
     "execution_count": 8,
     "metadata": {},
     "output_type": "execute_result"
    }
   ],
   "source": [
    "import joblib\n",
    "\n",
    "# Save the model as a pickle file\n",
    "filename = '../models/Churn_Prediction_Binary.pkl'\n",
    "joblib.dump(model, filename)"
   ]
  },
  {
   "cell_type": "code",
   "execution_count": 9,
   "metadata": {},
   "outputs": [
    {
     "name": "stdout",
     "output_type": "stream",
     "text": [
      "Accuracy:  0.8258333333333333\n"
     ]
    }
   ],
   "source": [
    "from sklearn.metrics import accuracy_score\n",
    "\n",
    "predictions = model.predict(X_test)\n",
    "print('Accuracy: ', accuracy_score(y_test, predictions))"
   ]
  },
  {
   "cell_type": "code",
   "execution_count": 10,
   "metadata": {},
   "outputs": [
    {
     "data": {
      "text/plain": [
       "(array([1622.,  806.,  380.,  353.,   88.,  108.,  118.,   59.,   49.,\n",
       "          17.]),\n",
       " array([0.0028507 , 0.09140245, 0.1799542 , 0.26850596, 0.35705771,\n",
       "        0.44560946, 0.53416121, 0.62271297, 0.71126472, 0.79981647,\n",
       "        0.88836822]),\n",
       " <BarContainer object of 10 artists>)"
      ]
     },
     "execution_count": 10,
     "metadata": {},
     "output_type": "execute_result"
    },
    {
     "data": {
      "image/png": "[encoded data removed]",
      "text/plain": [
       "<Figure size 640x480 with 1 Axes>"
      ]
     },
     "metadata": {},
     "output_type": "display_data"
    }
   ],
   "source": [
    "probas = model.predict_proba(X_test)[:,1]\n",
    "plt.hist(probas)"
   ]
  },
  {
   "attachments": {},
   "cell_type": "markdown",
   "metadata": {},
   "source": [
    "### Can we decide a better CUTOFF value?"
   ]
  },
  {
   "cell_type": "code",
   "execution_count": 11,
   "metadata": {},
   "outputs": [],
   "source": [
    "def draw_confusion_matrix(cm):\n",
    "\n",
    "    print(\n",
    "        f\"             ACTUAL    \\n         0         1\\n    0    {cm[0][0]}     {cm[0][1]}\\n    1     {cm[1][0]}     {cm[1][1]}\"\n",
    "    )\n",
    "\n",
    "    print(\n",
    "        f\"Precision_0 -> Correctly classified with label 0: {cm[0][0]/(cm[0][0]+cm[1][1])}\"\n",
    "    )\n",
    "\n",
    "    print(\n",
    "        f\"Precision_1 -> Correctly classified with label 1: {cm[1][1]/(cm[0][0]+cm[1][1])}\"\n",
    "    )\n",
    "\n",
    "    print(\n",
    "        f\"Accuracy -> Overall percentage of correctly classified: {(cm[0][0]+cm[1][1])/sum(sum(cm))}\"\n",
    "    )"
   ]
  },
  {
   "cell_type": "code",
   "execution_count": 12,
   "metadata": {},
   "outputs": [
    {
     "name": "stdout",
     "output_type": "stream",
     "text": [
      "\n",
      "With CUTOFF = 0.4:\n",
      "             ACTUAL    \n",
      "         0         1\n",
      "    0    2780     249\n",
      "    1     423     148\n",
      "Precision_0 -> Correctly classified with label 0: 0.9494535519125683\n",
      "Precision_1 -> Correctly classified with label 1: 0.050546448087431695\n",
      "Accuracy -> Overall percentage of correctly classified: 0.8133333333333334\n",
      "\n",
      "With CUTOFF = 0.5:\n",
      "             ACTUAL    \n",
      "         0         1\n",
      "    0    2856     173\n",
      "    1     454     117\n",
      "Precision_0 -> Correctly classified with label 0: 0.9606458123107972\n",
      "Precision_1 -> Correctly classified with label 1: 0.039354187689202826\n",
      "Accuracy -> Overall percentage of correctly classified: 0.8258333333333333\n",
      "\n",
      "With CUTOFF = 0.6:\n",
      "             ACTUAL    \n",
      "         0         1\n",
      "    0    2915     114\n",
      "    1     543     28\n",
      "Precision_0 -> Correctly classified with label 0: 0.9904858987427795\n",
      "Precision_1 -> Correctly classified with label 1: 0.009514101257220523\n",
      "Accuracy -> Overall percentage of correctly classified: 0.8175\n",
      "\n",
      "With CUTOFF = 0.7:\n",
      "             ACTUAL    \n",
      "         0         1\n",
      "    0    2966     63\n",
      "    1     558     13\n",
      "Precision_0 -> Correctly classified with label 0: 0.995636119503189\n",
      "Precision_1 -> Correctly classified with label 1: 0.00436388049681101\n",
      "Accuracy -> Overall percentage of correctly classified: 0.8275\n"
     ]
    }
   ],
   "source": [
    "from sklearn.metrics import confusion_matrix\n",
    "\n",
    "cutoffs = [.4,.5,.6,.7]\n",
    "for cutoff in cutoffs:\n",
    "    print(\n",
    "        f\"\\nWith CUTOFF = {cutoff}:\"\n",
    "    )\n",
    "    labels = (probas >= cutoff).astype(int)\n",
    "    cm = confusion_matrix(y_test, labels)\n",
    "    draw_confusion_matrix(cm)"
   ]
  },
  {
   "attachments": {},
   "cell_type": "markdown",
   "metadata": {},
   "source": [
    "- Overall, we correctly classified 82% of ALL observations.\n",
    "- If ALL features were significant:\n",
    "### **Would be due to the fact that with 12,000 employees in the dataset, we have a lot of observations. And something that statisticians know very well is that, as the number of observations increases, the effects all tend to be significant. As a matter of fact, when you're dealing with very \"big data\", say millions of observations, statistical significance usually becomes meaningless. Because even for effects that have in practice no impact, a regression will probably find it significant statistically.**"
   ]
  },
  {
   "attachments": {},
   "cell_type": "markdown",
   "metadata": {},
   "source": [
    "Anyway, since all effects are signifacnt, let's focus on how important they are and their effects."
   ]
  },
  {
   "cell_type": "code",
   "execution_count": 13,
   "metadata": {},
   "outputs": [
    {
     "data": {
      "image/png": "[encoded data removed]",
      "text/plain": [
       "<Figure size 600x600 with 1 Axes>"
      ]
     },
     "metadata": {},
     "output_type": "display_data"
    }
   ],
   "source": [
    "from sklearn.metrics import roc_curve\n",
    "from sklearn.metrics import confusion_matrix\n",
    "import matplotlib\n",
    "import matplotlib.pyplot as plt\n",
    "%matplotlib inline\n",
    "\n",
    "# calculate ROC curve\n",
    "fpr, tpr, thresholds = roc_curve(y_test, probas)\n",
    "\n",
    "# plot ROC curve\n",
    "fig = plt.figure(figsize=(6, 6))\n",
    "# Plot the diagonal 50% line\n",
    "plt.plot([0, 1], [0, 1], 'k--')\n",
    "# Plot the FPR and TPR achieved by our model\n",
    "plt.plot(fpr, tpr)\n",
    "plt.xlabel('False Positive Rate')\n",
    "plt.ylabel('True Positive Rate or Recall')\n",
    "plt.title('ROC Curve')\n",
    "plt.show()"
   ]
  },
  {
   "attachments": {},
   "cell_type": "markdown",
   "metadata": {},
   "source": [
    "- We can use absolute value of the z-value column to assess the importance of the variables. As with the t-value for the linear regression in the case of a logistic regression, the larger the z-value, the more important the effect is.\n",
    "- Satisfaction > Time in company > # Projects and so on..."
   ]
  },
  {
   "attachments": {},
   "cell_type": "markdown",
   "metadata": {},
   "source": [
    "## Use a method, that does not rely on statistics to help the audience to understand the situation\n",
    "## MODEL FREE APPROACH"
   ]
  },
  {
   "cell_type": "markdown",
   "metadata": {},
   "source": [
    "### Plotting if employees left or not, as a function of the **TIME** spent in the company.\n",
    "- Remember, since its a logistic approach. We would get both values in 0 and 1 along all times. But we will not know how many 0s or 1s there are, since they overlapp eachother.\n",
    "- For that, we can aggregate the values, and compute the Mean Attrition Rate by years spent in the company."
   ]
  },
  {
   "attachments": {},
   "cell_type": "markdown",
   "metadata": {},
   "source": [
    "#### The drivers are not directly comparable, some variables are zero or one, some are categories and some are continuous variables with different ranges."
   ]
  },
  {
   "cell_type": "code",
   "execution_count": 14,
   "metadata": {},
   "outputs": [
    {
     "data": {
      "text/plain": [
       "Text(0, 0.5, 'Attrition')"
      ]
     },
     "execution_count": 14,
     "metadata": {},
     "output_type": "execute_result"
    },
    {
     "data": {
      "image/png": "[encoded data removed]",
      "text/plain": [
       "<Figure size 640x480 with 1 Axes>"
      ]
     },
     "metadata": {},
     "output_type": "display_data"
    }
   ],
   "source": [
    "plt.scatter(df[\"Time\"], df[\"Left\"])\n",
    "plt.title(\"Attrition employee and Time\")\n",
    "plt.xlabel(\"Time\")\n",
    "plt.ylabel(\"Attrition\")"
   ]
  },
  {
   "attachments": {},
   "cell_type": "markdown",
   "metadata": {},
   "source": [
    "#### Since Attrition is Binary, we should find another way.\n",
    "- Proportion of leavers by years spent in the company."
   ]
  },
  {
   "cell_type": "code",
   "execution_count": 15,
   "metadata": {},
   "outputs": [
    {
     "data": {
      "text/html": [
       "<div>\n",
       "<style scoped>\n",
       "    .dataframe tbody tr th:only-of-type {\n",
       "        vertical-align: middle;\n",
       "    }\n",
       "\n",
       "    .dataframe tbody tr th {\n",
       "        vertical-align: top;\n",
       "    }\n",
       "\n",
       "    .dataframe thead th {\n",
       "        text-align: right;\n",
       "    }\n",
       "</style>\n",
       "<table border=\"1\" class=\"dataframe\">\n",
       "  <thead>\n",
       "    <tr style=\"text-align: right;\">\n",
       "      <th></th>\n",
       "      <th>Left</th>\n",
       "    </tr>\n",
       "    <tr>\n",
       "      <th>Time</th>\n",
       "      <th></th>\n",
       "    </tr>\n",
       "  </thead>\n",
       "  <tbody>\n",
       "    <tr>\n",
       "      <th>2</th>\n",
       "      <td>0.010262</td>\n",
       "    </tr>\n",
       "    <tr>\n",
       "      <th>3</th>\n",
       "      <td>0.165727</td>\n",
       "    </tr>\n",
       "    <tr>\n",
       "      <th>4</th>\n",
       "      <td>0.240777</td>\n",
       "    </tr>\n",
       "    <tr>\n",
       "      <th>5</th>\n",
       "      <td>0.444240</td>\n",
       "    </tr>\n",
       "    <tr>\n",
       "      <th>6</th>\n",
       "      <td>0.212891</td>\n",
       "    </tr>\n",
       "  </tbody>\n",
       "</table>\n",
       "</div>"
      ],
      "text/plain": [
       "          Left\n",
       "Time          \n",
       "2     0.010262\n",
       "3     0.165727\n",
       "4     0.240777\n",
       "5     0.444240\n",
       "6     0.212891"
      ]
     },
     "execution_count": 15,
     "metadata": {},
     "output_type": "execute_result"
    }
   ],
   "source": [
    "### Mean of Attrition per people spending only 1 year, 2 years, 3 years etc...\n",
    "new_df = pd.DataFrame(df.groupby(df.Time)[\"Left\"].mean())\n",
    "new_df"
   ]
  },
  {
   "cell_type": "code",
   "execution_count": 16,
   "metadata": {},
   "outputs": [
    {
     "data": {
      "text/plain": [
       "Text(0, 0.5, 'Attrition')"
      ]
     },
     "execution_count": 16,
     "metadata": {},
     "output_type": "execute_result"
    },
    {
     "data": {
      "image/png": "[encoded data removed]",
      "text/plain": [
       "<Figure size 640x480 with 1 Axes>"
      ]
     },
     "metadata": {},
     "output_type": "display_data"
    }
   ],
   "source": [
    "plt.scatter(new_df.index, new_df)\n",
    "plt.title(\"Attrition employee and Time\")\n",
    "plt.xlabel(\"Time in years\")\n",
    "plt.ylabel(\"Attrition\")"
   ]
  },
  {
   "attachments": {},
   "cell_type": "markdown",
   "metadata": {},
   "source": [
    "#### We see that attrition seems to be higher on the 5th year spent in the company. However, we can-'t see the amount of people who left."
   ]
  },
  {
   "cell_type": "code",
   "execution_count": 17,
   "metadata": {},
   "outputs": [],
   "source": [
    "new_df_count = pd.DataFrame(df.groupby(df[\"Time\"])[\"Left\"].count())\n",
    "new_df_count.columns = [\"People Left\"]"
   ]
  },
  {
   "cell_type": "code",
   "execution_count": 18,
   "metadata": {},
   "outputs": [
    {
     "data": {
      "text/plain": [
       "<AxesSubplot: xlabel='Time', ylabel='Left'>"
      ]
     },
     "execution_count": 18,
     "metadata": {},
     "output_type": "execute_result"
    },
    {
     "data": {
      "image/png": "[encoded data removed]",
      "text/plain": [
       "<Figure size 640x480 with 1 Axes>"
      ]
     },
     "metadata": {},
     "output_type": "display_data"
    }
   ],
   "source": [
    "import seaborn as sns\n",
    "\n",
    "last_df = pd.concat([new_df,new_df_count],axis=1)\n",
    "sns.scatterplot(data=last_df, x=new_df.index, y=\"Left\", size=\"People Left\", legend=True, sizes=(10, 200))"
   ]
  },
  {
   "attachments": {},
   "cell_type": "markdown",
   "metadata": {},
   "source": [
    "- The attrition rate increases from year to year. On the 5th year, the employees are 44% likely to churn!"
   ]
  },
  {
   "attachments": {},
   "cell_type": "markdown",
   "metadata": {},
   "source": [
    "## Why?\n",
    "- Salary not increases steep enough?\n",
    "- Fail to prepare a carreer plan?\n",
    "- Exogeneous?"
   ]
  },
  {
   "cell_type": "markdown",
   "metadata": {},
   "source": [
    "- We see that in year 6, while the retention rate is still dangerously high it decreases a bit compared to year 5.\n",
    "- What does that mean? Could it be that there is a non linear and non monotonous effect? Meaning that it starts increasing and then it decreases. Or could it be that it's just noise in the data? To assess it we can compute the number of observations related to each dot.\n",
    "- And we could for instance make the same plot as before but with the size of the bubble proportionate to the number of employees in that case. We then obtain this plot and we see that the bigger group is actually the three year old employees and that the small group is indeed the 6 year old employees. On the other hand, if you compute the exact number you can see that this group has 512 observations.\n",
    "- Even though it is the smaller one, we cannot really say that it should be disregarded. It may actually be an interesting case of self selection, those who stay even after passing threshold of 5 years are those who will stay even longer."
   ]
  },
  {
   "cell_type": "markdown",
   "metadata": {},
   "source": [
    "### Plotting if employees left or not \"Attrition Rate\", as a function of the **SATISFACTION**.\n",
    "- Satisfaction is an index and can take any value from 0 to 1. Not like TIME which had only 5 values.\n",
    "- What we can do, is CREATE COHORTS of Satisfaction.\n",
    "- - Not satisfied at all.\n",
    "- - It's Ok.\n",
    "- - Not satisfied enough.\n",
    "- - Very satisfied.\n"
   ]
  },
  {
   "cell_type": "code",
   "execution_count": 19,
   "metadata": {},
   "outputs": [],
   "source": [
    "### Satisfaction vs Left\n",
    "\n",
    "# Let's divide the Satisfaction into BINS\n",
    "df_ = df.copy()\n",
    "df_[\"Satisfaction_Bin\"] = pd.qcut(df['Satisfaction'],q=np.linspace(df[\"Satisfaction\"].min(),df[\"Satisfaction\"].max(),20).tolist(), labels=np.arange(20,1,-1).tolist())\n",
    "\n",
    "attrition_satisfaction_mean = pd.DataFrame(df_.groupby(df_.Satisfaction_Bin)[\"Left\"].mean())\n",
    "\n",
    "attrition_satisfaction_count = pd.DataFrame(df_.groupby(df_.Satisfaction_Bin)[\"Left\"].count())\n"
   ]
  },
  {
   "cell_type": "code",
   "execution_count": 20,
   "metadata": {},
   "outputs": [
    {
     "data": {
      "text/plain": [
       "Text(13, 0.25, 'OKAY')"
      ]
     },
     "execution_count": 20,
     "metadata": {},
     "output_type": "execute_result"
    },
    {
     "data": {
      "image/png": "[encoded data removed]",
      "text/plain": [
       "<Figure size 640x480 with 1 Axes>"
      ]
     },
     "metadata": {},
     "output_type": "display_data"
    }
   ],
   "source": [
    "import seaborn as sns\n",
    "\n",
    "attrition_satisfaction_count.columns = [\"People Left\"]\n",
    "last_df = pd.concat([attrition_satisfaction_mean,attrition_satisfaction_count],axis=1)\n",
    "\n",
    "plt.scatter(attrition_satisfaction_mean.index.categories, \"Left\", \n",
    "             s=\"People Left\",\n",
    "             alpha=0.5, \n",
    "             data=last_df)\n",
    "plt.xlabel(\"Rank of Satisfaction\", size=12)\n",
    "plt.ylabel(\"Average Attrition Rate\", size=12)\n",
    "plt.title(\"Satisfaction and Employee Attrition\", size=12)\n",
    "\n",
    "# HAPPY\n",
    "plt.axvline(x=1.4, color = 'green', linestyle='dashed', linewidth = 2)\n",
    "plt.axvline(x=3.5, color = 'green', linestyle='dashed', linewidth = 2)\n",
    "plt.text(1.7, 0.3, \"HAPPY\\nTO\\nSTAY\")\n",
    "\n",
    "\n",
    "# BURNOUTS\n",
    "plt.axvline(x=10.5, color = 'red', linestyle='dashed', linewidth = 2)\n",
    "plt.axvline(x=3.7, color = 'red', linestyle='dashed', linewidth = 2)\n",
    "plt.text(6, 0.25, \"BURNOUTS\")\n",
    "\n",
    "# OK\n",
    "plt.axvline(x=11, color = 'yellow', linestyle='dashed', linewidth = 2)\n",
    "plt.axvline(x=17.7, color = 'yellow', linestyle='dashed', linewidth = 2)\n",
    "plt.text(13, 0.25, \"OKAY\")\n",
    "\n",
    "# sns.scatterplot(data=last_df, x=attrition_satisfaction_mean.index.categories, y=\"Left\", size=\"People Left\", legend=True, sizes=(2, 200))"
   ]
  },
  {
   "cell_type": "markdown",
   "metadata": {},
   "source": [
    "#### Here we can see NON-MONOTONOUS effects.\n",
    "The employees that are satisfied but still not enough seem to present a higher risk of leaving than other employees that are more or less satisfied. It's probably those employees we've discussed during the second module on \"finding goals within data\". Good performers, but either they worked too hard and were burned out or they were probably recruited directly by the client. In the case of the burned out, they were not as happy as they could have been so they left.\n",
    "And in the case of the high performers, their level of satisfaction was not high enough to retain them from leaving. In any case those are probably the guys we should do something about.\n",
    "- Finally we have the very unsatisfied employees. As expected, those guys report a very high level of attrition "
   ]
  },
  {
   "cell_type": "markdown",
   "metadata": {},
   "source": [
    "## Actually, since we observe highly non-linear effects a more advanced models, such as decision tree or ensemble methods, would probably perform a lot better than a simple logistic regression."
   ]
  },
  {
   "attachments": {},
   "cell_type": "markdown",
   "metadata": {},
   "source": [
    "#### By positive, I mean it in the business sense. It has a positive impact on the retention of the employee."
   ]
  },
  {
   "attachments": {},
   "cell_type": "markdown",
   "metadata": {},
   "source": [
    "- Which reports nicely the relationship between the dependent variable, and the balance.\n",
    "- People will always will understand easier, a plot like this than a story about p-values and t-tests."
   ]
  },
  {
   "attachments": {},
   "cell_type": "markdown",
   "metadata": {},
   "source": [
    "- Achtung!\n",
    "- The relationship between your evaluations and staying at the company, for instance, may go two ways.\n",
    "- The company may decide to fire an employee if she has poor evaluations.\n",
    "- But if another employee decided to leave already, and that she's looking for the job, it may impact her performance. And there may be a delayed effect where the cause is the anticipated departure, leading to a decline in motivation, and the final consequence is a poor evaluation.\n",
    "- Loop of causality -> Causes -> Endogeneity.\n",
    "- Endogeneity -> Brings your effects being estimated inaccurately. So be careful when interpreting the effects you estimate. And see your results as clues, leading you to your destination, but not as decisive facts"
   ]
  },
  {
   "cell_type": "markdown",
   "metadata": {},
   "source": []
  }
 ],
 "metadata": {
  "kernelspec": {
   "display_name": "rin",
   "language": "python",
   "name": "python3"
  },
  "language_info": {
   "codemirror_mode": {
    "name": "ipython",
    "version": 3
   },
   "file_extension": ".py",
   "mimetype": "text/x-python",
   "name": "python",
   "nbconvert_exporter": "python",
   "pygments_lexer": "ipython3",
   "version": "3.8.15"
  },
  "orig_nbformat": 4,
  "vscode": {
   "interpreter": {
    "hash": "0f98b681bdce3f32f2bb16a15c5969ee48ce98cc956bbc786f6e97b4d40fde33"
   }
  }
 },
 "nbformat": 4,
 "nbformat_minor": 2
}
