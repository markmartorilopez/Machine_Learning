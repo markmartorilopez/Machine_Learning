{
 "cells": [
  {
   "attachments": {},
   "cell_type": "markdown",
   "metadata": {},
   "source": [
    "## HY Analyitics to retain best employees"
   ]
  },
  {
   "attachments": {},
   "cell_type": "markdown",
   "metadata": {},
   "source": [
    "#### 1 - We want to use HR analytics to understand why Employees Leave.\n",
    "- To tackle this, we first will normalize all features so they are comparable.\n",
    "- Then, we just have to applied a hierarchical clustering.\n",
    "#### 2 - And to discover the actions that we can take in order to retain our best employees."
   ]
  },
  {
   "cell_type": "code",
   "execution_count": 1,
   "metadata": {},
   "outputs": [
    {
     "name": "stdout",
     "output_type": "stream",
     "text": [
      "Dataset:\n",
      "      S   LPE  NP  ANH  TIC  Newborn\n",
      "0  0.38  0.53   2  157    3        0\n",
      "1  0.80  0.86   5  262    6        0\n",
      "2  0.11  0.88   7  272    4        0\n",
      "3  0.72  0.87   5  223    5        0\n",
      "4  0.37  0.52   2  159    3        0\n",
      "\n",
      "Shape:\n",
      "(2000, 6)\n",
      "\n",
      "Missing Values:\n",
      "S          0\n",
      "LPE        0\n",
      "NP         0\n",
      "ANH        0\n",
      "TIC        0\n",
      "Newborn    0\n",
      "dtype: int64\n"
     ]
    }
   ],
   "source": [
    "import pandas as pd\n",
    "import numpy as np\n",
    "\n",
    "# Read the data\n",
    "df = pd.read_csv(\n",
    "    \"../DATA/HR.csv\"\n",
    ")\n",
    "\n",
    "df = pd.DataFrame(df)\n",
    "\n",
    "print(\n",
    "    f\"Dataset:\\n{df.head(5)}\\n\"\n",
    ")\n",
    "\n",
    "print(\n",
    "    f\"Shape:\\n{df.shape}\"\n",
    ")\n",
    "\n",
    "print(\n",
    "    f\"\\nMissing Values:\\n{df.isnull().sum()}\"\n",
    ")"
   ]
  },
  {
   "attachments": {},
   "cell_type": "markdown",
   "metadata": {},
   "source": [
    "- S: Satisfaction from 0 to 1.\n",
    "- LPE: Last project evaluation by client from 0 to 1.\n",
    "- NP: Number of projects made by employee in the last 12 months.\n",
    "- ANH: Average number of hours worked in the last 12 month by employee.\n",
    "- TIC: Time Spent in Company in the last 12 months.\n",
    "- Newborn: 1 if newborn had in the last 12 months, 0 otherwise."
   ]
  },
  {
   "cell_type": "code",
   "execution_count": 56,
   "metadata": {},
   "outputs": [
    {
     "data": {
      "text/html": [
       "<div>\n",
       "<style scoped>\n",
       "    .dataframe tbody tr th:only-of-type {\n",
       "        vertical-align: middle;\n",
       "    }\n",
       "\n",
       "    .dataframe tbody tr th {\n",
       "        vertical-align: top;\n",
       "    }\n",
       "\n",
       "    .dataframe thead th {\n",
       "        text-align: right;\n",
       "    }\n",
       "</style>\n",
       "<table border=\"1\" class=\"dataframe\">\n",
       "  <thead>\n",
       "    <tr style=\"text-align: right;\">\n",
       "      <th></th>\n",
       "      <th>S</th>\n",
       "      <th>LPE</th>\n",
       "      <th>NP</th>\n",
       "      <th>ANH</th>\n",
       "      <th>TIC</th>\n",
       "      <th>Newborn</th>\n",
       "    </tr>\n",
       "  </thead>\n",
       "  <tbody>\n",
       "    <tr>\n",
       "      <th>count</th>\n",
       "      <td>2000.000000</td>\n",
       "      <td>2000.000000</td>\n",
       "      <td>2000.00000</td>\n",
       "      <td>2000.000000</td>\n",
       "      <td>2000.000000</td>\n",
       "      <td>2000.000000</td>\n",
       "    </tr>\n",
       "    <tr>\n",
       "      <th>mean</th>\n",
       "      <td>0.439955</td>\n",
       "      <td>0.721015</td>\n",
       "      <td>3.87700</td>\n",
       "      <td>207.914000</td>\n",
       "      <td>3.878000</td>\n",
       "      <td>0.052500</td>\n",
       "    </tr>\n",
       "    <tr>\n",
       "      <th>std</th>\n",
       "      <td>0.264734</td>\n",
       "      <td>0.197464</td>\n",
       "      <td>1.81756</td>\n",
       "      <td>61.331904</td>\n",
       "      <td>0.973442</td>\n",
       "      <td>0.223089</td>\n",
       "    </tr>\n",
       "    <tr>\n",
       "      <th>min</th>\n",
       "      <td>0.090000</td>\n",
       "      <td>0.450000</td>\n",
       "      <td>2.00000</td>\n",
       "      <td>126.000000</td>\n",
       "      <td>2.000000</td>\n",
       "      <td>0.000000</td>\n",
       "    </tr>\n",
       "    <tr>\n",
       "      <th>25%</th>\n",
       "      <td>0.110000</td>\n",
       "      <td>0.520000</td>\n",
       "      <td>2.00000</td>\n",
       "      <td>146.000000</td>\n",
       "      <td>3.000000</td>\n",
       "      <td>0.000000</td>\n",
       "    </tr>\n",
       "    <tr>\n",
       "      <th>50%</th>\n",
       "      <td>0.410000</td>\n",
       "      <td>0.790000</td>\n",
       "      <td>4.00000</td>\n",
       "      <td>225.000000</td>\n",
       "      <td>4.000000</td>\n",
       "      <td>0.000000</td>\n",
       "    </tr>\n",
       "    <tr>\n",
       "      <th>75%</th>\n",
       "      <td>0.730000</td>\n",
       "      <td>0.900000</td>\n",
       "      <td>6.00000</td>\n",
       "      <td>262.000000</td>\n",
       "      <td>5.000000</td>\n",
       "      <td>0.000000</td>\n",
       "    </tr>\n",
       "    <tr>\n",
       "      <th>max</th>\n",
       "      <td>0.920000</td>\n",
       "      <td>1.000000</td>\n",
       "      <td>7.00000</td>\n",
       "      <td>310.000000</td>\n",
       "      <td>6.000000</td>\n",
       "      <td>1.000000</td>\n",
       "    </tr>\n",
       "  </tbody>\n",
       "</table>\n",
       "</div>"
      ],
      "text/plain": [
       "                 S          LPE          NP          ANH          TIC  \\\n",
       "count  2000.000000  2000.000000  2000.00000  2000.000000  2000.000000   \n",
       "mean      0.439955     0.721015     3.87700   207.914000     3.878000   \n",
       "std       0.264734     0.197464     1.81756    61.331904     0.973442   \n",
       "min       0.090000     0.450000     2.00000   126.000000     2.000000   \n",
       "25%       0.110000     0.520000     2.00000   146.000000     3.000000   \n",
       "50%       0.410000     0.790000     4.00000   225.000000     4.000000   \n",
       "75%       0.730000     0.900000     6.00000   262.000000     5.000000   \n",
       "max       0.920000     1.000000     7.00000   310.000000     6.000000   \n",
       "\n",
       "           Newborn  \n",
       "count  2000.000000  \n",
       "mean      0.052500  \n",
       "std       0.223089  \n",
       "min       0.000000  \n",
       "25%       0.000000  \n",
       "50%       0.000000  \n",
       "75%       0.000000  \n",
       "max       1.000000  "
      ]
     },
     "execution_count": 56,
     "metadata": {},
     "output_type": "execute_result"
    }
   ],
   "source": [
    "df.describe()"
   ]
  },
  {
   "cell_type": "code",
   "execution_count": 57,
   "metadata": {},
   "outputs": [
    {
     "data": {
      "text/html": [
       "<div>\n",
       "<style scoped>\n",
       "    .dataframe tbody tr th:only-of-type {\n",
       "        vertical-align: middle;\n",
       "    }\n",
       "\n",
       "    .dataframe tbody tr th {\n",
       "        vertical-align: top;\n",
       "    }\n",
       "\n",
       "    .dataframe thead th {\n",
       "        text-align: right;\n",
       "    }\n",
       "</style>\n",
       "<table border=\"1\" class=\"dataframe\">\n",
       "  <thead>\n",
       "    <tr style=\"text-align: right;\">\n",
       "      <th></th>\n",
       "      <th>S</th>\n",
       "      <th>LPE</th>\n",
       "      <th>NP</th>\n",
       "      <th>ANH</th>\n",
       "      <th>TIC</th>\n",
       "      <th>Newborn</th>\n",
       "    </tr>\n",
       "  </thead>\n",
       "  <tbody>\n",
       "    <tr>\n",
       "      <th>0</th>\n",
       "      <td>0.349398</td>\n",
       "      <td>0.145455</td>\n",
       "      <td>0.0</td>\n",
       "      <td>0.168478</td>\n",
       "      <td>0.25</td>\n",
       "      <td>0.0</td>\n",
       "    </tr>\n",
       "    <tr>\n",
       "      <th>1</th>\n",
       "      <td>0.855422</td>\n",
       "      <td>0.745455</td>\n",
       "      <td>0.6</td>\n",
       "      <td>0.739130</td>\n",
       "      <td>1.00</td>\n",
       "      <td>0.0</td>\n",
       "    </tr>\n",
       "  </tbody>\n",
       "</table>\n",
       "</div>"
      ],
      "text/plain": [
       "          S       LPE   NP       ANH   TIC  Newborn\n",
       "0  0.349398  0.145455  0.0  0.168478  0.25      0.0\n",
       "1  0.855422  0.745455  0.6  0.739130  1.00      0.0"
      ]
     },
     "execution_count": 57,
     "metadata": {},
     "output_type": "execute_result"
    }
   ],
   "source": [
    "from sklearn.preprocessing import MinMaxScaler\n",
    "import matplotlib.pyplot as plt\n",
    "# Get a scaler object\n",
    "scaler = MinMaxScaler()\n",
    "\n",
    "# the scale function subtracts the mean and divides by the standard deviation of your variable\n",
    "\n",
    "# Create a new dataframe for the scaled values\n",
    "df_2_normalized = df.copy()\n",
    "\n",
    "# Normalize the numeric columns\n",
    "df_normalized = scaler.fit_transform(df_2_normalized)\n",
    "\n",
    "df_n = pd.DataFrame(df_normalized, columns=df.columns)\n",
    "df_n.head(2)"
   ]
  },
  {
   "attachments": {},
   "cell_type": "markdown",
   "metadata": {},
   "source": [
    "## Visualize high-dimensional data - How many clusters?"
   ]
  },
  {
   "cell_type": "code",
   "execution_count": 58,
   "metadata": {},
   "outputs": [
    {
     "data": {
      "image/png": "[encoded data removed]",
      "text/plain": [
       "<Figure size 640x480 with 1 Axes>"
      ]
     },
     "metadata": {},
     "output_type": "display_data"
    }
   ],
   "source": [
    "import matplotlib.pyplot as plt\n",
    "%matplotlib inline\n",
    "from sklearn.decomposition import PCA\n",
    "\n",
    "pca = PCA(n_components=2).fit(df_n)\n",
    "features_2d = pca.transform(df_n)\n",
    "\n",
    "plt.scatter(features_2d[:,0],features_2d[:,1])\n",
    "plt.xlabel('Dimension 1')\n",
    "plt.ylabel('Dimension 2')\n",
    "plt.title('4 Distinguished clusters found')\n",
    "plt.show()"
   ]
  },
  {
   "attachments": {},
   "cell_type": "markdown",
   "metadata": {},
   "source": [
    "### Run proper clustering approach"
   ]
  },
  {
   "cell_type": "code",
   "execution_count": 59,
   "metadata": {},
   "outputs": [],
   "source": [
    "from sklearn.cluster import AgglomerativeClustering\n",
    "df_clustered = AgglomerativeClustering(n_clusters=4).fit(df_n)"
   ]
  },
  {
   "attachments": {},
   "cell_type": "markdown",
   "metadata": {},
   "source": [
    "### Make Business Decision and Visualize the data"
   ]
  },
  {
   "cell_type": "code",
   "execution_count": 61,
   "metadata": {},
   "outputs": [
    {
     "name": "stdout",
     "output_type": "stream",
     "text": [
      "After clustering, we can observe the mean features corresponding to each group:\n",
      "\n",
      "       Satisfaction  Evaluation  # Projects  # Hours_Year      Time  Newborn\n",
      "group                                                                       \n",
      "0          0.737136    0.873072    4.486400    237.627200  4.824000      0.0\n",
      "1          0.445524    0.719524    3.780952    204.352381  3.866667      1.0\n",
      "2          0.102075    0.871761    6.220126    276.844864  4.100629      0.0\n",
      "3          0.408235    0.510694    2.000000    143.504414  3.000000      0.0\n"
     ]
    }
   ],
   "source": [
    "df[\"group\"] = df_clustered.labels_\n",
    "\n",
    "informative_table = df.groupby(df.group)[df.columns].mean().drop(\"group\", axis = 1)\n",
    "informative_table.columns =[\"Satisfaction\",\"Evaluation\",\"# Projects\",\"# Hours_Year\",\"Time\",\"Newborn\"]\n",
    "\n",
    "print(\n",
    "    f\"After clustering, we can observe the mean features corresponding to each group:\\n\\n{informative_table}\"\n",
    ")\n"
   ]
  },
  {
   "attachments": {},
   "cell_type": "markdown",
   "metadata": {},
   "source": [
    "## CONCLUSIONS\n",
    "### - Group 0: **High Pot.** - Have a good evaluation rate, and lots of projects. But in contrast, they are very satisfied.\n",
    "### **Solution:** Offering better salary or projects does not seem to be enough to retain them, maybe private conversation / relocation.\n",
    "###\n",
    "### - Group 1: **Misc.** - Not particular attributes.\n",
    "### **Solution:** Small group, we can not explain everything and some results may be due to exogenal attributes.\n",
    "###\n",
    "### - Group 2: **Burned ones** - Have a good evaluation rate, and lots of projects. They have worked the most but are the least satisfied.\n",
    "### **Solution:** High Priority to Retain. We should try to predict the next ones.\n",
    "###\n",
    "### - Group 3: **Low Perf.** - Did not do a lot of projects and have not been a lot of time in the business. Also, they have worked less hours and have not been then utilized that much.\n",
    "### **Solution:** Not a Priority to Retain.\n",
    "###\n",
    "### ALSO:\n",
    "#### Newborn seems an exogenous variable. Since it is a non-actionable variable, we should not have taken it into account.\n",
    "#### The level of satisfaction is a consequence of more attributes, it is again, not actionable. However, it relies on the other attributes.\n"
   ]
  }
 ],
 "metadata": {
  "kernelspec": {
   "display_name": "Python 3",
   "language": "python",
   "name": "python3"
  },
  "language_info": {
   "codemirror_mode": {
    "name": "ipython",
    "version": 3
   },
   "file_extension": ".py",
   "mimetype": "text/x-python",
   "name": "python",
   "nbconvert_exporter": "python",
   "pygments_lexer": "ipython3",
   "version": "3.8.0"
  },
  "orig_nbformat": 4,
  "vscode": {
   "interpreter": {
    "hash": "df0893f56f349688326838aaeea0de204df53a132722cbd565e54b24a8fec5f6"
   }
  }
 },
 "nbformat": 4,
 "nbformat_minor": 2
}
